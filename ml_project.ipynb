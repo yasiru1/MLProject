{
  "nbformat": 4,
  "nbformat_minor": 0,
  "metadata": {
    "kernelspec": {
      "name": "python3",
      "display_name": "Python 3",
      "language": "python"
    },
    "language_info": {
      "name": "python",
      "version": "3.7.9",
      "mimetype": "text/x-python",
      "codemirror_mode": {
        "name": "ipython",
        "version": 3
      },
      "pygments_lexer": "ipython3",
      "nbconvert_exporter": "python",
      "file_extension": ".py"
    },
    "colab": {
      "name": "project_food.ipynb",
      "provenance": []
    }
  },
  "cells": [
    {
      "cell_type": "code",
      "metadata": {
        "colab": {
          "base_uri": "https://localhost:8080/"
        },
        "id": "86PiofwRTBGx",
        "outputId": "0c30e940-41c2-49ab-dee8-05c13268616b"
      },
      "source": [
        "from google.colab import drive\r\n",
        "drive.mount('/content/gdrive')"
      ],
      "execution_count": null,
      "outputs": [
        {
          "output_type": "stream",
          "text": [
            "Mounted at /content/gdrive\n"
          ],
          "name": "stdout"
        }
      ]
    },
    {
      "cell_type": "code",
      "metadata": {
        "id": "763t_OPGdQdO"
      },
      "source": [
        "import os\r\n",
        "\r\n",
        "os.environ['KAGGLE_CONFIG_DIR'] = \"/content/gdrive/My Drive/Kaggle\"\r\n",
        "%cd /content/gdrive/My Drive/Kaggle\r\n",
        "\r\n",
        "!kaggle datasets download --force -d moltean/fruits\r\n",
        "!unzip fruits.zip"
      ],
      "execution_count": null,
      "outputs": []
    },
    {
      "cell_type": "code",
      "metadata": {
        "_uuid": "c1aec53f-9c87-4308-a9fc-aedc719af782",
        "_cell_guid": "181215bd-16b9-4acb-96a9-45b38849813d",
        "trusted": true,
        "id": "tUAT4FXla4an",
        "outputId": "2fe91327-d5bb-4c28-bee7-f4c06318a213"
      },
      "source": [
        "# load libraries \n",
        "import os\n",
        "import pandas as pd \n",
        "import matplotlib.pyplot as plt\n",
        "import numpy as np\n",
        "import cv2 \n",
        "import pandas as pd\n",
        "import tensorflow as tf \n",
        "import seaborn as sn\n",
        "from keras.utils import np_utils\n",
        "from sklearn.utils import shuffle\n",
        "from sklearn.metrics import zero_one_loss,confusion_matrix\n",
        "from keras.layers import Activation,Dropout,Flatten,Dense,MaxPooling2D\n",
        "from keras.layers import GlobalAveragePooling2D,Conv2D,BatchNormalization,Dropout\n",
        "from keras.applications.vgg16 import VGG16\n",
        "from keras.applications import MobileNetV2,MobileNet,ResNet50\n",
        "from keras.models import Model\n",
        "from keras.callbacks import EarlyStopping\n",
        "\n",
        "\n",
        "type_fruits =[\"Apple\",\"Banana\",\"Plum\",\"Cherry\",\"Grape \",\"Pear\",\"Peach\",\"Pepper\",\"Tomato\",\"Potato\"]\n",
        "\n",
        "train_dir = 'fruits-360/Training'\n",
        "test_dir = 'fruits-360/Test'\n",
        "\n",
        "IMAGE_SIZE = (32,32)\n",
        "trainLables, trainImages=[], []\n",
        "testLables, testImages=[], []\n",
        "\n",
        "# load data\n",
        "def load_data(directory,image_list,lable_list):\n",
        "    for root, dirs, files in os.walk(directory, topdown=False):\n",
        "        for dir_name in dirs: \n",
        "            for type_name in type_fruits: \n",
        "                if dir_name.startswith(type_name):                    \n",
        "                    for filenames in os.listdir(directory +\"/\"+dir_name):      \n",
        "                        image = cv2.imread(directory +\"/\"+ dir_name +\"/\"+filenames)\n",
        "                        image = cv2.cvtColor(image, cv2.COLOR_BGR2RGB)\n",
        "                        image = cv2.resize(image, IMAGE_SIZE) \n",
        "                        image_list.append(image)\n",
        "                        lable_list.append(type_fruits.index(type_name))\n",
        "                    \n",
        "# load train data                   \n",
        "load_data(train_dir,trainImages,trainLables) \n",
        "print('Train images ',len(trainImages))\n",
        "print('Train lables ',len(trainLables))\n",
        "\n",
        "\n",
        "\n",
        "# load test data\n",
        "load_data(test_dir,testImages,testLables) \n",
        "print(\"Test images  \",len(testImages))\n",
        "print(\"Test lables  \",len(testLables))\n",
        "\n",
        "\n",
        "\n",
        "train_images = np.array(trainImages, dtype = 'float32')\n",
        "train_labels = np.array(trainLables, dtype = 'i')                      \n",
        "test_images  = np.array(testImages, dtype = 'float32')\n",
        "test_labels  = np.array(testLables, dtype = 'i')"
      ],
      "execution_count": null,
      "outputs": [
        {
          "output_type": "stream",
          "text": [
            "Train images  32607\n",
            "Train lables  32607\n",
            "Test images   10906\n",
            "Test lables   10906\n"
          ],
          "name": "stdout"
        }
      ]
    },
    {
      "cell_type": "markdown",
      "metadata": {
        "id": "BkEhz8HJeLbF"
      },
      "source": [
        "**Pre Processing data**"
      ]
    },
    {
      "cell_type": "code",
      "metadata": {
        "_uuid": "09742736-bc0c-4135-a55d-3a581331be95",
        "_cell_guid": "92310c4a-ec6f-408e-ac92-29e9407a2f58",
        "trusted": true,
        "id": "vxunTj47gj6s"
      },
      "source": [
        "# pre-process the data\n",
        "\n",
        "train_images = train_images / 255.0\n",
        "test_images  = test_images / 255.0\n",
        "\n",
        "# shuffle the data\n",
        "train_images,train_labels = shuffle(train_images,train_labels)\n",
        "test_images,test_labels  = shuffle(test_images,test_labels )\n",
        "\n",
        "no_of_classes = len(np.unique(train_labels))\n",
        "train_labels = np_utils.to_categorical(train_labels,no_of_classes)\n",
        "test_labels = np_utils.to_categorical(test_labels,no_of_classes)"
      ],
      "execution_count": null,
      "outputs": []
    },
    {
      "cell_type": "markdown",
      "metadata": {
        "id": "5fq-LwJXeUwS"
      },
      "source": [
        "**First 9 images after the shuffle**"
      ]
    },
    {
      "cell_type": "code",
      "metadata": {
        "_uuid": "b11ecb10-2c3e-4dd2-b9e3-a71a8581af33",
        "_cell_guid": "c047397a-a6a8-47dc-b537-444ca025bb91",
        "trusted": true,
        "id": "McRfsXCgDHrS",
        "outputId": "5bb15b00-2bb6-4918-ae44-e8407ac56845"
      },
      "source": [
        "fig, axis = plt.subplots(3, 3, figsize=(14, 14))\n",
        "for i, ax in enumerate(axis.flat):\n",
        "    ax.imshow(test_images[i])        \n",
        "    test_labels_idx = np.argmax(test_labels[i])\n",
        "    ax.axis('off')\n",
        "    ax.set(title = f\"{type_fruits[test_labels_idx]} \")"
      ],
      "execution_count": null,
      "outputs": [
        {
          "output_type": "display_data",
          "data": {
            "text/plain": [
              "<Figure size 1008x1008 with 9 Axes>"
            ],
            "image/png": "[encoded data removed]"
          },
          "metadata": {
            "tags": []
          }
        }
      ]
    },
    {
      "cell_type": "code",
      "metadata": {
        "_uuid": "c55c3b7c-3876-4f1b-9a20-a691f809d78a",
        "_cell_guid": "3ee30cbe-140a-4ff0-a62d-c47b1bc569a5",
        "trusted": true,
        "id": "5_WKHlbGjz5u",
        "outputId": "0e03d2d3-883b-4821-e1c0-cd4dd09c7bca"
      },
      "source": [
        "modelFFN1 = tf.keras.Sequential()\n",
        "modelFFN1.add(Dense(12,input_shape = (32,32, 3), activation='relu'))\n",
        "modelFFN1.add(Flatten()) \n",
        "modelFFN1.add(Dense(10 , activation='sigmoid')) \n",
        "modelFFN1.compile(loss ='categorical_crossentropy',optimizer ='adam',metrics =['accuracy'])\n",
        "modelFFN1.summary()"
      ],
      "execution_count": null,
      "outputs": [
        {
          "output_type": "stream",
          "text": [
            "Model: \"sequential_21\"\n",
            "_________________________________________________________________\n",
            "Layer (type)                 Output Shape              Param #   \n",
            "=================================================================\n",
            "dense_60 (Dense)             (None, 32, 32, 12)        48        \n",
            "_________________________________________________________________\n",
            "flatten_17 (Flatten)         (None, 12288)             0         \n",
            "_________________________________________________________________\n",
            "dense_61 (Dense)             (None, 10)                122890    \n",
            "=================================================================\n",
            "Total params: 122,938\n",
            "Trainable params: 122,938\n",
            "Non-trainable params: 0\n",
            "_________________________________________________________________\n"
          ],
          "name": "stdout"
        }
      ]
    },
    {
      "cell_type": "code",
      "metadata": {
        "_uuid": "425c049a-dbac-43a1-adc7-f624726d5fc4",
        "_cell_guid": "e23c5f1d-e391-4bd4-a44c-6c3e9b12803c",
        "trusted": true,
        "id": "H3D7v2Epk8nP",
        "outputId": "ceb06158-b068-4198-cc98-3addc554c20a"
      },
      "source": [
        "historyFFN1 = modelFFN1.fit(train_images, train_labels, epochs=10\n",
        "          ,validation_data=(test_images, test_labels) )"
      ],
      "execution_count": null,
      "outputs": [
        {
          "output_type": "stream",
          "text": [
            "Epoch 1/10\n",
            "1019/1019 [==============================] - 5s 4ms/step - loss: 0.7734 - accuracy: 0.7579 - val_loss: 0.4033 - val_accuracy: 0.8625\n",
            "Epoch 2/10\n",
            "1019/1019 [==============================] - 4s 4ms/step - loss: 0.0783 - accuracy: 0.9849 - val_loss: 0.2287 - val_accuracy: 0.9098\n",
            "Epoch 3/10\n",
            "1019/1019 [==============================] - 4s 4ms/step - loss: 0.0314 - accuracy: 0.9952 - val_loss: 0.1771 - val_accuracy: 0.9418\n",
            "Epoch 4/10\n",
            "1019/1019 [==============================] - 4s 4ms/step - loss: 0.0159 - accuracy: 0.9974 - val_loss: 0.1372 - val_accuracy: 0.9509\n",
            "Epoch 5/10\n",
            "1019/1019 [==============================] - 4s 4ms/step - loss: 0.0095 - accuracy: 0.9985 - val_loss: 0.2440 - val_accuracy: 0.9232\n",
            "Epoch 6/10\n",
            "1019/1019 [==============================] - 4s 4ms/step - loss: 0.0133 - accuracy: 0.9974 - val_loss: 0.1546 - val_accuracy: 0.9503\n",
            "Epoch 7/10\n",
            "1019/1019 [==============================] - 4s 4ms/step - loss: 0.0032 - accuracy: 0.9997 - val_loss: 0.1367 - val_accuracy: 0.9558\n",
            "Epoch 8/10\n",
            "1019/1019 [==============================] - 4s 4ms/step - loss: 0.0197 - accuracy: 0.9937 - val_loss: 0.1454 - val_accuracy: 0.9550\n",
            "Epoch 9/10\n",
            "1019/1019 [==============================] - 4s 4ms/step - loss: 0.0021 - accuracy: 0.9997 - val_loss: 0.1708 - val_accuracy: 0.9454\n",
            "Epoch 10/10\n",
            "1019/1019 [==============================] - 4s 4ms/step - loss: 0.0020 - accuracy: 1.0000 - val_loss: 0.1175 - val_accuracy: 0.9621\n"
          ],
          "name": "stdout"
        }
      ]
    },
    {
      "cell_type": "code",
      "metadata": {
        "_uuid": "1f9eac90-8b02-47a1-8491-1eacdf0ec3e2",
        "_cell_guid": "09b03691-f92d-42a3-a4c1-b91b53b277c4",
        "trusted": true,
        "id": "pGWR1_tylJWV",
        "outputId": "447e0dc8-89ab-4e10-cfe5-4f1a3b0b92b4"
      },
      "source": [
        "modelFFN1.evaluate(test_images,  test_labels, verbose=2)"
      ],
      "execution_count": null,
      "outputs": [
        {
          "output_type": "stream",
          "text": [
            "341/341 - 1s - loss: 0.1175 - accuracy: 0.9621\n"
          ],
          "name": "stdout"
        },
        {
          "output_type": "execute_result",
          "data": {
            "text/plain": [
              "[0.11754690855741501, 0.9621309638023376]"
            ]
          },
          "metadata": {
            "tags": []
          },
          "execution_count": 88
        }
      ]
    },
    {
      "cell_type": "markdown",
      "metadata": {
        "id": "huxNkJ5_eiuJ"
      },
      "source": [
        "**Zero one loss function**"
      ]
    },
    {
      "cell_type": "code",
      "metadata": {
        "_uuid": "48ff5cbb-43e0-4f94-8a0c-50bcd8af490d",
        "_cell_guid": "6f353edd-711f-48d5-9f4a-e43f852f328f",
        "trusted": true,
        "id": "ZbDnweteBTCt"
      },
      "source": [
        "def zero_one(pred_labels,test_labels):\n",
        "\n",
        "    pred_labels_idx = []\n",
        "    for i in range(len(pred_labels)):\n",
        "        pred_labels_idx.append(np.argmax(pred_labels[i])) \n",
        "    \n",
        "    test_labels_idx = []\n",
        "    for i in range(len(test_labels)):\n",
        "        test_labels_idx.append(np.argmax(test_labels[i]))     \n",
        "\n",
        "    return zero_one_loss(test_labels_idx, pred_labels_idx)"
      ],
      "execution_count": null,
      "outputs": []
    },
    {
      "cell_type": "code",
      "metadata": {
        "_uuid": "b80bef8c-33ea-41be-b886-21dd24cb737e",
        "_cell_guid": "45c6fd88-1dc2-46e9-bb62-ed8cd3d464ff",
        "trusted": true,
        "id": "8mpPx65TBsgg",
        "outputId": "130f94ab-5d9e-49fe-92c0-930e498403ef"
      },
      "source": [
        "pred_labels = modelFFN1.predict(test_images)\n",
        "zo_lossFFN1 = zero_one(pred_labels,test_labels)\n",
        "print(\"Zero one loss: \",zo_lossFFN1)"
      ],
      "execution_count": null,
      "outputs": [
        {
          "output_type": "stream",
          "text": [
            "Zero one loss:  0.037869062901155326\n"
          ],
          "name": "stdout"
        }
      ]
    },
    {
      "cell_type": "code",
      "metadata": {
        "_uuid": "46c848cb-dfd9-49d9-b96d-f7aa7e363424",
        "_cell_guid": "0ea577ef-81e9-4c70-b5e9-962af862e0e7",
        "trusted": true,
        "id": "b5sKWutgB2u9",
        "outputId": "c25ed28e-062c-4f9a-ab15-025a66072a1c"
      },
      "source": [
        "acc = historyFFN1.history['accuracy']\n",
        "val_acc = historyFFN1.history['val_accuracy']\n",
        "\n",
        "loss = historyFFN1.history['loss']\n",
        "val_loss = historyFFN1.history['val_loss']\n",
        "\n",
        "epochs_range = range(10)\n",
        "\n",
        "plt.figure(figsize=(8, 8))\n",
        "plt.subplot(1, 2, 1)\n",
        "plt.plot(epochs_range, acc, label='Training Accuracy')\n",
        "plt.plot(epochs_range, val_acc, label='Validation Accuracy')\n",
        "plt.legend(loc='lower right')\n",
        "plt.title('Training and Validation Accuracy')\n",
        "\n",
        "plt.subplot(1, 2, 2)\n",
        "plt.plot(epochs_range, loss, label='Training Loss')\n",
        "plt.plot(epochs_range, val_loss, label='Validation Loss')\n",
        "plt.legend(loc='upper right')\n",
        "plt.title('Training and Validation Loss')\n",
        "plt.show()"
      ],
      "execution_count": null,
      "outputs": [
        {
          "output_type": "display_data",
          "data": {
            "text/plain": [
              "<Figure size 576x576 with 2 Axes>"
            ],
            "image/png": "[encoded data removed]"
          },
          "metadata": {
            "tags": []
          }
        }
      ]
    },
    {
      "cell_type": "code",
      "metadata": {
        "_uuid": "f5edaeaf-fe72-4491-b59b-56754ab40c94",
        "_cell_guid": "3fb3dc26-64bb-4f6a-9e47-efaad348bb2d",
        "trusted": true,
        "id": "llJfpOlwCyX1",
        "outputId": "169f4fd8-2bd6-4305-cb41-7bc845505959"
      },
      "source": [
        "fig, axis = plt.subplots(3, 3, figsize=(14, 14))\n",
        "for i, ax in enumerate(axis.flat):\n",
        "    ax.imshow(test_images[i])    \n",
        "    pred_idx = np.argmax(pred_labels[i])\n",
        "    test_labels_idx = np.argmax(test_labels[i])\n",
        "    ax.axis('off')\n",
        "    ax.set(title = f\"{type_fruits[test_labels_idx]} : {type_fruits[pred_idx]}\")"
      ],
      "execution_count": null,
      "outputs": [
        {
          "output_type": "display_data",
          "data": {
            "text/plain": [
              "<Figure size 1008x1008 with 9 Axes>"
            ],
            "image/png": "[encoded data removed]"
          },
          "metadata": {
            "tags": []
          }
        }
      ]
    },
    {
      "cell_type": "code",
      "metadata": {
        "_uuid": "a4b38d21-11fc-4ea5-ae4c-d00312948381",
        "_cell_guid": "ffd29d89-25b5-40e7-8bf1-2e1d7498177d",
        "trusted": true,
        "id": "mK5w2V0bDccN",
        "outputId": "8c840fa6-e242-408b-d79f-5218eb6037a6"
      },
      "source": [
        "sn.set(font_scale=1.0)\n",
        "pred_labels_idx = []\n",
        "for i in range(len(pred_labels)):\n",
        "    pred_labels_idx.append(np.argmax(pred_labels[i])) \n",
        "    \n",
        "test_labels_idx = []\n",
        "for i in range(len(test_labels)):\n",
        "    test_labels_idx.append(np.argmax(test_labels[i])) \n",
        "\n",
        "CM = confusion_matrix(test_labels_idx, pred_labels_idx)\n",
        "ax = plt.axes()\n",
        "sn.heatmap(CM, annot=True, \n",
        "           annot_kws={\"size\": 10}, \n",
        "           fmt=\"d\",\n",
        "           xticklabels=type_fruits, \n",
        "           yticklabels=type_fruits, ax = ax)\n",
        "ax.set_title('Confusion matrix')\n",
        "plt.show()"
      ],
      "execution_count": null,
      "outputs": [
        {
          "output_type": "display_data",
          "data": {
            "text/plain": [
              "<Figure size 432x288 with 2 Axes>"
            ],
            "image/png": "[encoded data removed]"
          },
          "metadata": {
            "tags": []
          }
        }
      ]
    },
    {
      "cell_type": "code",
      "metadata": {
        "_uuid": "8f5e5f95-a109-4a1d-8637-fda250a26dd6",
        "_cell_guid": "f2011884-6d63-4f2a-9f81-68af2c66bdc4",
        "trusted": true,
        "id": "sZcP8dvNEwXA",
        "outputId": "894673a9-9fb8-484e-af43-4f2af5affed5"
      },
      "source": [
        "mislabeled_images_idx =[]\n",
        "\n",
        "for x in range(len(test_labels_idx)): \n",
        "    if(pred_labels_idx[x] != test_labels_idx[x]):\n",
        "        mislabeled_images_idx.append(x)\n",
        "#print_mislabeled_images(class_names, test_images, test_labels_idx, y_pred_idx)\n",
        "\n",
        "\n",
        "fig = plt.figure(figsize=(10,10))\n",
        "fig.suptitle(\"Some of mislabeled image\", fontsize=16)\n",
        "for i in range(16):\n",
        "    plt.subplot(4,4,i+1)\n",
        "    plt.xticks([])\n",
        "    plt.yticks([])\n",
        "    plt.grid(False)\n",
        "    index   =mislabeled_images_idx[i]    \n",
        "    real    =type_fruits[test_labels_idx[index]]\n",
        "    predict =type_fruits[pred_labels_idx[index]]\n",
        "    plt.xlabel(f\"{real} : {predict}\")\n",
        "    plt.imshow(test_images[index], cmap=plt.cm.binary)  \n",
        "plt.show()"
      ],
      "execution_count": null,
      "outputs": [
        {
          "output_type": "display_data",
          "data": {
            "text/plain": [
              "<Figure size 720x720 with 16 Axes>"
            ],
            "image/png": "[encoded data removed]"
          },
          "metadata": {
            "tags": []
          }
        }
      ]
    },
    {
      "cell_type": "code",
      "metadata": {
        "_uuid": "ac4ecfc9-f7f6-47bb-ac4a-9615f56a955f",
        "_cell_guid": "d0ea4e86-63f1-45c1-99b6-dd4b1968e90e",
        "trusted": true,
        "id": "Rwb10X1-E-rV",
        "outputId": "c8e71ad6-bdbb-4025-8f1f-c9e9b42e0331"
      },
      "source": [
        "modelFFN2 = tf.keras.Sequential()\n",
        "modelFFN2.add(Dense(32,input_shape = (32,32, 3), activation='relu'))\n",
        "modelFFN2.add(Flatten()) \n",
        "modelFFN2.add(Dense(10 , activation='sigmoid')) \n",
        "\n",
        "modelFFN2.compile(loss ='categorical_crossentropy', \n",
        "                     optimizer ='adam', \n",
        "                   metrics =['accuracy']) \n",
        "modelFFN2.summary()"
      ],
      "execution_count": null,
      "outputs": [
        {
          "output_type": "stream",
          "text": [
            "Model: \"sequential_22\"\n",
            "_________________________________________________________________\n",
            "Layer (type)                 Output Shape              Param #   \n",
            "=================================================================\n",
            "dense_62 (Dense)             (None, 32, 32, 32)        128       \n",
            "_________________________________________________________________\n",
            "flatten_18 (Flatten)         (None, 32768)             0         \n",
            "_________________________________________________________________\n",
            "dense_63 (Dense)             (None, 10)                327690    \n",
            "=================================================================\n",
            "Total params: 327,818\n",
            "Trainable params: 327,818\n",
            "Non-trainable params: 0\n",
            "_________________________________________________________________\n"
          ],
          "name": "stdout"
        }
      ]
    },
    {
      "cell_type": "code",
      "metadata": {
        "_uuid": "23d64e9e-d71b-4eee-acb9-fb058d4f36b1",
        "_cell_guid": "76b98651-c37c-4b27-acc2-5ea24dd627c3",
        "trusted": true,
        "id": "M3FwZcRSFOss",
        "outputId": "19b152f3-e824-44ef-a314-682eeeb73ece"
      },
      "source": [
        "historyFFN2= modelFFN2.fit(train_images, train_labels, epochs=10\n",
        "          ,validation_data=(test_images, test_labels) )"
      ],
      "execution_count": null,
      "outputs": [
        {
          "output_type": "stream",
          "text": [
            "Epoch 1/10\n",
            "1019/1019 [==============================] - 4s 4ms/step - loss: 0.0102 - accuracy: 0.9973 - val_loss: 0.0938 - val_accuracy: 0.9689\n",
            "Epoch 2/10\n",
            "1019/1019 [==============================] - 5s 5ms/step - loss: 3.8469e-04 - accuracy: 1.0000 - val_loss: 0.0889 - val_accuracy: 0.9710\n",
            "Epoch 3/10\n",
            "1019/1019 [==============================] - 4s 4ms/step - loss: 2.3860e-04 - accuracy: 1.0000 - val_loss: 0.0899 - val_accuracy: 0.9716\n",
            "Epoch 4/10\n",
            "1019/1019 [==============================] - 4s 4ms/step - loss: 1.6129e-04 - accuracy: 1.0000 - val_loss: 0.0968 - val_accuracy: 0.9713\n",
            "Epoch 5/10\n",
            "1019/1019 [==============================] - 4s 4ms/step - loss: 0.0042 - accuracy: 0.9989 - val_loss: 0.2728 - val_accuracy: 0.9285\n",
            "Epoch 6/10\n",
            "1019/1019 [==============================] - 4s 4ms/step - loss: 0.0040 - accuracy: 0.9987 - val_loss: 0.0880 - val_accuracy: 0.9727\n",
            "Epoch 7/10\n",
            "1019/1019 [==============================] - 4s 4ms/step - loss: 2.1175e-04 - accuracy: 1.0000 - val_loss: 0.0874 - val_accuracy: 0.9741\n",
            "Epoch 8/10\n",
            "1019/1019 [==============================] - 4s 4ms/step - loss: 1.3188e-04 - accuracy: 1.0000 - val_loss: 0.0844 - val_accuracy: 0.9745\n",
            "Epoch 9/10\n",
            "1019/1019 [==============================] - 4s 4ms/step - loss: 8.4583e-05 - accuracy: 1.0000 - val_loss: 0.0873 - val_accuracy: 0.9745\n",
            "Epoch 10/10\n",
            "1019/1019 [==============================] - 5s 5ms/step - loss: 6.4355e-05 - accuracy: 1.0000 - val_loss: 0.0939 - val_accuracy: 0.9771\n"
          ],
          "name": "stdout"
        }
      ]
    },
    {
      "cell_type": "code",
      "metadata": {
        "_uuid": "d729faf5-9a6e-4d72-9d16-772697834748",
        "_cell_guid": "4c3c3f59-4bc4-41dc-92a4-7b3db0fb8353",
        "trusted": true,
        "id": "z0YDUV2NGAYb",
        "outputId": "88299d21-d7fd-47b2-c754-94549bfe0c27"
      },
      "source": [
        "pred_labels = modelFFN2.predict(test_images)\n",
        "zo_lossFFN2 = zero_one(pred_labels,test_labels)\n",
        "print(\"Zero one loss: \",zo_lossFFN2)"
      ],
      "execution_count": null,
      "outputs": [
        {
          "output_type": "stream",
          "text": [
            "Zero one loss:  0.022923161562442673\n"
          ],
          "name": "stdout"
        }
      ]
    },
    {
      "cell_type": "code",
      "metadata": {
        "_uuid": "dceefebf-72a4-4a37-a986-78aca70e431c",
        "_cell_guid": "b0c071a7-4784-4e8e-96b6-d8bb0d2ef9d7",
        "trusted": true,
        "id": "CcM4W_FqGRfZ",
        "outputId": "43761176-bf5f-430b-ea06-5516b0431c1e"
      },
      "source": [
        "modelFFN3 = tf.keras.Sequential()\n",
        "modelFFN3.add(Dense(64,input_shape = (32,32, 3), activation='relu'))\n",
        "modelFFN3.add(Flatten()) \n",
        "modelFFN3.add(Dense(10 , activation='sigmoid')) \n",
        "modelFFN3.compile(loss ='categorical_crossentropy', \n",
        "                     optimizer ='adam', \n",
        "                   metrics =['accuracy']) \n",
        "modelFFN3.summary()"
      ],
      "execution_count": null,
      "outputs": [
        {
          "output_type": "stream",
          "text": [
            "Model: \"sequential_23\"\n",
            "_________________________________________________________________\n",
            "Layer (type)                 Output Shape              Param #   \n",
            "=================================================================\n",
            "dense_64 (Dense)             (None, 32, 32, 64)        256       \n",
            "_________________________________________________________________\n",
            "flatten_19 (Flatten)         (None, 65536)             0         \n",
            "_________________________________________________________________\n",
            "dense_65 (Dense)             (None, 10)                655370    \n",
            "=================================================================\n",
            "Total params: 655,626\n",
            "Trainable params: 655,626\n",
            "Non-trainable params: 0\n",
            "_________________________________________________________________\n"
          ],
          "name": "stdout"
        }
      ]
    },
    {
      "cell_type": "code",
      "metadata": {
        "_uuid": "ca2b2bcb-0a9f-4cf7-92b6-d97bbf5e62d6",
        "_cell_guid": "8454036a-8248-4f8e-9277-89f55ba805db",
        "trusted": true,
        "id": "bouIj2h_G0dN",
        "outputId": "d34dd218-e849-482d-8713-763b559405dc"
      },
      "source": [
        "historyFFN3 = modelFFN3.fit(train_images, train_labels, epochs=10\n",
        "          ,validation_data=(test_images, test_labels) )"
      ],
      "execution_count": null,
      "outputs": [
        {
          "output_type": "stream",
          "text": [
            "Epoch 1/10\n",
            "1019/1019 [==============================] - 5s 5ms/step - loss: 0.5971 - accuracy: 0.8229 - val_loss: 0.1418 - val_accuracy: 0.9485\n",
            "Epoch 2/10\n",
            "1019/1019 [==============================] - 5s 5ms/step - loss: 0.0175 - accuracy: 0.9981 - val_loss: 0.0830 - val_accuracy: 0.9698\n",
            "Epoch 3/10\n",
            "1019/1019 [==============================] - 4s 4ms/step - loss: 0.0110 - accuracy: 0.9982 - val_loss: 0.0662 - val_accuracy: 0.9748\n",
            "Epoch 4/10\n",
            "1019/1019 [==============================] - 5s 4ms/step - loss: 0.0026 - accuracy: 0.9997 - val_loss: 0.1551 - val_accuracy: 0.9511\n",
            "Epoch 5/10\n",
            "1019/1019 [==============================] - 4s 4ms/step - loss: 0.0117 - accuracy: 0.9979 - val_loss: 0.0523 - val_accuracy: 0.9813\n",
            "Epoch 6/10\n",
            "1019/1019 [==============================] - 5s 4ms/step - loss: 7.0913e-04 - accuracy: 1.0000 - val_loss: 0.0497 - val_accuracy: 0.9831\n",
            "Epoch 7/10\n",
            "1019/1019 [==============================] - 4s 4ms/step - loss: 3.5009e-04 - accuracy: 1.0000 - val_loss: 0.0487 - val_accuracy: 0.9844\n",
            "Epoch 8/10\n",
            "1019/1019 [==============================] - 4s 4ms/step - loss: 2.0097e-04 - accuracy: 1.0000 - val_loss: 0.0503 - val_accuracy: 0.9810\n",
            "Epoch 9/10\n",
            "1019/1019 [==============================] - 5s 5ms/step - loss: 0.0039 - accuracy: 0.9989 - val_loss: 0.0737 - val_accuracy: 0.9766\n",
            "Epoch 10/10\n",
            "1019/1019 [==============================] - 4s 4ms/step - loss: 8.8049e-04 - accuracy: 1.0000 - val_loss: 0.0541 - val_accuracy: 0.9820\n"
          ],
          "name": "stdout"
        }
      ]
    },
    {
      "cell_type": "code",
      "metadata": {
        "_uuid": "777dcb85-a5b1-4904-960f-0282a28beb2a",
        "_cell_guid": "350728c5-3639-4467-8fb9-6f74d0d2a017",
        "trusted": true,
        "id": "uHr5-ZMCH-Uw",
        "outputId": "c12ccd72-28aa-4a6c-9e1b-4b1a8d6193f2"
      },
      "source": [
        "pred_labels = modelFFN3.predict(test_images)\n",
        "zo_lossFFN3 = zero_one(pred_labels,test_labels)\n",
        "print(\"Zero one loss: \",zo_lossFFN3)"
      ],
      "execution_count": null,
      "outputs": [
        {
          "output_type": "stream",
          "text": [
            "Zero one loss:  0.01797175866495504\n"
          ],
          "name": "stdout"
        }
      ]
    },
    {
      "cell_type": "code",
      "metadata": {
        "trusted": true,
        "id": "HNObUPRjFAEf",
        "outputId": "397284ee-9c18-47bf-daef-abfd1d2132d4"
      },
      "source": [
        "modelFFN4 = tf.keras.Sequential()\n",
        "modelFFN4.add(Dense(128,input_shape = (32,32, 3), activation='relu'))\n",
        "modelFFN4.add(Flatten()) \n",
        "modelFFN4.add(Dense(10 , activation='sigmoid')) \n",
        "modelFFN4.compile(loss ='categorical_crossentropy', \n",
        "                     optimizer ='adam', \n",
        "                   metrics =['accuracy']) \n",
        "modelFFN4.summary()"
      ],
      "execution_count": null,
      "outputs": [
        {
          "output_type": "stream",
          "text": [
            "Model: \"sequential_24\"\n",
            "_________________________________________________________________\n",
            "Layer (type)                 Output Shape              Param #   \n",
            "=================================================================\n",
            "dense_66 (Dense)             (None, 32, 32, 128)       512       \n",
            "_________________________________________________________________\n",
            "flatten_20 (Flatten)         (None, 131072)            0         \n",
            "_________________________________________________________________\n",
            "dense_67 (Dense)             (None, 10)                1310730   \n",
            "=================================================================\n",
            "Total params: 1,311,242\n",
            "Trainable params: 1,311,242\n",
            "Non-trainable params: 0\n",
            "_________________________________________________________________\n"
          ],
          "name": "stdout"
        }
      ]
    },
    {
      "cell_type": "code",
      "metadata": {
        "trusted": true,
        "id": "oFSC4FbQFAEf",
        "outputId": "eb7070f2-4b49-4475-bbcd-6fbfaee77d81"
      },
      "source": [
        "historyFFN4 = modelFFN4.fit(train_images, train_labels, epochs=10\n",
        "          ,validation_data=(test_images, test_labels) )"
      ],
      "execution_count": null,
      "outputs": [
        {
          "output_type": "stream",
          "text": [
            "Epoch 1/10\n",
            "1019/1019 [==============================] - 6s 5ms/step - loss: 0.9044 - accuracy: 0.8034 - val_loss: 0.1288 - val_accuracy: 0.9548\n",
            "Epoch 2/10\n",
            "1019/1019 [==============================] - 5s 5ms/step - loss: 0.0170 - accuracy: 0.9976 - val_loss: 0.0832 - val_accuracy: 0.9716\n",
            "Epoch 3/10\n",
            "1019/1019 [==============================] - 5s 5ms/step - loss: 0.0071 - accuracy: 0.9990 - val_loss: 0.0704 - val_accuracy: 0.9744\n",
            "Epoch 4/10\n",
            "1019/1019 [==============================] - 5s 5ms/step - loss: 0.0018 - accuracy: 0.9999 - val_loss: 0.0678 - val_accuracy: 0.9769\n",
            "Epoch 5/10\n",
            "1019/1019 [==============================] - 5s 5ms/step - loss: 0.0188 - accuracy: 0.9941 - val_loss: 0.0605 - val_accuracy: 0.9804\n",
            "Epoch 6/10\n",
            "1019/1019 [==============================] - 5s 5ms/step - loss: 4.9380e-04 - accuracy: 1.0000 - val_loss: 0.0587 - val_accuracy: 0.9795\n",
            "Epoch 7/10\n",
            "1019/1019 [==============================] - 5s 5ms/step - loss: 2.8800e-04 - accuracy: 1.0000 - val_loss: 0.0629 - val_accuracy: 0.9815\n",
            "Epoch 8/10\n",
            "1019/1019 [==============================] - 5s 5ms/step - loss: 8.2896e-04 - accuracy: 0.9998 - val_loss: 0.0888 - val_accuracy: 0.9693\n",
            "Epoch 9/10\n",
            "1019/1019 [==============================] - 5s 5ms/step - loss: 0.0014 - accuracy: 0.9999 - val_loss: 0.0548 - val_accuracy: 0.9789\n",
            "Epoch 10/10\n",
            "1019/1019 [==============================] - 5s 5ms/step - loss: 2.4449e-04 - accuracy: 1.0000 - val_loss: 0.0530 - val_accuracy: 0.9828\n"
          ],
          "name": "stdout"
        }
      ]
    },
    {
      "cell_type": "code",
      "metadata": {
        "trusted": true,
        "id": "kVAfUQPBFAEg",
        "outputId": "854a90c3-49df-44d5-b896-55d9c6525ca6"
      },
      "source": [
        "pred_labels = modelFFN4.predict(test_images)\n",
        "zo_lossFFN4 = zero_one(pred_labels,test_labels)\n",
        "print(\"Zero one loss: \",zo_lossFFN4)"
      ],
      "execution_count": null,
      "outputs": [
        {
          "output_type": "stream",
          "text": [
            "Zero one loss:  0.01723821749495691\n"
          ],
          "name": "stdout"
        }
      ]
    },
    {
      "cell_type": "code",
      "metadata": {
        "_uuid": "9c4c5d5c-3fc6-4d23-9894-2f08594df646",
        "_cell_guid": "fc837d51-b0b2-44a5-a2e3-91e498452fbd",
        "trusted": true,
        "id": "erMVd9tkLyYX",
        "outputId": "ae18f2a0-9f4f-482e-cf93-0a955a8d3470"
      },
      "source": [
        "modelFFN5 = tf.keras.Sequential()\n",
        "modelFFN5.add(Dense(256,input_shape = (32,32, 3), activation='relu'))\n",
        "modelFFN5.add(Flatten()) \n",
        "modelFFN5.add(Dense(10 , activation='sigmoid')) \n",
        "modelFFN5.compile(loss ='categorical_crossentropy', \n",
        "                     optimizer ='adam', \n",
        "                   metrics =['accuracy']) \n",
        "\n",
        "modelFFN5.summary()"
      ],
      "execution_count": null,
      "outputs": [
        {
          "output_type": "stream",
          "text": [
            "Model: \"sequential_25\"\n",
            "_________________________________________________________________\n",
            "Layer (type)                 Output Shape              Param #   \n",
            "=================================================================\n",
            "dense_68 (Dense)             (None, 32, 32, 256)       1024      \n",
            "_________________________________________________________________\n",
            "flatten_21 (Flatten)         (None, 262144)            0         \n",
            "_________________________________________________________________\n",
            "dense_69 (Dense)             (None, 10)                2621450   \n",
            "=================================================================\n",
            "Total params: 2,622,474\n",
            "Trainable params: 2,622,474\n",
            "Non-trainable params: 0\n",
            "_________________________________________________________________\n"
          ],
          "name": "stdout"
        }
      ]
    },
    {
      "cell_type": "code",
      "metadata": {
        "_uuid": "93cf3844-782b-4010-a4af-6b5cadb922ad",
        "_cell_guid": "fb2ba0dd-afb6-4826-8562-43f97099d220",
        "trusted": true,
        "id": "avSot-yML-aQ",
        "outputId": "0746efca-c23a-4782-8d14-f0b314c6a666"
      },
      "source": [
        "historyFFN5 = modelFFN5.fit(train_images, train_labels, epochs=10\n",
        "          ,validation_data=(test_images, test_labels) )"
      ],
      "execution_count": null,
      "outputs": [
        {
          "output_type": "stream",
          "text": [
            "Epoch 1/10\n",
            "1019/1019 [==============================] - 8s 7ms/step - loss: 0.7825 - accuracy: 0.8308 - val_loss: 0.0881 - val_accuracy: 0.9690\n",
            "Epoch 2/10\n",
            "1019/1019 [==============================] - 7s 7ms/step - loss: 0.0168 - accuracy: 0.9965 - val_loss: 0.0653 - val_accuracy: 0.9772\n",
            "Epoch 3/10\n",
            "1019/1019 [==============================] - 7s 7ms/step - loss: 0.0020 - accuracy: 0.9999 - val_loss: 0.0785 - val_accuracy: 0.9662\n",
            "Epoch 4/10\n",
            "1019/1019 [==============================] - 7s 7ms/step - loss: 0.0256 - accuracy: 0.9926 - val_loss: 0.0689 - val_accuracy: 0.9764\n",
            "Epoch 5/10\n",
            "1019/1019 [==============================] - 7s 7ms/step - loss: 0.0026 - accuracy: 0.9994 - val_loss: 0.0639 - val_accuracy: 0.9832\n",
            "Epoch 6/10\n",
            "1019/1019 [==============================] - 7s 7ms/step - loss: 3.3724e-04 - accuracy: 1.0000 - val_loss: 0.0553 - val_accuracy: 0.9813\n",
            "Epoch 7/10\n",
            "1019/1019 [==============================] - 7s 7ms/step - loss: 1.5335e-04 - accuracy: 1.0000 - val_loss: 0.0521 - val_accuracy: 0.9831\n",
            "Epoch 8/10\n",
            "1019/1019 [==============================] - 7s 7ms/step - loss: 0.0097 - accuracy: 0.9972 - val_loss: 0.0587 - val_accuracy: 0.9763\n",
            "Epoch 9/10\n",
            "1019/1019 [==============================] - 7s 7ms/step - loss: 3.4877e-04 - accuracy: 1.0000 - val_loss: 0.0497 - val_accuracy: 0.9828\n",
            "Epoch 10/10\n",
            "1019/1019 [==============================] - 7s 7ms/step - loss: 1.5143e-04 - accuracy: 1.0000 - val_loss: 0.0493 - val_accuracy: 0.9811\n"
          ],
          "name": "stdout"
        }
      ]
    },
    {
      "cell_type": "code",
      "metadata": {
        "_uuid": "0bb7263b-1056-43cd-ad9d-7504a204d1b4",
        "_cell_guid": "8b91fd60-9680-43c7-a59c-3bd1621197e7",
        "trusted": true,
        "id": "_VhJ5KE0MHMX",
        "outputId": "11096b27-6d3b-47d4-d5bd-0d990dcada5f"
      },
      "source": [
        "pred_labels = modelFFN5.predict(test_images)\n",
        "zo_lossFFN5 = zero_one(pred_labels,test_labels)\n",
        "print(\"Zero one loss: \",zo_lossFFN5)"
      ],
      "execution_count": null,
      "outputs": [
        {
          "output_type": "stream",
          "text": [
            "Zero one loss:  0.018888685127452787\n"
          ],
          "name": "stdout"
        }
      ]
    },
    {
      "cell_type": "code",
      "metadata": {
        "trusted": true,
        "id": "H26w2BS4FAEg",
        "outputId": "cba7c395-ce46-43e1-b854-1b7cefa2df92"
      },
      "source": [
        "modelFFN6 = tf.keras.Sequential()\n",
        "modelFFN6.add(Dense(512,input_shape = (32,32, 3), activation='relu'))\n",
        "modelFFN6.add(Flatten()) \n",
        "modelFFN6.add(Dense(10 , activation='sigmoid')) \n",
        "modelFFN6.compile(loss ='categorical_crossentropy', \n",
        "                     optimizer ='adam', \n",
        "                   metrics =['accuracy']) \n",
        "\n",
        "modelFFN6.summary()"
      ],
      "execution_count": null,
      "outputs": [
        {
          "output_type": "stream",
          "text": [
            "Model: \"sequential_26\"\n",
            "_________________________________________________________________\n",
            "Layer (type)                 Output Shape              Param #   \n",
            "=================================================================\n",
            "dense_70 (Dense)             (None, 32, 32, 512)       2048      \n",
            "_________________________________________________________________\n",
            "flatten_22 (Flatten)         (None, 524288)            0         \n",
            "_________________________________________________________________\n",
            "dense_71 (Dense)             (None, 10)                5242890   \n",
            "=================================================================\n",
            "Total params: 5,244,938\n",
            "Trainable params: 5,244,938\n",
            "Non-trainable params: 0\n",
            "_________________________________________________________________\n"
          ],
          "name": "stdout"
        }
      ]
    },
    {
      "cell_type": "code",
      "metadata": {
        "trusted": true,
        "id": "F0slyZzsFAEh",
        "outputId": "018a9cac-7cee-4fd0-c97c-a318b35aa108"
      },
      "source": [
        "historyFFN6 = modelFFN6.fit(train_images, train_labels, epochs=10\n",
        "          ,validation_data=(test_images, test_labels) )"
      ],
      "execution_count": null,
      "outputs": [
        {
          "output_type": "stream",
          "text": [
            "Epoch 1/10\n",
            "1019/1019 [==============================] - 12s 12ms/step - loss: 1.1476 - accuracy: 0.8329 - val_loss: 0.0857 - val_accuracy: 0.9729\n",
            "Epoch 2/10\n",
            "1019/1019 [==============================] - 11s 11ms/step - loss: 0.0081 - accuracy: 0.9989 - val_loss: 0.1078 - val_accuracy: 0.9598\n",
            "Epoch 3/10\n",
            "1019/1019 [==============================] - 12s 11ms/step - loss: 0.0034 - accuracy: 0.9994 - val_loss: 0.0699 - val_accuracy: 0.9719\n",
            "Epoch 4/10\n",
            "1019/1019 [==============================] - 12s 11ms/step - loss: 0.0016 - accuracy: 0.9997 - val_loss: 0.0522 - val_accuracy: 0.9786\n",
            "Epoch 5/10\n",
            "1019/1019 [==============================] - 12s 11ms/step - loss: 0.0213 - accuracy: 0.9955 - val_loss: 0.0350 - val_accuracy: 0.9866\n",
            "Epoch 6/10\n",
            "1019/1019 [==============================] - 12s 11ms/step - loss: 4.0048e-04 - accuracy: 1.0000 - val_loss: 0.0393 - val_accuracy: 0.9857\n",
            "Epoch 7/10\n",
            "1019/1019 [==============================] - 11s 11ms/step - loss: 1.5567e-04 - accuracy: 1.0000 - val_loss: 0.0370 - val_accuracy: 0.9859\n",
            "Epoch 8/10\n",
            "1019/1019 [==============================] - 11s 11ms/step - loss: 9.0701e-05 - accuracy: 1.0000 - val_loss: 0.0364 - val_accuracy: 0.9860\n",
            "Epoch 9/10\n",
            "1019/1019 [==============================] - 11s 11ms/step - loss: 4.9806e-05 - accuracy: 1.0000 - val_loss: 0.1680 - val_accuracy: 0.9557\n",
            "Epoch 10/10\n",
            "1019/1019 [==============================] - 11s 11ms/step - loss: 0.0372 - accuracy: 0.9881 - val_loss: 0.0546 - val_accuracy: 0.9780\n"
          ],
          "name": "stdout"
        }
      ]
    },
    {
      "cell_type": "code",
      "metadata": {
        "trusted": true,
        "id": "fOIhuKVWFAEi",
        "outputId": "520076b1-8197-40fe-aafa-07dbc768eab4"
      },
      "source": [
        "pred_labels = modelFFN6.predict(test_images)\n",
        "zo_lossFFN6 = zero_one(pred_labels,test_labels)\n",
        "print(\"Zero one loss: \",zo_lossFFN6)"
      ],
      "execution_count": null,
      "outputs": [
        {
          "output_type": "stream",
          "text": [
            "Zero one loss:  0.022006235099945037\n"
          ],
          "name": "stdout"
        }
      ]
    },
    {
      "cell_type": "code",
      "metadata": {
        "_uuid": "d49bf9ac-5c1b-46ca-9500-a41c8c39e739",
        "_cell_guid": "f5303b6f-afe9-450d-ae87-56ee507fe4f7",
        "trusted": true,
        "id": "uKCzJ22B4jOu",
        "outputId": "444a417c-20e6-4344-9287-ee0f87791e85"
      },
      "source": [
        "modelFFN21 = tf.keras.Sequential()\n",
        "modelFFN21.add(Dense(64,input_shape = (32,32, 3), activation='relu'))\n",
        "modelFFN21.add(Flatten()) \n",
        "modelFFN21.add(Dense(64 , activation='relu'))\n",
        "modelFFN21.add(Dense(10 , activation='sigmoid')) \n",
        "\n",
        "  \n",
        "modelFFN21.compile(loss ='categorical_crossentropy', \n",
        "                     optimizer ='adam', \n",
        "                   metrics =['accuracy']) \n",
        "\n",
        "modelFFN21.summary()"
      ],
      "execution_count": null,
      "outputs": [
        {
          "output_type": "stream",
          "text": [
            "Model: \"sequential_28\"\n",
            "_________________________________________________________________\n",
            "Layer (type)                 Output Shape              Param #   \n",
            "=================================================================\n",
            "dense_74 (Dense)             (None, 32, 32, 64)        256       \n",
            "_________________________________________________________________\n",
            "flatten_24 (Flatten)         (None, 65536)             0         \n",
            "_________________________________________________________________\n",
            "dense_75 (Dense)             (None, 64)                4194368   \n",
            "_________________________________________________________________\n",
            "dense_76 (Dense)             (None, 10)                650       \n",
            "=================================================================\n",
            "Total params: 4,195,274\n",
            "Trainable params: 4,195,274\n",
            "Non-trainable params: 0\n",
            "_________________________________________________________________\n"
          ],
          "name": "stdout"
        }
      ]
    },
    {
      "cell_type": "code",
      "metadata": {
        "_uuid": "6c5f6893-3e73-42bd-a26c-f8d571b9695a",
        "_cell_guid": "d004f077-f862-42a2-9d54-ed12aa6f3ad0",
        "trusted": true,
        "id": "nXphdQcz423U",
        "outputId": "cbf5b04b-2b90-4956-87bf-c81e7d6dcbf8"
      },
      "source": [
        "historyFFN21 = modelFFN21.fit(train_images, train_labels, epochs=10\n",
        "          ,validation_data=(test_images, test_labels) )"
      ],
      "execution_count": null,
      "outputs": [
        {
          "output_type": "stream",
          "text": [
            "Epoch 1/10\n",
            "1019/1019 [==============================] - 6s 6ms/step - loss: 0.7211 - accuracy: 0.7827 - val_loss: 0.1842 - val_accuracy: 0.9455\n",
            "Epoch 2/10\n",
            "1019/1019 [==============================] - 5s 5ms/step - loss: 0.0312 - accuracy: 0.9952 - val_loss: 0.1194 - val_accuracy: 0.9640\n",
            "Epoch 3/10\n",
            "1019/1019 [==============================] - 5s 4ms/step - loss: 0.0098 - accuracy: 0.9986 - val_loss: 0.0914 - val_accuracy: 0.9756\n",
            "Epoch 4/10\n",
            "1019/1019 [==============================] - 5s 5ms/step - loss: 0.0023 - accuracy: 0.9998 - val_loss: 0.0680 - val_accuracy: 0.9788\n",
            "Epoch 5/10\n",
            "1019/1019 [==============================] - 5s 5ms/step - loss: 8.4867e-04 - accuracy: 1.0000 - val_loss: 0.0726 - val_accuracy: 0.9768\n",
            "Epoch 6/10\n",
            "1019/1019 [==============================] - 5s 5ms/step - loss: 0.0354 - accuracy: 0.9899 - val_loss: 0.0522 - val_accuracy: 0.9840\n",
            "Epoch 7/10\n",
            "1019/1019 [==============================] - 5s 5ms/step - loss: 0.0043 - accuracy: 0.9988 - val_loss: 0.0461 - val_accuracy: 0.9851\n",
            "Epoch 8/10\n",
            "1019/1019 [==============================] - 5s 5ms/step - loss: 4.4785e-04 - accuracy: 1.0000 - val_loss: 0.0493 - val_accuracy: 0.9844\n",
            "Epoch 9/10\n",
            "1019/1019 [==============================] - 5s 5ms/step - loss: 1.5414e-04 - accuracy: 1.0000 - val_loss: 0.0499 - val_accuracy: 0.9851\n",
            "Epoch 10/10\n",
            "1019/1019 [==============================] - 5s 5ms/step - loss: 9.2390e-05 - accuracy: 1.0000 - val_loss: 0.0553 - val_accuracy: 0.9840\n"
          ],
          "name": "stdout"
        }
      ]
    },
    {
      "cell_type": "code",
      "metadata": {
        "_uuid": "9fd7850f-fb3d-43c4-95db-e53b9a84d146",
        "_cell_guid": "17d42890-8812-4299-95bb-0b32828575e5",
        "trusted": true,
        "id": "HiQBrzpz48BH",
        "outputId": "19e01c84-4ec1-4857-d4f5-273ba90bf10d"
      },
      "source": [
        "pred_labels = modelFFN21.predict(test_images)\n",
        "zo_lossFFN21 = zero_one(pred_labels,test_labels)\n",
        "print(\"Zero one loss: \",zo_lossFFN21)"
      ],
      "execution_count": null,
      "outputs": [
        {
          "output_type": "stream",
          "text": [
            "Zero one loss:  0.03686044379240783\n"
          ],
          "name": "stdout"
        }
      ]
    },
    {
      "cell_type": "code",
      "metadata": {
        "_uuid": "9633db85-0419-4033-8580-167d61397f5b",
        "_cell_guid": "5c1606d5-0a6d-4833-809e-19b123b98ae5",
        "trusted": true,
        "id": "WbtY1R0s5YJ8",
        "outputId": "f5f11308-e3f1-4329-f129-c4f6d8288153"
      },
      "source": [
        "modelFFN22 = tf.keras.Sequential()\n",
        "modelFFN22.add(Dense(64,input_shape = (32,32, 3), activation='relu'))\n",
        "modelFFN22.add(Flatten()) \n",
        "modelFFN22.add(Dense(64 , activation='relu'))\n",
        "modelFFN22.add(Dense(64 , activation='relu'))\n",
        "modelFFN22.add(Dense(10 , activation='sigmoid')) \n",
        "\n",
        "  \n",
        "modelFFN22.compile(loss ='categorical_crossentropy', \n",
        "                     optimizer ='adam', \n",
        "                   metrics =['accuracy']) \n",
        "\n",
        "modelFFN22.summary()"
      ],
      "execution_count": null,
      "outputs": [
        {
          "output_type": "stream",
          "text": [
            "Model: \"sequential_29\"\n",
            "_________________________________________________________________\n",
            "Layer (type)                 Output Shape              Param #   \n",
            "=================================================================\n",
            "dense_77 (Dense)             (None, 32, 32, 64)        256       \n",
            "_________________________________________________________________\n",
            "flatten_25 (Flatten)         (None, 65536)             0         \n",
            "_________________________________________________________________\n",
            "dense_78 (Dense)             (None, 64)                4194368   \n",
            "_________________________________________________________________\n",
            "dense_79 (Dense)             (None, 64)                4160      \n",
            "_________________________________________________________________\n",
            "dense_80 (Dense)             (None, 10)                650       \n",
            "=================================================================\n",
            "Total params: 4,199,434\n",
            "Trainable params: 4,199,434\n",
            "Non-trainable params: 0\n",
            "_________________________________________________________________\n"
          ],
          "name": "stdout"
        }
      ]
    },
    {
      "cell_type": "code",
      "metadata": {
        "_uuid": "c44ca84e-cd4d-4814-8d65-49f524a94c88",
        "_cell_guid": "b78d88ee-bd35-45f1-8212-541cd6abb4ec",
        "trusted": true,
        "id": "lznVXHUV5uy8",
        "outputId": "5c7a0708-3fc8-41b5-c5c0-68cea399fa5e"
      },
      "source": [
        "historyFFN22 = modelFFN22.fit(train_images, train_labels, epochs=10\n",
        "          ,validation_data=(test_images, test_labels) )"
      ],
      "execution_count": null,
      "outputs": [
        {
          "output_type": "stream",
          "text": [
            "Epoch 1/10\n",
            "1019/1019 [==============================] - 6s 5ms/step - loss: 0.8765 - accuracy: 0.7312 - val_loss: 0.1973 - val_accuracy: 0.9322\n",
            "Epoch 2/10\n",
            "1019/1019 [==============================] - 5s 5ms/step - loss: 0.0316 - accuracy: 0.9933 - val_loss: 0.0711 - val_accuracy: 0.9782\n",
            "Epoch 3/10\n",
            "1019/1019 [==============================] - 5s 5ms/step - loss: 0.0070 - accuracy: 0.9990 - val_loss: 0.0555 - val_accuracy: 0.9851\n",
            "Epoch 4/10\n",
            "1019/1019 [==============================] - 5s 5ms/step - loss: 0.0022 - accuracy: 0.9997 - val_loss: 0.0849 - val_accuracy: 0.9787\n",
            "Epoch 5/10\n",
            "1019/1019 [==============================] - 5s 5ms/step - loss: 8.3677e-04 - accuracy: 1.0000 - val_loss: 0.0347 - val_accuracy: 0.9875\n",
            "Epoch 6/10\n",
            "1019/1019 [==============================] - 5s 5ms/step - loss: 2.3721e-04 - accuracy: 1.0000 - val_loss: 0.0456 - val_accuracy: 0.9839\n",
            "Epoch 7/10\n",
            "1019/1019 [==============================] - 5s 5ms/step - loss: 1.2161e-04 - accuracy: 1.0000 - val_loss: 0.0431 - val_accuracy: 0.9870\n",
            "Epoch 8/10\n",
            "1019/1019 [==============================] - 5s 5ms/step - loss: 7.6213e-05 - accuracy: 1.0000 - val_loss: 0.0432 - val_accuracy: 0.9881\n",
            "Epoch 9/10\n",
            "1019/1019 [==============================] - 5s 5ms/step - loss: 0.0052 - accuracy: 0.9988 - val_loss: 0.0589 - val_accuracy: 0.9849\n",
            "Epoch 10/10\n",
            "1019/1019 [==============================] - 5s 5ms/step - loss: 0.0021 - accuracy: 0.9997 - val_loss: 0.0418 - val_accuracy: 0.9888\n"
          ],
          "name": "stdout"
        }
      ]
    },
    {
      "cell_type": "code",
      "metadata": {
        "_uuid": "677341e3-33ec-4d15-9165-977e1cfd3446",
        "_cell_guid": "6b3026ca-00c3-4b17-85d5-1f8c2c80ed37",
        "trusted": true,
        "id": "40PbuvYRYBzn",
        "outputId": "9f489be6-b812-40e2-aad1-dea868ffa105"
      },
      "source": [
        "pred_labels = modelFFN22.predict(test_images)\n",
        "zo_lossFFN22 = zero_one(pred_labels,test_labels)\n",
        "print(\"Zero one loss: \",zo_lossFFN22)"
      ],
      "execution_count": null,
      "outputs": [
        {
          "output_type": "stream",
          "text": [
            "Zero one loss:  0.018613607188703418\n"
          ],
          "name": "stdout"
        }
      ]
    },
    {
      "cell_type": "code",
      "metadata": {
        "_uuid": "0f53ef6a-1c9d-464e-9ef7-491cad9c6de0",
        "_cell_guid": "9ebcca76-4a36-44b9-9eca-7f5dbb4d1ce8",
        "trusted": true,
        "id": "glgoAWHIaw9-",
        "outputId": "52e5187a-7d2a-476e-ea3f-42a5d49f3b7a"
      },
      "source": [
        "modelFFN23 = tf.keras.Sequential()\n",
        "modelFFN23.add(Dense(64,input_shape = (32,32, 3), activation='relu'))\n",
        "modelFFN23.add(Flatten()) \n",
        "modelFFN23.add(Dense(64 , activation='relu'))\n",
        "modelFFN23.add(Dense(64 , activation='relu'))\n",
        "modelFFN23.add(Dense(64 , activation='relu'))\n",
        "modelFFN23.add(Dense(10 , activation='sigmoid')) \n",
        "\n",
        "  \n",
        "modelFFN23.compile(loss ='categorical_crossentropy', \n",
        "                     optimizer ='adam', \n",
        "                   metrics =['accuracy']) \n",
        "\n",
        "modelFFN23.summary()"
      ],
      "execution_count": null,
      "outputs": [
        {
          "output_type": "stream",
          "text": [
            "Model: \"sequential_33\"\n",
            "_________________________________________________________________\n",
            "Layer (type)                 Output Shape              Param #   \n",
            "=================================================================\n",
            "dense_92 (Dense)             (None, 32, 32, 64)        256       \n",
            "_________________________________________________________________\n",
            "flatten_28 (Flatten)         (None, 65536)             0         \n",
            "_________________________________________________________________\n",
            "dense_93 (Dense)             (None, 64)                4194368   \n",
            "_________________________________________________________________\n",
            "dense_94 (Dense)             (None, 64)                4160      \n",
            "_________________________________________________________________\n",
            "dense_95 (Dense)             (None, 64)                4160      \n",
            "_________________________________________________________________\n",
            "dense_96 (Dense)             (None, 10)                650       \n",
            "=================================================================\n",
            "Total params: 4,203,594\n",
            "Trainable params: 4,203,594\n",
            "Non-trainable params: 0\n",
            "_________________________________________________________________\n"
          ],
          "name": "stdout"
        }
      ]
    },
    {
      "cell_type": "code",
      "metadata": {
        "_uuid": "a51ae355-b253-4d9c-8a3f-efd2e1f927ff",
        "_cell_guid": "b7855677-cc3e-4d8e-b130-a2122ef43609",
        "trusted": true,
        "id": "AOG3FwMcbHAP",
        "outputId": "96cb0cf9-0332-4afa-aea9-0762c04d2e11"
      },
      "source": [
        "historyFFN23 = modelFFN23.fit(train_images, train_labels, epochs=10\n",
        "          ,validation_data=(test_images, test_labels) )"
      ],
      "execution_count": null,
      "outputs": [
        {
          "output_type": "stream",
          "text": [
            "Epoch 1/10\n",
            "1019/1019 [==============================] - 6s 5ms/step - loss: 0.8639 - accuracy: 0.7246 - val_loss: 0.1942 - val_accuracy: 0.9347\n",
            "Epoch 2/10\n",
            "1019/1019 [==============================] - 5s 5ms/step - loss: 0.0300 - accuracy: 0.9931 - val_loss: 0.0847 - val_accuracy: 0.9686\n",
            "Epoch 3/10\n",
            "1019/1019 [==============================] - 5s 5ms/step - loss: 0.0100 - accuracy: 0.9976 - val_loss: 0.1874 - val_accuracy: 0.9482\n",
            "Epoch 4/10\n",
            "1019/1019 [==============================] - 5s 5ms/step - loss: 0.0265 - accuracy: 0.9919 - val_loss: 0.0292 - val_accuracy: 0.9870\n",
            "Epoch 5/10\n",
            "1019/1019 [==============================] - 5s 5ms/step - loss: 1.8096e-04 - accuracy: 1.0000 - val_loss: 0.0327 - val_accuracy: 0.9868\n",
            "Epoch 6/10\n",
            "1019/1019 [==============================] - 5s 5ms/step - loss: 9.1147e-05 - accuracy: 1.0000 - val_loss: 0.0333 - val_accuracy: 0.9860\n",
            "Epoch 7/10\n",
            "1019/1019 [==============================] - 5s 5ms/step - loss: 4.7168e-05 - accuracy: 1.0000 - val_loss: 0.0370 - val_accuracy: 0.9847\n",
            "Epoch 8/10\n",
            "1019/1019 [==============================] - 5s 5ms/step - loss: 2.4626e-05 - accuracy: 1.0000 - val_loss: 0.0449 - val_accuracy: 0.9823\n",
            "Epoch 9/10\n",
            "1019/1019 [==============================] - 5s 5ms/step - loss: 1.3119e-05 - accuracy: 1.0000 - val_loss: 0.0431 - val_accuracy: 0.9835\n",
            "Epoch 10/10\n",
            "1019/1019 [==============================] - 5s 5ms/step - loss: 8.7585e-06 - accuracy: 1.0000 - val_loss: 0.0470 - val_accuracy: 0.9828\n"
          ],
          "name": "stdout"
        }
      ]
    },
    {
      "cell_type": "code",
      "metadata": {
        "_uuid": "64cf0749-4bfc-4994-b440-1981522c78b0",
        "_cell_guid": "e7e30e1c-c20c-45b2-a2ac-66f03f201819",
        "trusted": true,
        "id": "fAayK90VbMls",
        "outputId": "1f62da15-6de7-4bcd-f4db-ed0652771e2a"
      },
      "source": [
        "pred_labels = modelFFN23.predict(test_images)\n",
        "zo_lossFFN23 = zero_one(pred_labels,test_labels)\n",
        "print(\"Zero one loss: \",zo_lossFFN23)"
      ],
      "execution_count": null,
      "outputs": [
        {
          "output_type": "stream",
          "text": [
            "Zero one loss:  0.06656886117733363\n"
          ],
          "name": "stdout"
        }
      ]
    },
    {
      "cell_type": "markdown",
      "metadata": {
        "id": "EbHbIFO8ey2A"
      },
      "source": [
        "**CNN Model**"
      ]
    },
    {
      "cell_type": "code",
      "metadata": {
        "_uuid": "fd18f1aa-cc92-4d2d-aac5-7fe09c97a224",
        "_cell_guid": "bfbb5a67-4244-437c-b099-a489939cbad6",
        "trusted": true,
        "id": "34b9LVoRFAEo",
        "outputId": "34924d33-831a-4e4a-9e2e-714411e11b2a"
      },
      "source": [
        "\n",
        "\n",
        "modelCNN = tf.keras.Sequential()\n",
        "modelCNN.add(Conv2D(64, (3, 3), \n",
        "          activation='relu', input_shape=(32, 32, 3)))\n",
        "modelCNN.add(Conv2D(32, (3, 3),activation='relu'))\n",
        "modelCNN.add(BatchNormalization())\n",
        "modelCNN.add(MaxPooling2D((2, 2)))\n",
        "modelCNN.add(Dense(units=128,activation = 'relu'))\n",
        "modelCNN.add(Dense(units = 64, activation = 'relu'))\n",
        "modelCNN.add(Dropout(0.1))\n",
        "modelCNN.add(Flatten()) \n",
        "modelCNN.add(Dense(10 , activation='sigmoid')) \n",
        "  \n",
        "modelCNN.compile(loss ='categorical_crossentropy', \n",
        "                     optimizer ='adam', \n",
        "                   metrics =['accuracy']) \n",
        "modelCNN.summary()"
      ],
      "execution_count": null,
      "outputs": [
        {
          "output_type": "stream",
          "text": [
            "Model: \"sequential_31\"\n",
            "_________________________________________________________________\n",
            "Layer (type)                 Output Shape              Param #   \n",
            "=================================================================\n",
            "conv2d_25 (Conv2D)           (None, 30, 30, 64)        1792      \n",
            "_________________________________________________________________\n",
            "conv2d_26 (Conv2D)           (None, 28, 28, 32)        18464     \n",
            "_________________________________________________________________\n",
            "batch_normalization_10 (Batc (None, 28, 28, 32)        128       \n",
            "_________________________________________________________________\n",
            "max_pooling2d_10 (MaxPooling (None, 14, 14, 32)        0         \n",
            "_________________________________________________________________\n",
            "dense_86 (Dense)             (None, 14, 14, 128)       4224      \n",
            "_________________________________________________________________\n",
            "dense_87 (Dense)             (None, 14, 14, 64)        8256      \n",
            "_________________________________________________________________\n",
            "dropout_11 (Dropout)         (None, 14, 14, 64)        0         \n",
            "_________________________________________________________________\n",
            "flatten_27 (Flatten)         (None, 12544)             0         \n",
            "_________________________________________________________________\n",
            "dense_88 (Dense)             (None, 10)                125450    \n",
            "=================================================================\n",
            "Total params: 158,314\n",
            "Trainable params: 158,250\n",
            "Non-trainable params: 64\n",
            "_________________________________________________________________\n"
          ],
          "name": "stdout"
        }
      ]
    },
    {
      "cell_type": "code",
      "metadata": {
        "_uuid": "b1ef7ad0-a2ef-43de-8eb6-bee976b4f60f",
        "_cell_guid": "b3a00c9a-6fd2-4af8-93e0-207a7e9082df",
        "trusted": true,
        "id": "I_OEfQCDFAEp",
        "outputId": "9a1160db-2fe6-4737-be6a-6eed01ee998c"
      },
      "source": [
        "callback =EarlyStopping(monitor='val_loss',min_delta=0, patience=3,\n",
        "                              verbose=0, mode='auto', restore_best_weights = True)\n",
        "\n",
        "historyCNN = modelCNN.fit(train_images, train_labels, epochs=50\n",
        "          ,validation_data=(test_images, test_labels),callbacks=callback )"
      ],
      "execution_count": null,
      "outputs": [
        {
          "output_type": "stream",
          "text": [
            "Epoch 1/50\n",
            "1019/1019 [==============================] - 7s 6ms/step - loss: 0.3228 - accuracy: 0.8947 - val_loss: 0.0508 - val_accuracy: 0.9829\n",
            "Epoch 2/50\n",
            "1019/1019 [==============================] - 7s 6ms/step - loss: 0.0163 - accuracy: 0.9953 - val_loss: 0.0626 - val_accuracy: 0.9786\n",
            "Epoch 3/50\n",
            "1019/1019 [==============================] - 6s 6ms/step - loss: 8.5468e-04 - accuracy: 0.9998 - val_loss: 1.6568 - val_accuracy: 0.6992\n",
            "Epoch 4/50\n",
            "1019/1019 [==============================] - 6s 6ms/step - loss: 0.0344 - accuracy: 0.9888 - val_loss: 0.0698 - val_accuracy: 0.9824\n"
          ],
          "name": "stdout"
        }
      ]
    },
    {
      "cell_type": "code",
      "metadata": {
        "trusted": true,
        "id": "B4fUKhXKFAEp",
        "outputId": "bcdf0291-40dd-40b2-e5dd-1f75ca07985f"
      },
      "source": [
        "modelCNN.evaluate(test_images,  test_labels, verbose=2)"
      ],
      "execution_count": null,
      "outputs": [
        {
          "output_type": "stream",
          "text": [
            "341/341 - 1s - loss: 0.0508 - accuracy: 0.9829\n"
          ],
          "name": "stdout"
        },
        {
          "output_type": "execute_result",
          "data": {
            "text/plain": [
              "[0.05079151317477226, 0.9829451441764832]"
            ]
          },
          "metadata": {
            "tags": []
          },
          "execution_count": 124
        }
      ]
    },
    {
      "cell_type": "code",
      "metadata": {
        "_uuid": "0be16a60-2206-40f5-893c-33dc962620fc",
        "_cell_guid": "cd320f14-1b4c-4f0a-b563-912c9c5c1c11",
        "trusted": true,
        "id": "DET5VPlCFAEp",
        "outputId": "e16a45c2-a90a-4907-bcb4-af22ff2bdcc0"
      },
      "source": [
        "pred_labels = modelCNN.predict(test_images)\n",
        "zo_lossCNN = zero_one(pred_labels,test_labels)\n",
        "print(\"Zero one loss: \",zo_lossCNN3)"
      ],
      "execution_count": null,
      "outputs": [
        {
          "output_type": "stream",
          "text": [
            "Zero one loss:  0.007427104346231395\n"
          ],
          "name": "stdout"
        }
      ]
    },
    {
      "cell_type": "markdown",
      "metadata": {
        "id": "PSysWD50e-1x"
      },
      "source": [
        "**VGG16 Model**"
      ]
    },
    {
      "cell_type": "code",
      "metadata": {
        "_uuid": "ce9ac56d-bc1d-4037-997d-940413bb244a",
        "_cell_guid": "26432b7e-9c0d-405a-8bed-a1ab22f64837",
        "trusted": true,
        "id": "hrmJdS2NmZl6",
        "outputId": "f3a34f02-dcd6-4e40-e216-d70b19cbd19b"
      },
      "source": [
        "base_model=VGG16(weights='imagenet',include_top=False, input_shape=(32, 32, 3)) \n",
        "x=base_model.output\n",
        "x=GlobalAveragePooling2D()(x)\n",
        "preds=Dense(10,activation='softmax')(x) #final layer with softmax activation\n",
        "\n",
        "modelVGG16=Model(inputs=base_model.input,outputs=preds)\n",
        "modelVGG16.summary()"
      ],
      "execution_count": null,
      "outputs": [
        {
          "output_type": "stream",
          "text": [
            "Model: \"model_2\"\n",
            "_________________________________________________________________\n",
            "Layer (type)                 Output Shape              Param #   \n",
            "=================================================================\n",
            "input_4 (InputLayer)         [(None, 32, 32, 3)]       0         \n",
            "_________________________________________________________________\n",
            "block1_conv1 (Conv2D)        (None, 32, 32, 64)        1792      \n",
            "_________________________________________________________________\n",
            "block1_conv2 (Conv2D)        (None, 32, 32, 64)        36928     \n",
            "_________________________________________________________________\n",
            "block1_pool (MaxPooling2D)   (None, 16, 16, 64)        0         \n",
            "_________________________________________________________________\n",
            "block2_conv1 (Conv2D)        (None, 16, 16, 128)       73856     \n",
            "_________________________________________________________________\n",
            "block2_conv2 (Conv2D)        (None, 16, 16, 128)       147584    \n",
            "_________________________________________________________________\n",
            "block2_pool (MaxPooling2D)   (None, 8, 8, 128)         0         \n",
            "_________________________________________________________________\n",
            "block3_conv1 (Conv2D)        (None, 8, 8, 256)         295168    \n",
            "_________________________________________________________________\n",
            "block3_conv2 (Conv2D)        (None, 8, 8, 256)         590080    \n",
            "_________________________________________________________________\n",
            "block3_conv3 (Conv2D)        (None, 8, 8, 256)         590080    \n",
            "_________________________________________________________________\n",
            "block3_pool (MaxPooling2D)   (None, 4, 4, 256)         0         \n",
            "_________________________________________________________________\n",
            "block4_conv1 (Conv2D)        (None, 4, 4, 512)         1180160   \n",
            "_________________________________________________________________\n",
            "block4_conv2 (Conv2D)        (None, 4, 4, 512)         2359808   \n",
            "_________________________________________________________________\n",
            "block4_conv3 (Conv2D)        (None, 4, 4, 512)         2359808   \n",
            "_________________________________________________________________\n",
            "block4_pool (MaxPooling2D)   (None, 2, 2, 512)         0         \n",
            "_________________________________________________________________\n",
            "block5_conv1 (Conv2D)        (None, 2, 2, 512)         2359808   \n",
            "_________________________________________________________________\n",
            "block5_conv2 (Conv2D)        (None, 2, 2, 512)         2359808   \n",
            "_________________________________________________________________\n",
            "block5_conv3 (Conv2D)        (None, 2, 2, 512)         2359808   \n",
            "_________________________________________________________________\n",
            "block5_pool (MaxPooling2D)   (None, 1, 1, 512)         0         \n",
            "_________________________________________________________________\n",
            "global_average_pooling2d_3 ( (None, 512)               0         \n",
            "_________________________________________________________________\n",
            "dense_89 (Dense)             (None, 10)                5130      \n",
            "=================================================================\n",
            "Total params: 14,719,818\n",
            "Trainable params: 14,719,818\n",
            "Non-trainable params: 0\n",
            "_________________________________________________________________\n"
          ],
          "name": "stdout"
        }
      ]
    },
    {
      "cell_type": "code",
      "metadata": {
        "_uuid": "2327c2b4-7f7e-42cf-9e0c-5348a8e03640",
        "_cell_guid": "ad9ad19d-9a6c-49be-be93-19d7b5635f78",
        "trusted": true,
        "id": "tf3XR_jFnFDZ",
        "outputId": "fe338e2b-e26f-4ab4-90a0-6d0de6dc787b"
      },
      "source": [
        "modelVGG16.compile(loss ='categorical_crossentropy', \n",
        "                     optimizer ='adam', \n",
        "                   metrics =['accuracy']) \n",
        "\n",
        "historyVGG16= modelVGG16.fit(train_images, train_labels, epochs=10\n",
        "          ,validation_data=(test_images, test_labels) )"
      ],
      "execution_count": null,
      "outputs": [
        {
          "output_type": "stream",
          "text": [
            "Epoch 1/10\n",
            "1019/1019 [==============================] - 22s 21ms/step - loss: 1.3741 - accuracy: 0.5007 - val_loss: 0.7164 - val_accuracy: 0.7629\n",
            "Epoch 2/10\n",
            "1019/1019 [==============================] - 21s 20ms/step - loss: 0.2714 - accuracy: 0.9160 - val_loss: 0.3810 - val_accuracy: 0.9338\n",
            "Epoch 3/10\n",
            "1019/1019 [==============================] - 21s 20ms/step - loss: 0.1314 - accuracy: 0.9664 - val_loss: 0.1031 - val_accuracy: 0.9722\n",
            "Epoch 4/10\n",
            "1019/1019 [==============================] - 21s 20ms/step - loss: 0.0998 - accuracy: 0.9753 - val_loss: 0.1534 - val_accuracy: 0.9557\n",
            "Epoch 5/10\n",
            "1019/1019 [==============================] - 21s 20ms/step - loss: 0.1065 - accuracy: 0.9745 - val_loss: 0.2852 - val_accuracy: 0.9268\n",
            "Epoch 6/10\n",
            "1019/1019 [==============================] - 21s 20ms/step - loss: 0.0884 - accuracy: 0.9745 - val_loss: 0.2307 - val_accuracy: 0.9716\n",
            "Epoch 7/10\n",
            "1019/1019 [==============================] - 21s 20ms/step - loss: 0.1076 - accuracy: 0.9731 - val_loss: 0.1490 - val_accuracy: 0.9700\n",
            "Epoch 8/10\n",
            "1019/1019 [==============================] - 21s 20ms/step - loss: 0.0408 - accuracy: 0.9923 - val_loss: 0.2086 - val_accuracy: 0.9673\n",
            "Epoch 9/10\n",
            "1019/1019 [==============================] - 21s 20ms/step - loss: 0.0897 - accuracy: 0.9829 - val_loss: 0.1635 - val_accuracy: 0.9646\n",
            "Epoch 10/10\n",
            "1019/1019 [==============================] - 21s 20ms/step - loss: 0.0485 - accuracy: 0.9897 - val_loss: 0.2076 - val_accuracy: 0.9537\n"
          ],
          "name": "stdout"
        }
      ]
    },
    {
      "cell_type": "code",
      "metadata": {
        "_uuid": "4cd9874d-daa4-43b7-a805-288e4415f181",
        "_cell_guid": "3e1f9221-6553-4ee4-8a00-3d2effed4db8",
        "trusted": true,
        "id": "AhG19koOFAEq",
        "outputId": "bfedd700-8506-49c7-dc1c-a363b418f6f7"
      },
      "source": [
        "pred_labels = modelVGG16.predict(test_images)\n",
        "zo_lossVGG16 = zero_one(pred_labels,test_labels)\n",
        "print(\"Zero one loss: \",zo_lossVGG16)"
      ],
      "execution_count": null,
      "outputs": [
        {
          "output_type": "stream",
          "text": [
            "Zero one loss:  0.04630478635613422\n"
          ],
          "name": "stdout"
        }
      ]
    },
    {
      "cell_type": "markdown",
      "metadata": {
        "id": "vkQoDmyffCyU"
      },
      "source": [
        "**MobileNet Model**"
      ]
    },
    {
      "cell_type": "code",
      "metadata": {
        "_uuid": "43ba20fe-d23a-4cf6-8817-9451cb75edfb",
        "_cell_guid": "fbe41251-a444-495b-8172-527e6acdb596",
        "trusted": true,
        "id": "LUkwivx4rsf5",
        "outputId": "4a9db81a-b160-4710-e930-95781f598330"
      },
      "source": [
        "base_model=MobileNet(weights='imagenet',include_top=False , input_shape=(32, 32, 3)) #impo\n",
        "x=base_model.output\n",
        "x=GlobalAveragePooling2D()(x)\n",
        "preds=Dense(10,activation='softmax')(x) \n",
        "\n",
        "modelMobileNet=Model(inputs=base_model.input,outputs=preds)\n",
        "\n",
        "modelMobileNet.compile(loss ='categorical_crossentropy', \n",
        "                     optimizer ='adam', \n",
        "                   metrics =['accuracy']) \n",
        "modelMobileNet.summary()"
      ],
      "execution_count": null,
      "outputs": [
        {
          "output_type": "stream",
          "text": [
            "Model: \"model_3\"\n",
            "_________________________________________________________________\n",
            "Layer (type)                 Output Shape              Param #   \n",
            "=================================================================\n",
            "input_5 (InputLayer)         [(None, 32, 32, 3)]       0         \n",
            "_________________________________________________________________\n",
            "conv1 (Conv2D)               (None, 16, 16, 32)        864       \n",
            "_________________________________________________________________\n",
            "conv1_bn (BatchNormalization (None, 16, 16, 32)        128       \n",
            "_________________________________________________________________\n",
            "conv1_relu (ReLU)            (None, 16, 16, 32)        0         \n",
            "_________________________________________________________________\n",
            "conv_dw_1 (DepthwiseConv2D)  (None, 16, 16, 32)        288       \n",
            "_________________________________________________________________\n",
            "conv_dw_1_bn (BatchNormaliza (None, 16, 16, 32)        128       \n",
            "_________________________________________________________________\n",
            "conv_dw_1_relu (ReLU)        (None, 16, 16, 32)        0         \n",
            "_________________________________________________________________\n",
            "conv_pw_1 (Conv2D)           (None, 16, 16, 64)        2048      \n",
            "_________________________________________________________________\n",
            "conv_pw_1_bn (BatchNormaliza (None, 16, 16, 64)        256       \n",
            "_________________________________________________________________\n",
            "conv_pw_1_relu (ReLU)        (None, 16, 16, 64)        0         \n",
            "_________________________________________________________________\n",
            "conv_pad_2 (ZeroPadding2D)   (None, 17, 17, 64)        0         \n",
            "_________________________________________________________________\n",
            "conv_dw_2 (DepthwiseConv2D)  (None, 8, 8, 64)          576       \n",
            "_________________________________________________________________\n",
            "conv_dw_2_bn (BatchNormaliza (None, 8, 8, 64)          256       \n",
            "_________________________________________________________________\n",
            "conv_dw_2_relu (ReLU)        (None, 8, 8, 64)          0         \n",
            "_________________________________________________________________\n",
            "conv_pw_2 (Conv2D)           (None, 8, 8, 128)         8192      \n",
            "_________________________________________________________________\n",
            "conv_pw_2_bn (BatchNormaliza (None, 8, 8, 128)         512       \n",
            "_________________________________________________________________\n",
            "conv_pw_2_relu (ReLU)        (None, 8, 8, 128)         0         \n",
            "_________________________________________________________________\n",
            "conv_dw_3 (DepthwiseConv2D)  (None, 8, 8, 128)         1152      \n",
            "_________________________________________________________________\n",
            "conv_dw_3_bn (BatchNormaliza (None, 8, 8, 128)         512       \n",
            "_________________________________________________________________\n",
            "conv_dw_3_relu (ReLU)        (None, 8, 8, 128)         0         \n",
            "_________________________________________________________________\n",
            "conv_pw_3 (Conv2D)           (None, 8, 8, 128)         16384     \n",
            "_________________________________________________________________\n",
            "conv_pw_3_bn (BatchNormaliza (None, 8, 8, 128)         512       \n",
            "_________________________________________________________________\n",
            "conv_pw_3_relu (ReLU)        (None, 8, 8, 128)         0         \n",
            "_________________________________________________________________\n",
            "conv_pad_4 (ZeroPadding2D)   (None, 9, 9, 128)         0         \n",
            "_________________________________________________________________\n",
            "conv_dw_4 (DepthwiseConv2D)  (None, 4, 4, 128)         1152      \n",
            "_________________________________________________________________\n",
            "conv_dw_4_bn (BatchNormaliza (None, 4, 4, 128)         512       \n",
            "_________________________________________________________________\n",
            "conv_dw_4_relu (ReLU)        (None, 4, 4, 128)         0         \n",
            "_________________________________________________________________\n",
            "conv_pw_4 (Conv2D)           (None, 4, 4, 256)         32768     \n",
            "_________________________________________________________________\n",
            "conv_pw_4_bn (BatchNormaliza (None, 4, 4, 256)         1024      \n",
            "_________________________________________________________________\n",
            "conv_pw_4_relu (ReLU)        (None, 4, 4, 256)         0         \n",
            "_________________________________________________________________\n",
            "conv_dw_5 (DepthwiseConv2D)  (None, 4, 4, 256)         2304      \n",
            "_________________________________________________________________\n",
            "conv_dw_5_bn (BatchNormaliza (None, 4, 4, 256)         1024      \n",
            "_________________________________________________________________\n",
            "conv_dw_5_relu (ReLU)        (None, 4, 4, 256)         0         \n",
            "_________________________________________________________________\n",
            "conv_pw_5 (Conv2D)           (None, 4, 4, 256)         65536     \n",
            "_________________________________________________________________\n",
            "conv_pw_5_bn (BatchNormaliza (None, 4, 4, 256)         1024      \n",
            "_________________________________________________________________\n",
            "conv_pw_5_relu (ReLU)        (None, 4, 4, 256)         0         \n",
            "_________________________________________________________________\n",
            "conv_pad_6 (ZeroPadding2D)   (None, 5, 5, 256)         0         \n",
            "_________________________________________________________________\n",
            "conv_dw_6 (DepthwiseConv2D)  (None, 2, 2, 256)         2304      \n",
            "_________________________________________________________________\n",
            "conv_dw_6_bn (BatchNormaliza (None, 2, 2, 256)         1024      \n",
            "_________________________________________________________________\n",
            "conv_dw_6_relu (ReLU)        (None, 2, 2, 256)         0         \n",
            "_________________________________________________________________\n",
            "conv_pw_6 (Conv2D)           (None, 2, 2, 512)         131072    \n",
            "_________________________________________________________________\n",
            "conv_pw_6_bn (BatchNormaliza (None, 2, 2, 512)         2048      \n",
            "_________________________________________________________________\n",
            "conv_pw_6_relu (ReLU)        (None, 2, 2, 512)         0         \n",
            "_________________________________________________________________\n",
            "conv_dw_7 (DepthwiseConv2D)  (None, 2, 2, 512)         4608      \n",
            "_________________________________________________________________\n",
            "conv_dw_7_bn (BatchNormaliza (None, 2, 2, 512)         2048      \n",
            "_________________________________________________________________\n",
            "conv_dw_7_relu (ReLU)        (None, 2, 2, 512)         0         \n",
            "_________________________________________________________________\n",
            "conv_pw_7 (Conv2D)           (None, 2, 2, 512)         262144    \n",
            "_________________________________________________________________\n",
            "conv_pw_7_bn (BatchNormaliza (None, 2, 2, 512)         2048      \n",
            "_________________________________________________________________\n",
            "conv_pw_7_relu (ReLU)        (None, 2, 2, 512)         0         \n",
            "_________________________________________________________________\n",
            "conv_dw_8 (DepthwiseConv2D)  (None, 2, 2, 512)         4608      \n",
            "_________________________________________________________________\n",
            "conv_dw_8_bn (BatchNormaliza (None, 2, 2, 512)         2048      \n",
            "_________________________________________________________________\n",
            "conv_dw_8_relu (ReLU)        (None, 2, 2, 512)         0         \n",
            "_________________________________________________________________\n",
            "conv_pw_8 (Conv2D)           (None, 2, 2, 512)         262144    \n",
            "_________________________________________________________________\n",
            "conv_pw_8_bn (BatchNormaliza (None, 2, 2, 512)         2048      \n",
            "_________________________________________________________________\n",
            "conv_pw_8_relu (ReLU)        (None, 2, 2, 512)         0         \n",
            "_________________________________________________________________\n",
            "conv_dw_9 (DepthwiseConv2D)  (None, 2, 2, 512)         4608      \n",
            "_________________________________________________________________\n",
            "conv_dw_9_bn (BatchNormaliza (None, 2, 2, 512)         2048      \n",
            "_________________________________________________________________\n",
            "conv_dw_9_relu (ReLU)        (None, 2, 2, 512)         0         \n",
            "_________________________________________________________________\n",
            "conv_pw_9 (Conv2D)           (None, 2, 2, 512)         262144    \n",
            "_________________________________________________________________\n",
            "conv_pw_9_bn (BatchNormaliza (None, 2, 2, 512)         2048      \n",
            "_________________________________________________________________\n",
            "conv_pw_9_relu (ReLU)        (None, 2, 2, 512)         0         \n",
            "_________________________________________________________________\n",
            "conv_dw_10 (DepthwiseConv2D) (None, 2, 2, 512)         4608      \n",
            "_________________________________________________________________\n",
            "conv_dw_10_bn (BatchNormaliz (None, 2, 2, 512)         2048      \n",
            "_________________________________________________________________\n",
            "conv_dw_10_relu (ReLU)       (None, 2, 2, 512)         0         \n",
            "_________________________________________________________________\n",
            "conv_pw_10 (Conv2D)          (None, 2, 2, 512)         262144    \n",
            "_________________________________________________________________\n",
            "conv_pw_10_bn (BatchNormaliz (None, 2, 2, 512)         2048      \n",
            "_________________________________________________________________\n",
            "conv_pw_10_relu (ReLU)       (None, 2, 2, 512)         0         \n",
            "_________________________________________________________________\n",
            "conv_dw_11 (DepthwiseConv2D) (None, 2, 2, 512)         4608      \n",
            "_________________________________________________________________\n",
            "conv_dw_11_bn (BatchNormaliz (None, 2, 2, 512)         2048      \n",
            "_________________________________________________________________\n",
            "conv_dw_11_relu (ReLU)       (None, 2, 2, 512)         0         \n",
            "_________________________________________________________________\n",
            "conv_pw_11 (Conv2D)          (None, 2, 2, 512)         262144    \n",
            "_________________________________________________________________\n",
            "conv_pw_11_bn (BatchNormaliz (None, 2, 2, 512)         2048      \n",
            "_________________________________________________________________\n",
            "conv_pw_11_relu (ReLU)       (None, 2, 2, 512)         0         \n",
            "_________________________________________________________________\n",
            "conv_pad_12 (ZeroPadding2D)  (None, 3, 3, 512)         0         \n",
            "_________________________________________________________________\n",
            "conv_dw_12 (DepthwiseConv2D) (None, 1, 1, 512)         4608      \n",
            "_________________________________________________________________\n",
            "conv_dw_12_bn (BatchNormaliz (None, 1, 1, 512)         2048      \n",
            "_________________________________________________________________\n",
            "conv_dw_12_relu (ReLU)       (None, 1, 1, 512)         0         \n",
            "_________________________________________________________________\n",
            "conv_pw_12 (Conv2D)          (None, 1, 1, 1024)        524288    \n",
            "_________________________________________________________________\n",
            "conv_pw_12_bn (BatchNormaliz (None, 1, 1, 1024)        4096      \n",
            "_________________________________________________________________\n",
            "conv_pw_12_relu (ReLU)       (None, 1, 1, 1024)        0         \n",
            "_________________________________________________________________\n",
            "conv_dw_13 (DepthwiseConv2D) (None, 1, 1, 1024)        9216      \n",
            "_________________________________________________________________\n",
            "conv_dw_13_bn (BatchNormaliz (None, 1, 1, 1024)        4096      \n",
            "_________________________________________________________________\n",
            "conv_dw_13_relu (ReLU)       (None, 1, 1, 1024)        0         \n",
            "_________________________________________________________________\n",
            "conv_pw_13 (Conv2D)          (None, 1, 1, 1024)        1048576   \n",
            "_________________________________________________________________\n",
            "conv_pw_13_bn (BatchNormaliz (None, 1, 1, 1024)        4096      \n",
            "_________________________________________________________________\n",
            "conv_pw_13_relu (ReLU)       (None, 1, 1, 1024)        0         \n",
            "_________________________________________________________________\n",
            "global_average_pooling2d_4 ( (None, 1024)              0         \n",
            "_________________________________________________________________\n",
            "dense_90 (Dense)             (None, 10)                10250     \n",
            "=================================================================\n",
            "Total params: 3,239,114\n",
            "Trainable params: 3,217,226\n",
            "Non-trainable params: 21,888\n",
            "_________________________________________________________________\n"
          ],
          "name": "stdout"
        }
      ]
    },
    {
      "cell_type": "code",
      "metadata": {
        "_uuid": "e283c16d-5ebe-454f-a9bf-4b9f639b9252",
        "_cell_guid": "77fa6236-0003-4bac-9784-b78bc229ec85",
        "trusted": true,
        "id": "in0dkb3YsF4Y",
        "outputId": "44a9da79-80a5-4a9f-f9b3-5109d4741b01"
      },
      "source": [
        "historyMobileNet = modelMobileNet.fit(train_images, train_labels, epochs=10\n",
        "          ,validation_data=(test_images, test_labels) )"
      ],
      "execution_count": null,
      "outputs": [
        {
          "output_type": "stream",
          "text": [
            "Epoch 1/10\n",
            "1019/1019 [==============================] - 13s 13ms/step - loss: 0.0255 - accuracy: 0.9947 - val_loss: 0.0145 - val_accuracy: 0.9960\n",
            "Epoch 2/10\n",
            "1019/1019 [==============================] - 12s 12ms/step - loss: 0.0243 - accuracy: 0.9942 - val_loss: 0.0272 - val_accuracy: 0.9901\n",
            "Epoch 3/10\n",
            "1019/1019 [==============================] - 12s 12ms/step - loss: 0.0129 - accuracy: 0.9971 - val_loss: 0.0329 - val_accuracy: 0.9888\n",
            "Epoch 4/10\n",
            "1019/1019 [==============================] - 13s 13ms/step - loss: 0.0271 - accuracy: 0.9942 - val_loss: 0.0191 - val_accuracy: 0.9950\n",
            "Epoch 5/10\n",
            "1019/1019 [==============================] - 12s 12ms/step - loss: 0.0220 - accuracy: 0.9954 - val_loss: 0.0104 - val_accuracy: 0.9958\n",
            "Epoch 6/10\n",
            "1019/1019 [==============================] - 13s 12ms/step - loss: 0.0277 - accuracy: 0.9950 - val_loss: 0.0165 - val_accuracy: 0.9934\n",
            "Epoch 7/10\n",
            "1019/1019 [==============================] - 12s 12ms/step - loss: 0.0112 - accuracy: 0.9982 - val_loss: 0.0073 - val_accuracy: 0.9965\n",
            "Epoch 8/10\n",
            "1019/1019 [==============================] - 12s 12ms/step - loss: 0.0298 - accuracy: 0.9944 - val_loss: 0.0581 - val_accuracy: 0.9818\n",
            "Epoch 9/10\n",
            "1019/1019 [==============================] - 12s 12ms/step - loss: 0.0157 - accuracy: 0.9969 - val_loss: 0.0059 - val_accuracy: 0.9975\n",
            "Epoch 10/10\n",
            "1019/1019 [==============================] - 12s 12ms/step - loss: 0.0072 - accuracy: 0.9986 - val_loss: 0.3646 - val_accuracy: 0.9368\n"
          ],
          "name": "stdout"
        }
      ]
    },
    {
      "cell_type": "code",
      "metadata": {
        "_uuid": "05973e3e-b39d-4a9f-a5a3-58ba7140ff49",
        "_cell_guid": "53c2151f-6e14-4459-b8ff-067fb31c9a8f",
        "trusted": true,
        "id": "7QDcXoDj6DDi",
        "outputId": "507b2384-f91e-4654-8de3-d8a6efc8dd63"
      },
      "source": [
        "pred_labels = modelMobileNet.predict(test_images)\n",
        "zo_lossMobileNet = zero_one(pred_labels,test_labels)\n",
        "print(\"Zero one loss: \",zo_lossMobileNet)"
      ],
      "execution_count": null,
      "outputs": [
        {
          "output_type": "stream",
          "text": [
            "Zero one loss:  0.06317623326609201\n"
          ],
          "name": "stdout"
        }
      ]
    },
    {
      "cell_type": "markdown",
      "metadata": {
        "id": "CB4id3CWfHy8"
      },
      "source": [
        "**Resnet50 Model**"
      ]
    },
    {
      "cell_type": "code",
      "metadata": {
        "_uuid": "d4748ea8-fa41-4663-a792-f72d4147e6a1",
        "_cell_guid": "6d9077ba-b709-4b25-8842-a88a00ce5531",
        "trusted": true,
        "id": "Gpb3K3Jp9krQ",
        "outputId": "8f9c660d-6e32-431a-bc5b-4730d0532dca"
      },
      "source": [
        "resnet_model = ResNet50(weights='imagenet', include_top=False, input_shape=(32, 32, 3))\n",
        "\n",
        "modelResNet50 = tf.keras.Sequential()\n",
        "modelResNet50.add(resnet_model)\n",
        "modelResNet50.add(GlobalAveragePooling2D())\n",
        "modelResNet50.add(Dense(10, activation='softmax'))\n",
        "  \n",
        "modelResNet50.compile(loss ='categorical_crossentropy', \n",
        "                     optimizer ='adam', \n",
        "                   metrics =['accuracy']) \n",
        "modelResNet50.summary()"
      ],
      "execution_count": null,
      "outputs": [
        {
          "output_type": "stream",
          "text": [
            "Model: \"sequential_32\"\n",
            "_________________________________________________________________\n",
            "Layer (type)                 Output Shape              Param #   \n",
            "=================================================================\n",
            "resnet50 (Functional)        (None, 1, 1, 2048)        23587712  \n",
            "_________________________________________________________________\n",
            "global_average_pooling2d_5 ( (None, 2048)              0         \n",
            "_________________________________________________________________\n",
            "dense_91 (Dense)             (None, 10)                20490     \n",
            "=================================================================\n",
            "Total params: 23,608,202\n",
            "Trainable params: 23,555,082\n",
            "Non-trainable params: 53,120\n",
            "_________________________________________________________________\n"
          ],
          "name": "stdout"
        }
      ]
    },
    {
      "cell_type": "code",
      "metadata": {
        "_uuid": "eab73632-9893-444e-b1ee-f1551549b3fb",
        "_cell_guid": "381de320-6661-476e-a765-4ab46a21f11e",
        "trusted": true,
        "id": "lTp6y67D9oB9",
        "outputId": "d908a3de-b007-4f0d-ac68-182206b35786"
      },
      "source": [
        "\n",
        "historyResNet50 = modelResNet50.fit(train_images, train_labels, epochs=10\n",
        "          ,validation_data=(test_images, test_labels) )"
      ],
      "execution_count": null,
      "outputs": [
        {
          "output_type": "stream",
          "text": [
            "Epoch 1/10\n",
            "1019/1019 [==============================] - 45s 38ms/step - loss: 1.2243 - accuracy: 0.7156 - val_loss: 1.1894 - val_accuracy: 0.6647\n",
            "Epoch 2/10\n",
            "1019/1019 [==============================] - 37s 36ms/step - loss: 0.2132 - accuracy: 0.9540 - val_loss: 7.1163 - val_accuracy: 0.8936\n",
            "Epoch 6/10\n",
            "1019/1019 [==============================] - 37s 36ms/step - loss: 0.2649 - accuracy: 0.9527 - val_loss: 0.1122 - val_accuracy: 0.9699\n",
            "Epoch 7/10\n",
            "1019/1019 [==============================] - 37s 36ms/step - loss: 0.2344 - accuracy: 0.9557 - val_loss: 4.0294 - val_accuracy: 0.4623\n",
            "Epoch 8/10\n",
            "1019/1019 [==============================] - 37s 36ms/step - loss: 0.1825 - accuracy: 0.9619 - val_loss: 0.1864 - val_accuracy: 0.9376\n",
            "Epoch 9/10\n",
            "1019/1019 [==============================] - 37s 36ms/step - loss: 0.0899 - accuracy: 0.9804 - val_loss: 0.1751 - val_accuracy: 0.9498\n",
            "Epoch 10/10\n",
            "1019/1019 [==============================] - 37s 36ms/step - loss: 0.0894 - accuracy: 0.9843 - val_loss: 0.0600 - val_accuracy: 0.9785\n"
          ],
          "name": "stdout"
        }
      ]
    },
    {
      "cell_type": "code",
      "metadata": {
        "_uuid": "3056eec1-4f62-4d86-873b-1be75ad260a9",
        "_cell_guid": "ea31df0c-b4b5-4893-b1fa-53b62bd3a322",
        "trusted": true,
        "id": "aqDZbO4-WWLw",
        "outputId": "8ecba506-98cd-4bc6-ec91-50404699ddff"
      },
      "source": [
        "pred_labels = modelResNet50.predict(test_images)\n",
        "zo_lossmodelResNet50 = zero_one(pred_labels,test_labels)\n",
        "print(\"Zero one loss: \",zo_lossmodelResNet50)"
      ],
      "execution_count": null,
      "outputs": [
        {
          "output_type": "stream",
          "text": [
            "Zero one loss:  0.021547771868696164\n"
          ],
          "name": "stdout"
        }
      ]
    }
  ]
}