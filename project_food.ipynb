{
  "nbformat": 4,
  "nbformat_minor": 0,
  "metadata": {
    "accelerator": "TPU",
    "colab": {
      "name": "project_food.ipynb",
      "provenance": [],
      "collapsed_sections": []
    },
    "kernelspec": {
      "display_name": "Python 3",
      "name": "python3"
    }
  },
  "cells": [
    {
      "cell_type": "code",
      "metadata": {
        "colab": {
          "base_uri": "https://localhost:8080/",
          "height": 183
        },
        "id": "86PiofwRTBGx",
        "outputId": "fb2922d3-d546-4a45-8cf8-eeb61684a307"
      },
      "source": [
        "from google.colab import drive\r\n",
        "drive.mount('/content/gdrive')"
      ],
      "execution_count": null,
      "outputs": [
        {
          "output_type": "error",
          "ename": "ModuleNotFoundError",
          "evalue": "ignored",
          "traceback": [
            "\u001b[1;31m---------------------------------------------------------------------------\u001b[0m",
            "\u001b[1;31mModuleNotFoundError\u001b[0m                       Traceback (most recent call last)",
            "\u001b[1;32m<ipython-input-1-4996ee3d8d09>\u001b[0m in \u001b[0;36m<module>\u001b[1;34m\u001b[0m\n\u001b[1;32m----> 1\u001b[1;33m \u001b[1;32mfrom\u001b[0m \u001b[0mgoogle\u001b[0m\u001b[1;33m.\u001b[0m\u001b[0mcolab\u001b[0m \u001b[1;32mimport\u001b[0m \u001b[0mdrive\u001b[0m\u001b[1;33m\u001b[0m\u001b[1;33m\u001b[0m\u001b[0m\n\u001b[0m\u001b[0;32m      2\u001b[0m \u001b[0mdrive\u001b[0m\u001b[1;33m.\u001b[0m\u001b[0mmount\u001b[0m\u001b[1;33m(\u001b[0m\u001b[1;34m'/content/gdrive'\u001b[0m\u001b[1;33m)\u001b[0m\u001b[1;33m\u001b[0m\u001b[1;33m\u001b[0m\u001b[0m\n",
            "\u001b[1;31mModuleNotFoundError\u001b[0m: No module named 'google.colab'"
          ]
        }
      ]
    },
    {
      "cell_type": "code",
      "metadata": {
        "id": "O_8-lVNTV37U",
        "colab": {
          "base_uri": "https://localhost:8080/"
        },
        "outputId": "ce53a7ce-9ed6-4611-df20-523514a26c98"
      },
      "source": [
        "import os\r\n",
        "\r\n",
        "os.environ['KAGGLE_CONFIG_DIR'] = \"/content/gdrive/My Drive/Kaggle\"\r\n",
        "%cd /content/gdrive/My Drive/Kaggle\r\n",
        "\r\n",
        "!kaggle datasets download --force -d moltean/fruits\r\n",
        "!unzip fruits.zip"
      ],
      "execution_count": null,
      "outputs": [
        {
          "output_type": "stream",
          "text": [
            "/content/gdrive/My Drive/Kaggle\n",
            "Downloading fruits.zip to /content/gdrive/My Drive/Kaggle\n",
            "  0% 0.00/760M [00:00<?, ?B/s]\n",
            "User cancelled operation\n",
            "Archive:  fruits.zip\n",
            "  End-of-central-directory signature not found.  Either this file is not\n",
            "  a zipfile, or it constitutes one disk of a multi-part archive.  In the\n",
            "  latter case the central directory and zipfile comment will be found on\n",
            "  the last disk(s) of this archive.\n",
            "unzip:  cannot find zipfile directory in one of fruits.zip or\n",
            "        fruits.zip.zip, and cannot find fruits.zip.ZIP, period.\n"
          ],
          "name": "stdout"
        }
      ]
    },
    {
      "cell_type": "code",
      "metadata": {
        "colab": {
          "base_uri": "https://localhost:8080/"
        },
        "id": "o1uDbNhQiX0Q",
        "outputId": "4f025161-05e9-4bc5-eb42-71f2300537ca"
      },
      "source": [
        "import os\r\n",
        "\r\n",
        "os.environ['KAGGLE_CONFIG_DIR'] = \"/content/gdrive/My Drive/Kaggle\"\r\n",
        "%cd /content/gdrive/My Drive/Kaggle"
      ],
      "execution_count": null,
      "outputs": [
        {
          "output_type": "stream",
          "text": [
            "/content/gdrive/My Drive/Kaggle\n"
          ],
          "name": "stdout"
        }
      ]
    },
    {
      "cell_type": "code",
      "metadata": {
        "colab": {
          "base_uri": "https://localhost:8080/"
        },
        "id": "tUAT4FXla4an",
        "outputId": "2c993ea4-5376-4e27-c037-5d5aeecc46a0"
      },
      "source": [
        "# load libraries \r\n",
        "import os\r\n",
        "import pandas as pd \r\n",
        "import matplotlib.pyplot as plt\r\n",
        "import numpy as np\r\n",
        "import cv2 \r\n",
        "import pandas as pd\r\n",
        "import tensorflow as tf \r\n",
        "import seaborn as sn\r\n",
        "from keras.utils import np_utils\r\n",
        "from sklearn.utils import shuffle\r\n",
        "from sklearn.metrics import zero_one_loss,confusion_matrix\r\n",
        "from keras.layers import Activation,Dropout,Flatten,Dense,MaxPooling2D,GlobalAveragePooling2D,Conv2D\r\n",
        "from keras.applications.vgg16 import VGG16\r\n",
        "from keras.applications import MobileNetV2,MobileNet,ResNet50\r\n",
        "from keras.models import Model\r\n",
        "\r\n",
        "\r\n",
        "type_fruits =[\"Apple\",\"Banana\",\"Plum\",\"Cherry\",\"Grape \",\"Pear\",\"Peach\",\"Pepper\",\"Tomato\",\"Potato\"]\r\n",
        "\r\n",
        "train_dir = 'fruits-360/Training'\r\n",
        "test_dir = 'fruits-360/Test'\r\n",
        "\r\n",
        "IMAGE_SIZE = (32,32)\r\n",
        "trainLables, trainImages=[], []\r\n",
        "testLables, testImages=[], []\r\n",
        "\r\n",
        "# load data\r\n",
        "def load_data(directory,image_list,lable_list):\r\n",
        "    for root, dirs, files in os.walk(directory, topdown=False):\r\n",
        "        for dir_name in dirs: \r\n",
        "            for type_name in type_fruits: \r\n",
        "                if dir_name.startswith(type_name):                    \r\n",
        "                    for filenames in os.listdir(directory +\"/\"+dir_name):      \r\n",
        "                        image = cv2.imread(directory +\"/\"+ dir_name +\"/\"+filenames)\r\n",
        "                        image = cv2.cvtColor(image, cv2.COLOR_BGR2RGB)\r\n",
        "                        image = cv2.resize(image, IMAGE_SIZE) \r\n",
        "                        image_list.append(image)\r\n",
        "                        lable_list.append(type_fruits.index(type_name))\r\n",
        "                    \r\n",
        "# load train data                   \r\n",
        "load_data(train_dir,trainImages,trainLables) \r\n",
        "print('Train images ',len(trainImages))\r\n",
        "print('Train lables ',len(trainLables))\r\n",
        "\r\n",
        "\r\n",
        "\r\n",
        "# load test data\r\n",
        "load_data(test_dir,testImages,testLables) \r\n",
        "print(\"Test images  \",len(testImages))\r\n",
        "print(\"Test lables  \",len(testLables))\r\n",
        "\r\n",
        "\r\n",
        "\r\n",
        "train_images = np.array(trainImages, dtype = 'float32')\r\n",
        "train_labels = np.array(trainLables, dtype = 'i')                      \r\n",
        "test_images  = np.array(testImages, dtype = 'float32')\r\n",
        "test_labels  = np.array(testLables, dtype = 'i')"
      ],
      "execution_count": null,
      "outputs": [
        {
          "output_type": "stream",
          "text": [
            "Train images  32607\n",
            "Train lables  32607\n",
            "Test images   10906\n",
            "Test lables   10906\n"
          ],
          "name": "stdout"
        }
      ]
    },
    {
      "cell_type": "code",
      "metadata": {
        "id": "vxunTj47gj6s"
      },
      "source": [
        "# pre-process the data\r\n",
        "\r\n",
        "train_images = train_images / 255.0\r\n",
        "test_images  = test_images / 255.0\r\n",
        "\r\n",
        "# shuffle the data\r\n",
        "train_images,train_labels = shuffle(train_images,train_labels)\r\n",
        "test_images,test_labels  = shuffle(test_images,test_labels )\r\n",
        "\r\n",
        "no_of_classes = len(np.unique(train_labels))\r\n",
        "train_labels = np_utils.to_categorical(train_labels,no_of_classes)\r\n",
        "test_labels = np_utils.to_categorical(test_labels,no_of_classes)"
      ],
      "execution_count": null,
      "outputs": []
    },
    {
      "cell_type": "code",
      "metadata": {
        "id": "McRfsXCgDHrS",
        "colab": {
          "base_uri": "https://localhost:8080/",
          "height": 808
        },
        "outputId": "5bb15b00-2bb6-4918-ae44-e8407ac56845"
      },
      "source": [
        "fig, axis = plt.subplots(3, 3, figsize=(14, 14))\r\n",
        "for i, ax in enumerate(axis.flat):\r\n",
        "    ax.imshow(test_images[i])        \r\n",
        "    test_labels_idx = np.argmax(test_labels[i])\r\n",
        "    ax.axis('off')\r\n",
        "    ax.set(title = f\"{type_fruits[test_labels_idx]} \")"
      ],
      "execution_count": null,
      "outputs": [
        {
          "output_type": "display_data",
          "data": {
            "image/png": "[encoded data removed]",
            "text/plain": [
              "<Figure size 1008x1008 with 9 Axes>"
            ]
          },
          "metadata": {
            "tags": [],
            "needs_background": "light"
          }
        }
      ]
    },
    {
      "cell_type": "code",
      "metadata": {
        "id": "5_WKHlbGjz5u",
        "colab": {
          "base_uri": "https://localhost:8080/"
        },
        "outputId": "0e03d2d3-883b-4821-e1c0-cd4dd09c7bca"
      },
      "source": [
        "modelFFN1 = tf.keras.Sequential()\r\n",
        "modelFFN1.add(Dense(12,input_shape = (32,32, 3), activation='relu'))\r\n",
        "modelFFN1.add(Flatten()) \r\n",
        "modelFFN1.add(Dense(10 , activation='sigmoid')) \r\n",
        "modelFFN1.compile(loss ='categorical_crossentropy',optimizer ='adam',metrics =['accuracy'])\r\n",
        "modelFFN1.summary()"
      ],
      "execution_count": null,
      "outputs": [
        {
          "output_type": "stream",
          "text": [
            "Model: \"sequential\"\n",
            "_________________________________________________________________\n",
            "Layer (type)                 Output Shape              Param #   \n",
            "=================================================================\n",
            "dense (Dense)                (None, 32, 32, 12)        48        \n",
            "_________________________________________________________________\n",
            "flatten (Flatten)            (None, 12288)             0         \n",
            "_________________________________________________________________\n",
            "dense_1 (Dense)              (None, 10)                122890    \n",
            "=================================================================\n",
            "Total params: 122,938\n",
            "Trainable params: 122,938\n",
            "Non-trainable params: 0\n",
            "_________________________________________________________________\n"
          ],
          "name": "stdout"
        }
      ]
    },
    {
      "cell_type": "code",
      "metadata": {
        "colab": {
          "base_uri": "https://localhost:8080/"
        },
        "id": "H3D7v2Epk8nP",
        "outputId": "ceb06158-b068-4198-cc98-3addc554c20a"
      },
      "source": [
        "historyFFN1 = modelFFN1.fit(train_images, train_labels, epochs=10\r\n",
        "          ,validation_data=(test_images, test_labels) )"
      ],
      "execution_count": null,
      "outputs": [
        {
          "output_type": "stream",
          "text": [
            "Epoch 1/10\n",
            "1019/1019 [==============================] - 9s 8ms/step - loss: 0.7468 - accuracy: 0.7587 - val_loss: 0.3209 - val_accuracy: 0.8848\n",
            "Epoch 2/10\n",
            "1019/1019 [==============================] - 8s 8ms/step - loss: 0.0751 - accuracy: 0.9853 - val_loss: 0.2026 - val_accuracy: 0.9227\n",
            "Epoch 3/10\n",
            "1019/1019 [==============================] - 8s 8ms/step - loss: 0.0249 - accuracy: 0.9970 - val_loss: 0.1605 - val_accuracy: 0.9528\n",
            "Epoch 4/10\n",
            "1019/1019 [==============================] - 8s 8ms/step - loss: 0.0164 - accuracy: 0.9976 - val_loss: 0.1488 - val_accuracy: 0.9516\n",
            "Epoch 5/10\n",
            "1019/1019 [==============================] - 8s 8ms/step - loss: 0.0066 - accuracy: 0.9995 - val_loss: 0.3433 - val_accuracy: 0.9100\n",
            "Epoch 6/10\n",
            "1019/1019 [==============================] - 8s 7ms/step - loss: 0.0143 - accuracy: 0.9959 - val_loss: 0.1207 - val_accuracy: 0.9630\n",
            "Epoch 7/10\n",
            "1019/1019 [==============================] - 8s 8ms/step - loss: 0.0031 - accuracy: 0.9996 - val_loss: 0.1112 - val_accuracy: 0.9690\n",
            "Epoch 8/10\n",
            "1019/1019 [==============================] - 8s 8ms/step - loss: 0.0086 - accuracy: 0.9981 - val_loss: 0.1240 - val_accuracy: 0.9633\n",
            "Epoch 9/10\n",
            "1019/1019 [==============================] - 8s 8ms/step - loss: 0.0015 - accuracy: 1.0000 - val_loss: 0.1095 - val_accuracy: 0.9686\n",
            "Epoch 10/10\n",
            "1019/1019 [==============================] - 8s 8ms/step - loss: 9.2048e-04 - accuracy: 1.0000 - val_loss: 0.1159 - val_accuracy: 0.9661\n"
          ],
          "name": "stdout"
        }
      ]
    },
    {
      "cell_type": "code",
      "metadata": {
        "id": "pGWR1_tylJWV",
        "colab": {
          "base_uri": "https://localhost:8080/"
        },
        "outputId": "447e0dc8-89ab-4e10-cfe5-4f1a3b0b92b4"
      },
      "source": [
        "modelFFN1.evaluate(test_images,  test_labels, verbose=2)"
      ],
      "execution_count": null,
      "outputs": [
        {
          "output_type": "stream",
          "text": [
            "341/341 - 1s - loss: 0.1159 - accuracy: 0.9661\n"
          ],
          "name": "stdout"
        },
        {
          "output_type": "execute_result",
          "data": {
            "text/plain": [
              "[0.115862637758255, 0.9660736918449402]"
            ]
          },
          "metadata": {
            "tags": []
          },
          "execution_count": 13
        }
      ]
    },
    {
      "cell_type": "code",
      "metadata": {
        "id": "ZbDnweteBTCt"
      },
      "source": [
        "def zero_one(pred_labels,test_labels):\r\n",
        "\r\n",
        "    pred_labels_idx = []\r\n",
        "    for i in range(len(pred_labels)):\r\n",
        "        pred_labels_idx.append(np.argmax(pred_labels[i])) \r\n",
        "    \r\n",
        "    test_labels_idx = []\r\n",
        "    for i in range(len(test_labels)):\r\n",
        "        test_labels_idx.append(np.argmax(test_labels[i]))     \r\n",
        "\r\n",
        "    return zero_one_loss(test_labels_idx, pred_labels_idx)"
      ],
      "execution_count": null,
      "outputs": []
    },
    {
      "cell_type": "code",
      "metadata": {
        "colab": {
          "base_uri": "https://localhost:8080/"
        },
        "id": "8mpPx65TBsgg",
        "outputId": "130f94ab-5d9e-49fe-92c0-930e498403ef"
      },
      "source": [
        "pred_labels = modelFFN1.predict(test_images)\r\n",
        "zo_lossFFN1 = zero_one(pred_labels,test_labels)\r\n",
        "print(\"Zero one loss: \",zo_lossFFN1)"
      ],
      "execution_count": null,
      "outputs": [
        {
          "output_type": "stream",
          "text": [
            "Zero one loss:  0.03392627911241519\n"
          ],
          "name": "stdout"
        }
      ]
    },
    {
      "cell_type": "code",
      "metadata": {
        "id": "b5sKWutgB2u9",
        "colab": {
          "base_uri": "https://localhost:8080/",
          "height": 499
        },
        "outputId": "c25ed28e-062c-4f9a-ab15-025a66072a1c"
      },
      "source": [
        "acc = historyFFN1.history['accuracy']\r\n",
        "val_acc = historyFFN1.history['val_accuracy']\r\n",
        "\r\n",
        "loss = historyFFN1.history['loss']\r\n",
        "val_loss = historyFFN1.history['val_loss']\r\n",
        "\r\n",
        "epochs_range = range(10)\r\n",
        "\r\n",
        "plt.figure(figsize=(8, 8))\r\n",
        "plt.subplot(1, 2, 1)\r\n",
        "plt.plot(epochs_range, acc, label='Training Accuracy')\r\n",
        "plt.plot(epochs_range, val_acc, label='Validation Accuracy')\r\n",
        "plt.legend(loc='lower right')\r\n",
        "plt.title('Training and Validation Accuracy')\r\n",
        "\r\n",
        "plt.subplot(1, 2, 2)\r\n",
        "plt.plot(epochs_range, loss, label='Training Loss')\r\n",
        "plt.plot(epochs_range, val_loss, label='Validation Loss')\r\n",
        "plt.legend(loc='upper right')\r\n",
        "plt.title('Training and Validation Loss')\r\n",
        "plt.show()"
      ],
      "execution_count": null,
      "outputs": [
        {
          "output_type": "display_data",
          "data": {
            "image/png": "[encoded data removed]",
            "text/plain": [
              "<Figure size 576x576 with 2 Axes>"
            ]
          },
          "metadata": {
            "tags": [],
            "needs_background": "light"
          }
        }
      ]
    },
    {
      "cell_type": "code",
      "metadata": {
        "id": "llJfpOlwCyX1",
        "colab": {
          "base_uri": "https://localhost:8080/",
          "height": 808
        },
        "outputId": "169f4fd8-2bd6-4305-cb41-7bc845505959"
      },
      "source": [
        "fig, axis = plt.subplots(3, 3, figsize=(14, 14))\r\n",
        "for i, ax in enumerate(axis.flat):\r\n",
        "    ax.imshow(test_images[i])    \r\n",
        "    pred_idx = np.argmax(pred_labels[i])\r\n",
        "    test_labels_idx = np.argmax(test_labels[i])\r\n",
        "    ax.axis('off')\r\n",
        "    ax.set(title = f\"{type_fruits[test_labels_idx]} : {type_fruits[pred_idx]}\")"
      ],
      "execution_count": null,
      "outputs": [
        {
          "output_type": "display_data",
          "data": {
            "image/png": "[encoded data removed]",
            "text/plain": [
              "<Figure size 1008x1008 with 9 Axes>"
            ]
          },
          "metadata": {
            "tags": [],
            "needs_background": "light"
          }
        }
      ]
    },
    {
      "cell_type": "code",
      "metadata": {
        "id": "mK5w2V0bDccN",
        "colab": {
          "base_uri": "https://localhost:8080/",
          "height": 316
        },
        "outputId": "8c840fa6-e242-408b-d79f-5218eb6037a6"
      },
      "source": [
        "sn.set(font_scale=1.0)\r\n",
        "pred_labels_idx = []\r\n",
        "for i in range(len(pred_labels)):\r\n",
        "    pred_labels_idx.append(np.argmax(pred_labels[i])) \r\n",
        "    \r\n",
        "test_labels_idx = []\r\n",
        "for i in range(len(test_labels)):\r\n",
        "    test_labels_idx.append(np.argmax(test_labels[i])) \r\n",
        "\r\n",
        "CM = confusion_matrix(test_labels_idx, pred_labels_idx)\r\n",
        "ax = plt.axes()\r\n",
        "sn.heatmap(CM, annot=True, \r\n",
        "           annot_kws={\"size\": 10}, \r\n",
        "           fmt=\"d\",\r\n",
        "           xticklabels=type_fruits, \r\n",
        "           yticklabels=type_fruits, ax = ax)\r\n",
        "ax.set_title('Confusion matrix')\r\n",
        "plt.show()"
      ],
      "execution_count": null,
      "outputs": [
        {
          "output_type": "display_data",
          "data": {
            "image/png": "[encoded data removed]",
            "text/plain": [
              "<Figure size 432x288 with 2 Axes>"
            ]
          },
          "metadata": {
            "tags": []
          }
        }
      ]
    },
    {
      "cell_type": "code",
      "metadata": {
        "id": "sZcP8dvNEwXA",
        "colab": {
          "base_uri": "https://localhost:8080/",
          "height": 664
        },
        "outputId": "894673a9-9fb8-484e-af43-4f2af5affed5"
      },
      "source": [
        "mislabeled_images_idx =[]\r\n",
        "\r\n",
        "for x in range(len(test_labels_idx)): \r\n",
        "    if(pred_labels_idx[x] != test_labels_idx[x]):\r\n",
        "        mislabeled_images_idx.append(x)\r\n",
        "#print_mislabeled_images(class_names, test_images, test_labels_idx, y_pred_idx)\r\n",
        "\r\n",
        "\r\n",
        "fig = plt.figure(figsize=(10,10))\r\n",
        "fig.suptitle(\"Some of mislabeled image\", fontsize=16)\r\n",
        "for i in range(16):\r\n",
        "    plt.subplot(4,4,i+1)\r\n",
        "    plt.xticks([])\r\n",
        "    plt.yticks([])\r\n",
        "    plt.grid(False)\r\n",
        "    index   =mislabeled_images_idx[i]    \r\n",
        "    real    =type_fruits[test_labels_idx[index]]\r\n",
        "    predict =type_fruits[pred_labels_idx[index]]\r\n",
        "    plt.xlabel(f\"{real} : {predict}\")\r\n",
        "    plt.imshow(test_images[index], cmap=plt.cm.binary)  \r\n",
        "plt.show()"
      ],
      "execution_count": null,
      "outputs": [
        {
          "output_type": "display_data",
          "data": {
            "image/png": "[encoded data removed]",
            "text/plain": [
              "<Figure size 720x720 with 16 Axes>"
            ]
          },
          "metadata": {
            "tags": []
          }
        }
      ]
    },
    {
      "cell_type": "code",
      "metadata": {
        "id": "Rwb10X1-E-rV",
        "colab": {
          "base_uri": "https://localhost:8080/"
        },
        "outputId": "c8e71ad6-bdbb-4025-8f1f-c9e9b42e0331"
      },
      "source": [
        "modelFFN2 = tf.keras.Sequential()\r\n",
        "modelFFN2.add(Dense(32,input_shape = (32,32, 3), activation='relu'))\r\n",
        "modelFFN2.add(Flatten()) \r\n",
        "modelFFN2.add(Dense(10 , activation='sigmoid')) \r\n",
        "\r\n",
        "modelFFN2.compile(loss ='categorical_crossentropy', \r\n",
        "                     optimizer ='adam', \r\n",
        "                   metrics =['accuracy']) \r\n",
        "modelFFN2.summary()"
      ],
      "execution_count": null,
      "outputs": [
        {
          "output_type": "stream",
          "text": [
            "Model: \"sequential_1\"\n",
            "_________________________________________________________________\n",
            "Layer (type)                 Output Shape              Param #   \n",
            "=================================================================\n",
            "dense_2 (Dense)              (None, 32, 32, 32)        128       \n",
            "_________________________________________________________________\n",
            "flatten_1 (Flatten)          (None, 32768)             0         \n",
            "_________________________________________________________________\n",
            "dense_3 (Dense)              (None, 10)                327690    \n",
            "=================================================================\n",
            "Total params: 327,818\n",
            "Trainable params: 327,818\n",
            "Non-trainable params: 0\n",
            "_________________________________________________________________\n"
          ],
          "name": "stdout"
        }
      ]
    },
    {
      "cell_type": "code",
      "metadata": {
        "colab": {
          "base_uri": "https://localhost:8080/"
        },
        "id": "M3FwZcRSFOss",
        "outputId": "19b152f3-e824-44ef-a314-682eeeb73ece"
      },
      "source": [
        "historyFFN2= modelFFN2.fit(train_images, train_labels, epochs=10\r\n",
        "          ,validation_data=(test_images, test_labels) )"
      ],
      "execution_count": null,
      "outputs": [
        {
          "output_type": "stream",
          "text": [
            "Epoch 1/10\n",
            "1019/1019 [==============================] - 16s 15ms/step - loss: 0.6247 - accuracy: 0.8094 - val_loss: 0.2024 - val_accuracy: 0.9358\n",
            "Epoch 2/10\n",
            "1019/1019 [==============================] - 15s 15ms/step - loss: 0.0342 - accuracy: 0.9948 - val_loss: 0.1201 - val_accuracy: 0.9567\n",
            "Epoch 3/10\n",
            "1019/1019 [==============================] - 15s 15ms/step - loss: 0.0101 - accuracy: 0.9991 - val_loss: 0.0839 - val_accuracy: 0.9709\n",
            "Epoch 4/10\n",
            "1019/1019 [==============================] - 15s 15ms/step - loss: 0.0099 - accuracy: 0.9978 - val_loss: 0.0764 - val_accuracy: 0.9742\n",
            "Epoch 5/10\n",
            "1019/1019 [==============================] - 15s 15ms/step - loss: 0.0019 - accuracy: 1.0000 - val_loss: 0.0746 - val_accuracy: 0.9753\n",
            "Epoch 6/10\n",
            "1019/1019 [==============================] - 15s 15ms/step - loss: 0.0083 - accuracy: 0.9974 - val_loss: 0.0612 - val_accuracy: 0.9763\n",
            "Epoch 7/10\n",
            "1019/1019 [==============================] - 15s 15ms/step - loss: 7.7339e-04 - accuracy: 1.0000 - val_loss: 0.0632 - val_accuracy: 0.9763\n",
            "Epoch 8/10\n",
            "1019/1019 [==============================] - 15s 15ms/step - loss: 4.3204e-04 - accuracy: 1.0000 - val_loss: 0.0662 - val_accuracy: 0.9763\n",
            "Epoch 9/10\n",
            "1019/1019 [==============================] - 15s 15ms/step - loss: 0.0104 - accuracy: 0.9970 - val_loss: 0.0592 - val_accuracy: 0.9784\n",
            "Epoch 10/10\n",
            "1019/1019 [==============================] - 15s 15ms/step - loss: 4.5883e-04 - accuracy: 1.0000 - val_loss: 0.0622 - val_accuracy: 0.9782\n"
          ],
          "name": "stdout"
        }
      ]
    },
    {
      "cell_type": "code",
      "metadata": {
        "colab": {
          "base_uri": "https://localhost:8080/"
        },
        "id": "z0YDUV2NGAYb",
        "outputId": "88299d21-d7fd-47b2-c754-94549bfe0c27"
      },
      "source": [
        "pred_labels = modelFFN2.predict(test_images)\r\n",
        "zo_lossFFN2 = zero_one(pred_labels,test_labels)\r\n",
        "print(\"Zero one loss: \",zo_lossFFN2)"
      ],
      "execution_count": null,
      "outputs": [
        {
          "output_type": "stream",
          "text": [
            "Zero one loss:  0.02182284980744542\n"
          ],
          "name": "stdout"
        }
      ]
    },
    {
      "cell_type": "code",
      "metadata": {
        "id": "CcM4W_FqGRfZ",
        "colab": {
          "base_uri": "https://localhost:8080/"
        },
        "outputId": "43761176-bf5f-430b-ea06-5516b0431c1e"
      },
      "source": [
        "modelFFN3 = tf.keras.Sequential()\r\n",
        "modelFFN3.add(Dense(128,input_shape = (32,32, 3), activation='relu'))\r\n",
        "modelFFN3.add(Flatten()) \r\n",
        "modelFFN3.add(Dense(10 , activation='sigmoid')) \r\n",
        "modelFFN3.compile(loss ='categorical_crossentropy', \r\n",
        "                     optimizer ='adam', \r\n",
        "                   metrics =['accuracy']) \r\n",
        "modelFFN3.summary()"
      ],
      "execution_count": null,
      "outputs": [
        {
          "output_type": "stream",
          "text": [
            "Model: \"sequential_2\"\n",
            "_________________________________________________________________\n",
            "Layer (type)                 Output Shape              Param #   \n",
            "=================================================================\n",
            "dense_4 (Dense)              (None, 32, 32, 128)       512       \n",
            "_________________________________________________________________\n",
            "flatten_2 (Flatten)          (None, 131072)            0         \n",
            "_________________________________________________________________\n",
            "dense_5 (Dense)              (None, 10)                1310730   \n",
            "=================================================================\n",
            "Total params: 1,311,242\n",
            "Trainable params: 1,311,242\n",
            "Non-trainable params: 0\n",
            "_________________________________________________________________\n"
          ],
          "name": "stdout"
        }
      ]
    },
    {
      "cell_type": "code",
      "metadata": {
        "colab": {
          "base_uri": "https://localhost:8080/"
        },
        "id": "bouIj2h_G0dN",
        "outputId": "d34dd218-e849-482d-8713-763b559405dc"
      },
      "source": [
        "historyFFN3 = modelFFN3.fit(train_images, train_labels, epochs=10\r\n",
        "          ,validation_data=(test_images, test_labels) )"
      ],
      "execution_count": null,
      "outputs": [
        {
          "output_type": "stream",
          "text": [
            "Epoch 1/10\n",
            "1019/1019 [==============================] - 52s 51ms/step - loss: 0.6907 - accuracy: 0.8219 - val_loss: 0.1484 - val_accuracy: 0.9462\n",
            "Epoch 2/10\n",
            "1019/1019 [==============================] - 52s 51ms/step - loss: 0.0154 - accuracy: 0.9979 - val_loss: 0.0870 - val_accuracy: 0.9708\n",
            "Epoch 3/10\n",
            "1019/1019 [==============================] - 51s 50ms/step - loss: 0.0034 - accuracy: 0.9998 - val_loss: 0.0795 - val_accuracy: 0.9719\n",
            "Epoch 4/10\n",
            "1019/1019 [==============================] - 52s 51ms/step - loss: 0.0067 - accuracy: 0.9984 - val_loss: 0.0661 - val_accuracy: 0.9764\n",
            "Epoch 5/10\n",
            "1019/1019 [==============================] - 51s 50ms/step - loss: 5.1389e-04 - accuracy: 1.0000 - val_loss: 0.0606 - val_accuracy: 0.9791\n",
            "Epoch 6/10\n",
            "1019/1019 [==============================] - 51s 51ms/step - loss: 2.6283e-04 - accuracy: 1.0000 - val_loss: 0.0657 - val_accuracy: 0.9787\n",
            "Epoch 7/10\n",
            "1019/1019 [==============================] - 52s 51ms/step - loss: 0.0150 - accuracy: 0.9961 - val_loss: 0.0508 - val_accuracy: 0.9805\n",
            "Epoch 8/10\n",
            "1019/1019 [==============================] - 52s 51ms/step - loss: 4.6408e-04 - accuracy: 1.0000 - val_loss: 0.0445 - val_accuracy: 0.9851\n",
            "Epoch 9/10\n",
            "1019/1019 [==============================] - 52s 51ms/step - loss: 1.9311e-04 - accuracy: 1.0000 - val_loss: 0.0522 - val_accuracy: 0.9827\n",
            "Epoch 10/10\n",
            "1019/1019 [==============================] - 51s 50ms/step - loss: 1.1417e-04 - accuracy: 1.0000 - val_loss: 0.0497 - val_accuracy: 0.9833\n"
          ],
          "name": "stdout"
        }
      ]
    },
    {
      "cell_type": "code",
      "metadata": {
        "colab": {
          "base_uri": "https://localhost:8080/"
        },
        "id": "uHr5-ZMCH-Uw",
        "outputId": "c12ccd72-28aa-4a6c-9e1b-4b1a8d6193f2"
      },
      "source": [
        "pred_labels = modelFFN3.predict(test_images)\r\n",
        "zo_lossFFN3 = zero_one(pred_labels,test_labels)\r\n",
        "print(\"Zero one loss: \",zo_lossFFN3)"
      ],
      "execution_count": null,
      "outputs": [
        {
          "output_type": "stream",
          "text": [
            "Zero one loss:  0.016688061617458283\n"
          ],
          "name": "stdout"
        }
      ]
    },
    {
      "cell_type": "code",
      "metadata": {
        "id": "ZhawFT2SH1y6",
        "colab": {
          "base_uri": "https://localhost:8080/"
        },
        "outputId": "3696dbe5-380b-4e40-f406-c6b44c40a652"
      },
      "source": [
        "modelFFN4 = tf.keras.Sequential()\r\n",
        "modelFFN4.add(Dense(512,input_shape = (32,32, 3), activation='relu'))\r\n",
        "modelFFN4.add(Flatten()) \r\n",
        "modelFFN4.add(Dense(10 , activation='sigmoid')) \r\n",
        "modelFFN4.compile(loss ='categorical_crossentropy', \r\n",
        "                     optimizer ='adam', \r\n",
        "                   metrics =['accuracy']) \r\n",
        "\r\n",
        "modelFFN4.summary()\r\n"
      ],
      "execution_count": null,
      "outputs": [
        {
          "output_type": "stream",
          "text": [
            "Model: \"sequential_4\"\n",
            "_________________________________________________________________\n",
            "Layer (type)                 Output Shape              Param #   \n",
            "=================================================================\n",
            "dense_8 (Dense)              (None, 32, 32, 512)       2048      \n",
            "_________________________________________________________________\n",
            "flatten_4 (Flatten)          (None, 524288)            0         \n",
            "_________________________________________________________________\n",
            "dense_9 (Dense)              (None, 10)                5242890   \n",
            "=================================================================\n",
            "Total params: 5,244,938\n",
            "Trainable params: 5,244,938\n",
            "Non-trainable params: 0\n",
            "_________________________________________________________________\n"
          ],
          "name": "stdout"
        }
      ]
    },
    {
      "cell_type": "code",
      "metadata": {
        "id": "mypeZJRTILdu",
        "colab": {
          "base_uri": "https://localhost:8080/"
        },
        "outputId": "c0bd0e90-bba6-4627-e7c4-da79ac6b531c"
      },
      "source": [
        "historyFFN4 = modelFFN4.fit(train_images, train_labels, epochs=10\r\n",
        "          ,validation_data=(test_images, test_labels) )"
      ],
      "execution_count": null,
      "outputs": [
        {
          "output_type": "stream",
          "text": [
            "Epoch 1/10\n",
            "1019/1019 [==============================] - 196s 192ms/step - loss: 0.7619 - accuracy: 0.8463 - val_loss: 0.1548 - val_accuracy: 0.9446\n",
            "Epoch 2/10\n",
            "1019/1019 [==============================] - 197s 193ms/step - loss: 0.0115 - accuracy: 0.9982 - val_loss: 0.0770 - val_accuracy: 0.9718\n",
            "Epoch 3/10\n",
            "1019/1019 [==============================] - 198s 195ms/step - loss: 0.0011 - accuracy: 1.0000 - val_loss: 0.0867 - val_accuracy: 0.9661\n",
            "Epoch 4/10\n",
            "1019/1019 [==============================] - 198s 194ms/step - loss: 0.0365 - accuracy: 0.9876 - val_loss: 0.0599 - val_accuracy: 0.9790\n",
            "Epoch 5/10\n",
            "1019/1019 [==============================] - 198s 194ms/step - loss: 4.4559e-04 - accuracy: 1.0000 - val_loss: 0.0537 - val_accuracy: 0.9818\n",
            "Epoch 6/10\n",
            "1019/1019 [==============================] - 197s 193ms/step - loss: 1.9693e-04 - accuracy: 1.0000 - val_loss: 0.0508 - val_accuracy: 0.9831\n",
            "Epoch 7/10\n",
            "1019/1019 [==============================] - 196s 192ms/step - loss: 1.0119e-04 - accuracy: 1.0000 - val_loss: 0.0507 - val_accuracy: 0.9838\n",
            "Epoch 8/10\n",
            "1019/1019 [==============================] - 206s 202ms/step - loss: 7.1656e-05 - accuracy: 1.0000 - val_loss: 0.0520 - val_accuracy: 0.9818\n",
            "Epoch 9/10\n",
            "1019/1019 [==============================] - 205s 201ms/step - loss: 0.0099 - accuracy: 0.9973 - val_loss: 0.0565 - val_accuracy: 0.9797\n",
            "Epoch 10/10\n",
            "1019/1019 [==============================] - 205s 201ms/step - loss: 4.5384e-04 - accuracy: 1.0000 - val_loss: 0.0471 - val_accuracy: 0.9829\n"
          ],
          "name": "stdout"
        }
      ]
    },
    {
      "cell_type": "code",
      "metadata": {
        "colab": {
          "base_uri": "https://localhost:8080/"
        },
        "id": "nVPvncGXLsEj",
        "outputId": "7328392f-68b7-4f70-8290-9c666c03c83a"
      },
      "source": [
        "pred_labels = modelFFN4.predict(test_images)\r\n",
        "zo_lossFFN4 = zero_one(pred_labels,test_labels)\r\n",
        "print(\"Zero one loss: \",zo_lossFFN4)"
      ],
      "execution_count": null,
      "outputs": [
        {
          "output_type": "stream",
          "text": [
            "Zero one loss:  0.017054832202457404\n"
          ],
          "name": "stdout"
        }
      ]
    },
    {
      "cell_type": "code",
      "metadata": {
        "colab": {
          "base_uri": "https://localhost:8080/"
        },
        "id": "erMVd9tkLyYX",
        "outputId": "ae18f2a0-9f4f-482e-cf93-0a955a8d3470"
      },
      "source": [
        "modelFFN5 = tf.keras.Sequential()\r\n",
        "modelFFN5.add(Dense(256,input_shape = (32,32, 3), activation='relu'))\r\n",
        "modelFFN5.add(Flatten()) \r\n",
        "modelFFN5.add(Dense(10 , activation='sigmoid')) \r\n",
        "modelFFN5.compile(loss ='categorical_crossentropy', \r\n",
        "                     optimizer ='adam', \r\n",
        "                   metrics =['accuracy']) \r\n",
        "\r\n",
        "modelFFN5.summary()"
      ],
      "execution_count": null,
      "outputs": [
        {
          "output_type": "stream",
          "text": [
            "Model: \"sequential_5\"\n",
            "_________________________________________________________________\n",
            "Layer (type)                 Output Shape              Param #   \n",
            "=================================================================\n",
            "dense_10 (Dense)             (None, 32, 32, 256)       1024      \n",
            "_________________________________________________________________\n",
            "flatten_5 (Flatten)          (None, 262144)            0         \n",
            "_________________________________________________________________\n",
            "dense_11 (Dense)             (None, 10)                2621450   \n",
            "=================================================================\n",
            "Total params: 2,622,474\n",
            "Trainable params: 2,622,474\n",
            "Non-trainable params: 0\n",
            "_________________________________________________________________\n"
          ],
          "name": "stdout"
        }
      ]
    },
    {
      "cell_type": "code",
      "metadata": {
        "colab": {
          "base_uri": "https://localhost:8080/"
        },
        "id": "avSot-yML-aQ",
        "outputId": "0746efca-c23a-4782-8d14-f0b314c6a666"
      },
      "source": [
        "historyFFN5 = modelFFN5.fit(train_images, train_labels, epochs=10\r\n",
        "          ,validation_data=(test_images, test_labels) )"
      ],
      "execution_count": null,
      "outputs": [
        {
          "output_type": "stream",
          "text": [
            "Epoch 1/10\n",
            "1019/1019 [==============================] - 104s 102ms/step - loss: 8.4601e-05 - accuracy: 1.0000 - val_loss: 0.0384 - val_accuracy: 0.9849\n",
            "Epoch 2/10\n",
            "1019/1019 [==============================] - 105s 103ms/step - loss: 5.3606e-05 - accuracy: 1.0000 - val_loss: 0.0436 - val_accuracy: 0.9859\n",
            "Epoch 3/10\n",
            "1019/1019 [==============================] - 105s 103ms/step - loss: 3.6025e-05 - accuracy: 1.0000 - val_loss: 0.0380 - val_accuracy: 0.9861\n",
            "Epoch 4/10\n",
            "1019/1019 [==============================] - 105s 103ms/step - loss: 2.0753e-05 - accuracy: 1.0000 - val_loss: 0.0368 - val_accuracy: 0.9882\n",
            "Epoch 5/10\n",
            "1019/1019 [==============================] - 104s 103ms/step - loss: 1.3204e-05 - accuracy: 1.0000 - val_loss: 0.0386 - val_accuracy: 0.9865\n",
            "Epoch 6/10\n",
            "1019/1019 [==============================] - 104s 102ms/step - loss: 1.0172e-05 - accuracy: 1.0000 - val_loss: 0.0387 - val_accuracy: 0.9854\n",
            "Epoch 7/10\n",
            "1019/1019 [==============================] - 105s 103ms/step - loss: 5.3462e-06 - accuracy: 1.0000 - val_loss: 0.0374 - val_accuracy: 0.9870\n",
            "Epoch 8/10\n",
            "1019/1019 [==============================] - 105s 103ms/step - loss: 0.0124 - accuracy: 0.9973 - val_loss: 0.0665 - val_accuracy: 0.9765\n",
            "Epoch 9/10\n",
            "1019/1019 [==============================] - 105s 103ms/step - loss: 3.2049e-04 - accuracy: 0.9999 - val_loss: 0.0551 - val_accuracy: 0.9809\n",
            "Epoch 10/10\n",
            "1019/1019 [==============================] - 106s 104ms/step - loss: 7.4249e-05 - accuracy: 1.0000 - val_loss: 0.0508 - val_accuracy: 0.9821\n"
          ],
          "name": "stdout"
        }
      ]
    },
    {
      "cell_type": "code",
      "metadata": {
        "colab": {
          "base_uri": "https://localhost:8080/"
        },
        "id": "_VhJ5KE0MHMX",
        "outputId": "11096b27-6d3b-47d4-d5bd-0d990dcada5f"
      },
      "source": [
        "pred_labels = modelFFN5.predict(test_images)\r\n",
        "zo_lossFFN5 = zero_one(pred_labels,test_labels)\r\n",
        "print(\"Zero one loss: \",zo_lossFFN5)"
      ],
      "execution_count": null,
      "outputs": [
        {
          "output_type": "stream",
          "text": [
            "Zero one loss:  0.017880066018705287\n"
          ],
          "name": "stdout"
        }
      ]
    },
    {
      "cell_type": "code",
      "metadata": {
        "colab": {
          "base_uri": "https://localhost:8080/"
        },
        "id": "uKCzJ22B4jOu",
        "outputId": "444a417c-20e6-4344-9287-ee0f87791e85"
      },
      "source": [
        "modelFFN21 = tf.keras.Sequential()\r\n",
        "modelFFN21.add(Dense(32,input_shape = (32,32, 3), activation='relu'))\r\n",
        "modelFFN21.add(Flatten()) \r\n",
        "modelFFN21.add(Dense(32 , activation='relu'))\r\n",
        "modelFFN21.add(Dense(10 , activation='sigmoid')) \r\n",
        "\r\n",
        "  \r\n",
        "modelFFN21.compile(loss ='categorical_crossentropy', \r\n",
        "                     optimizer ='adam', \r\n",
        "                   metrics =['accuracy']) \r\n",
        "\r\n",
        "modelFFN21.summary()\r\n",
        "\r\n"
      ],
      "execution_count": null,
      "outputs": [
        {
          "output_type": "stream",
          "text": [
            "Model: \"sequential_6\"\n",
            "_________________________________________________________________\n",
            "Layer (type)                 Output Shape              Param #   \n",
            "=================================================================\n",
            "dense_12 (Dense)             (None, 32, 32, 32)        128       \n",
            "_________________________________________________________________\n",
            "flatten_6 (Flatten)          (None, 32768)             0         \n",
            "_________________________________________________________________\n",
            "dense_13 (Dense)             (None, 32)                1048608   \n",
            "_________________________________________________________________\n",
            "dense_14 (Dense)             (None, 10)                330       \n",
            "=================================================================\n",
            "Total params: 1,049,066\n",
            "Trainable params: 1,049,066\n",
            "Non-trainable params: 0\n",
            "_________________________________________________________________\n"
          ],
          "name": "stdout"
        }
      ]
    },
    {
      "cell_type": "code",
      "metadata": {
        "colab": {
          "base_uri": "https://localhost:8080/"
        },
        "id": "nXphdQcz423U",
        "outputId": "cbf5b04b-2b90-4956-87bf-c81e7d6dcbf8"
      },
      "source": [
        "historyFFN21 = modelFFN21.fit(train_images, train_labels, epochs=10\r\n",
        "          ,validation_data=(test_images, test_labels) )"
      ],
      "execution_count": null,
      "outputs": [
        {
          "output_type": "stream",
          "text": [
            "Epoch 1/10\n",
            "1019/1019 [==============================] - 22s 21ms/step - loss: 1.5510 - accuracy: 0.4304 - val_loss: 0.9983 - val_accuracy: 0.6735\n",
            "Epoch 2/10\n",
            "1019/1019 [==============================] - 21s 21ms/step - loss: 0.6241 - accuracy: 0.8008 - val_loss: 0.8048 - val_accuracy: 0.7330\n",
            "Epoch 3/10\n",
            "1019/1019 [==============================] - 21s 21ms/step - loss: 0.3801 - accuracy: 0.8909 - val_loss: 0.6996 - val_accuracy: 0.7755\n",
            "Epoch 4/10\n",
            "1019/1019 [==============================] - 21s 21ms/step - loss: 0.2613 - accuracy: 0.9286 - val_loss: 0.5859 - val_accuracy: 0.8037\n",
            "Epoch 5/10\n",
            "1019/1019 [==============================] - 21s 21ms/step - loss: 0.1869 - accuracy: 0.9496 - val_loss: 0.4808 - val_accuracy: 0.8421\n",
            "Epoch 6/10\n",
            "1019/1019 [==============================] - 22s 21ms/step - loss: 0.1268 - accuracy: 0.9679 - val_loss: 0.4531 - val_accuracy: 0.8548\n",
            "Epoch 7/10\n",
            "1019/1019 [==============================] - 22s 21ms/step - loss: 0.0895 - accuracy: 0.9774 - val_loss: 0.4076 - val_accuracy: 0.8627\n",
            "Epoch 8/10\n",
            "1019/1019 [==============================] - 22s 22ms/step - loss: 0.0743 - accuracy: 0.9810 - val_loss: 0.4830 - val_accuracy: 0.8626\n",
            "Epoch 9/10\n",
            "1019/1019 [==============================] - 22s 21ms/step - loss: 0.0516 - accuracy: 0.9884 - val_loss: 0.4910 - val_accuracy: 0.8576\n",
            "Epoch 10/10\n",
            "1019/1019 [==============================] - 22s 21ms/step - loss: 0.0423 - accuracy: 0.9913 - val_loss: 0.4767 - val_accuracy: 0.8751\n"
          ],
          "name": "stdout"
        }
      ]
    },
    {
      "cell_type": "code",
      "metadata": {
        "colab": {
          "base_uri": "https://localhost:8080/"
        },
        "id": "HiQBrzpz48BH",
        "outputId": "19e01c84-4ec1-4857-d4f5-273ba90bf10d"
      },
      "source": [
        "pred_labels = modelFFN21.predict(test_images)\r\n",
        "zo_lossFFN21 = zero_one(pred_labels,test_labels)\r\n",
        "print(\"Zero one loss: \",zo_lossFFN21)"
      ],
      "execution_count": null,
      "outputs": [
        {
          "output_type": "stream",
          "text": [
            "Zero one loss:  0.15716119567210707\n"
          ],
          "name": "stdout"
        }
      ]
    },
    {
      "cell_type": "code",
      "metadata": {
        "colab": {
          "base_uri": "https://localhost:8080/"
        },
        "id": "WbtY1R0s5YJ8",
        "outputId": "f5f11308-e3f1-4329-f129-c4f6d8288153"
      },
      "source": [
        "modelFFN22 = tf.keras.Sequential()\r\n",
        "modelFFN22.add(Dense(32,input_shape = (32,32, 3), activation='relu'))\r\n",
        "modelFFN22.add(Flatten()) \r\n",
        "modelFFN22.add(Dense(32 , activation='relu'))\r\n",
        "modelFFN22.add(Dense(32 , activation='relu'))\r\n",
        "modelFFN22.add(Dense(10 , activation='sigmoid')) \r\n",
        "\r\n",
        "  \r\n",
        "modelFFN22.compile(loss ='categorical_crossentropy', \r\n",
        "                     optimizer ='adam', \r\n",
        "                   metrics =['accuracy']) \r\n",
        "\r\n",
        "modelFFN22.summary()\r\n"
      ],
      "execution_count": null,
      "outputs": [
        {
          "output_type": "stream",
          "text": [
            "Model: \"sequential_8\"\n",
            "_________________________________________________________________\n",
            "Layer (type)                 Output Shape              Param #   \n",
            "=================================================================\n",
            "dense_18 (Dense)             (None, 32, 32, 32)        128       \n",
            "_________________________________________________________________\n",
            "flatten_8 (Flatten)          (None, 32768)             0         \n",
            "_________________________________________________________________\n",
            "dense_19 (Dense)             (None, 32)                1048608   \n",
            "_________________________________________________________________\n",
            "dense_20 (Dense)             (None, 32)                1056      \n",
            "_________________________________________________________________\n",
            "dense_21 (Dense)             (None, 10)                330       \n",
            "=================================================================\n",
            "Total params: 1,050,122\n",
            "Trainable params: 1,050,122\n",
            "Non-trainable params: 0\n",
            "_________________________________________________________________\n"
          ],
          "name": "stdout"
        }
      ]
    },
    {
      "cell_type": "code",
      "metadata": {
        "colab": {
          "base_uri": "https://localhost:8080/"
        },
        "id": "lznVXHUV5uy8",
        "outputId": "5c7a0708-3fc8-41b5-c5c0-68cea399fa5e"
      },
      "source": [
        "historyFFN22 = modelFFN22.fit(train_images, train_labels, epochs=10\r\n",
        "          ,validation_data=(test_images, test_labels) )"
      ],
      "execution_count": null,
      "outputs": [
        {
          "output_type": "stream",
          "text": [
            "Epoch 1/10\n",
            "1019/1019 [==============================] - 21s 20ms/step - loss: 1.0528 - accuracy: 0.6314 - val_loss: 0.3872 - val_accuracy: 0.8591\n",
            "Epoch 2/10\n",
            "1019/1019 [==============================] - 22s 21ms/step - loss: 0.1522 - accuracy: 0.9565 - val_loss: 0.2870 - val_accuracy: 0.9013\n",
            "Epoch 3/10\n",
            "1019/1019 [==============================] - 22s 21ms/step - loss: 0.0662 - accuracy: 0.9822 - val_loss: 0.2487 - val_accuracy: 0.9229\n",
            "Epoch 4/10\n",
            "1019/1019 [==============================] - 21s 21ms/step - loss: 0.0327 - accuracy: 0.9918 - val_loss: 0.1906 - val_accuracy: 0.9439\n",
            "Epoch 5/10\n",
            "1019/1019 [==============================] - 22s 21ms/step - loss: 0.0208 - accuracy: 0.9946 - val_loss: 0.1630 - val_accuracy: 0.9517\n",
            "Epoch 6/10\n",
            "1019/1019 [==============================] - 22s 22ms/step - loss: 0.0102 - accuracy: 0.9977 - val_loss: 0.1661 - val_accuracy: 0.9548\n",
            "Epoch 7/10\n",
            "1019/1019 [==============================] - 22s 22ms/step - loss: 0.0051 - accuracy: 0.9991 - val_loss: 0.2298 - val_accuracy: 0.9526\n",
            "Epoch 8/10\n",
            "1019/1019 [==============================] - 22s 22ms/step - loss: 0.0182 - accuracy: 0.9941 - val_loss: 0.1554 - val_accuracy: 0.9600\n",
            "Epoch 9/10\n",
            "1019/1019 [==============================] - 22s 22ms/step - loss: 0.0016 - accuracy: 1.0000 - val_loss: 0.1552 - val_accuracy: 0.9662\n",
            "Epoch 10/10\n",
            "1019/1019 [==============================] - 22s 22ms/step - loss: 0.0052 - accuracy: 0.9984 - val_loss: 0.1676 - val_accuracy: 0.9616\n"
          ],
          "name": "stdout"
        }
      ]
    },
    {
      "cell_type": "code",
      "metadata": {
        "colab": {
          "base_uri": "https://localhost:8080/"
        },
        "id": "40PbuvYRYBzn",
        "outputId": "9f489be6-b812-40e2-aad1-dea868ffa105"
      },
      "source": [
        "pred_labels = modelFFN22.predict(test_images)\r\n",
        "zo_lossFFN22 = zero_one(pred_labels,test_labels)\r\n",
        "print(\"Zero one loss: \",zo_lossFFN22)"
      ],
      "execution_count": null,
      "outputs": [
        {
          "output_type": "stream",
          "text": [
            "Zero one loss:  0.038877682009902825\n"
          ],
          "name": "stdout"
        }
      ]
    },
    {
      "cell_type": "code",
      "metadata": {
        "colab": {
          "base_uri": "https://localhost:8080/"
        },
        "id": "glgoAWHIaw9-",
        "outputId": "52e5187a-7d2a-476e-ea3f-42a5d49f3b7a"
      },
      "source": [
        "modelFFN23 = tf.keras.Sequential()\r\n",
        "modelFFN23.add(Dense(32,input_shape = (32,32, 3), activation='relu'))\r\n",
        "modelFFN23.add(Flatten()) \r\n",
        "modelFFN23.add(Dense(32 , activation='relu'))\r\n",
        "modelFFN23.add(Dense(32 , activation='relu'))\r\n",
        "modelFFN23.add(Dense(32 , activation='relu'))\r\n",
        "modelFFN23.add(Dense(10 , activation='sigmoid')) \r\n",
        "\r\n",
        "  \r\n",
        "modelFFN23.compile(loss ='categorical_crossentropy', \r\n",
        "                     optimizer ='adam', \r\n",
        "                   metrics =['accuracy']) \r\n",
        "\r\n",
        "modelFFN23.summary()"
      ],
      "execution_count": null,
      "outputs": [
        {
          "output_type": "stream",
          "text": [
            "Model: \"sequential_9\"\n",
            "_________________________________________________________________\n",
            "Layer (type)                 Output Shape              Param #   \n",
            "=================================================================\n",
            "dense_22 (Dense)             (None, 32, 32, 32)        128       \n",
            "_________________________________________________________________\n",
            "flatten_9 (Flatten)          (None, 32768)             0         \n",
            "_________________________________________________________________\n",
            "dense_23 (Dense)             (None, 32)                1048608   \n",
            "_________________________________________________________________\n",
            "dense_24 (Dense)             (None, 32)                1056      \n",
            "_________________________________________________________________\n",
            "dense_25 (Dense)             (None, 32)                1056      \n",
            "_________________________________________________________________\n",
            "dense_26 (Dense)             (None, 10)                330       \n",
            "=================================================================\n",
            "Total params: 1,051,178\n",
            "Trainable params: 1,051,178\n",
            "Non-trainable params: 0\n",
            "_________________________________________________________________\n"
          ],
          "name": "stdout"
        }
      ]
    },
    {
      "cell_type": "code",
      "metadata": {
        "colab": {
          "base_uri": "https://localhost:8080/"
        },
        "id": "AOG3FwMcbHAP",
        "outputId": "96cb0cf9-0332-4afa-aea9-0762c04d2e11"
      },
      "source": [
        "historyFFN23 = modelFFN23.fit(train_images, train_labels, epochs=10\r\n",
        "          ,validation_data=(test_images, test_labels) )"
      ],
      "execution_count": null,
      "outputs": [
        {
          "output_type": "stream",
          "text": [
            "Epoch 1/10\n",
            "1019/1019 [==============================] - 21s 20ms/step - loss: 0.9427 - accuracy: 0.6836 - val_loss: 0.3466 - val_accuracy: 0.8824\n",
            "Epoch 2/10\n",
            "1019/1019 [==============================] - 21s 20ms/step - loss: 0.0632 - accuracy: 0.9830 - val_loss: 0.1859 - val_accuracy: 0.9429\n",
            "Epoch 3/10\n",
            "1019/1019 [==============================] - 21s 20ms/step - loss: 0.0199 - accuracy: 0.9951 - val_loss: 0.1333 - val_accuracy: 0.9554\n",
            "Epoch 4/10\n",
            "1019/1019 [==============================] - 21s 21ms/step - loss: 0.0135 - accuracy: 0.9966 - val_loss: 0.1283 - val_accuracy: 0.9594\n",
            "Epoch 5/10\n",
            "1019/1019 [==============================] - 22s 22ms/step - loss: 0.0013 - accuracy: 1.0000 - val_loss: 0.1966 - val_accuracy: 0.9395\n",
            "Epoch 6/10\n",
            "1019/1019 [==============================] - 22s 21ms/step - loss: 0.0041 - accuracy: 0.9993 - val_loss: 0.0989 - val_accuracy: 0.9673\n",
            "Epoch 7/10\n",
            "1019/1019 [==============================] - 22s 22ms/step - loss: 1.8936e-04 - accuracy: 1.0000 - val_loss: 0.1037 - val_accuracy: 0.9676\n",
            "Epoch 8/10\n",
            "1019/1019 [==============================] - 22s 22ms/step - loss: 1.0170e-04 - accuracy: 1.0000 - val_loss: 0.1120 - val_accuracy: 0.9649\n",
            "Epoch 9/10\n",
            "1019/1019 [==============================] - 22s 21ms/step - loss: 7.2123e-05 - accuracy: 1.0000 - val_loss: 0.0942 - val_accuracy: 0.9710\n",
            "Epoch 10/10\n",
            "1019/1019 [==============================] - 22s 21ms/step - loss: 0.0258 - accuracy: 0.9926 - val_loss: 0.0870 - val_accuracy: 0.9689\n"
          ],
          "name": "stdout"
        }
      ]
    },
    {
      "cell_type": "code",
      "metadata": {
        "colab": {
          "base_uri": "https://localhost:8080/"
        },
        "id": "fAayK90VbMls",
        "outputId": "1f62da15-6de7-4bcd-f4db-ed0652771e2a"
      },
      "source": [
        "pred_labels = modelFFN23.predict(test_images)\r\n",
        "zo_lossFFN23 = zero_one(pred_labels,test_labels)\r\n",
        "print(\"Zero one loss: \",zo_lossFFN23)"
      ],
      "execution_count": null,
      "outputs": [
        {
          "output_type": "stream",
          "text": [
            "Zero one loss:  0.030992114432422557\n"
          ],
          "name": "stdout"
        }
      ]
    },
    {
      "cell_type": "code",
      "metadata": {
        "colab": {
          "base_uri": "https://localhost:8080/"
        },
        "id": "uHwJKqhbfYnR",
        "outputId": "79c7d093-9330-4e81-85aa-e3539770a3a7"
      },
      "source": [
        "modelFFN24 = tf.keras.Sequential()\r\n",
        "modelFFN24.add(Dense(32,input_shape = (32,32, 3), activation='relu'))\r\n",
        "modelFFN24.add(Flatten()) \r\n",
        "modelFFN24.add(Dense(32 , activation='relu'))\r\n",
        "modelFFN24.add(Dense(32 , activation='relu'))\r\n",
        "modelFFN24.add(Dense(32 , activation='relu'))\r\n",
        "modelFFN24.add(Dense(10 , activation='sigmoid')) \r\n",
        "\r\n",
        "  \r\n",
        "modelFFN24.compile(loss ='categorical_crossentropy', \r\n",
        "                     optimizer ='adam', \r\n",
        "                   metrics =['accuracy']) \r\n",
        "\r\n",
        "modelFFN24.summary()"
      ],
      "execution_count": null,
      "outputs": [
        {
          "output_type": "stream",
          "text": [
            "Model: \"sequential_10\"\n",
            "_________________________________________________________________\n",
            "Layer (type)                 Output Shape              Param #   \n",
            "=================================================================\n",
            "dense_27 (Dense)             (None, 32, 32, 32)        128       \n",
            "_________________________________________________________________\n",
            "flatten_10 (Flatten)         (None, 32768)             0         \n",
            "_________________________________________________________________\n",
            "dense_28 (Dense)             (None, 32)                1048608   \n",
            "_________________________________________________________________\n",
            "dense_29 (Dense)             (None, 32)                1056      \n",
            "_________________________________________________________________\n",
            "dense_30 (Dense)             (None, 32)                1056      \n",
            "_________________________________________________________________\n",
            "dense_31 (Dense)             (None, 10)                330       \n",
            "=================================================================\n",
            "Total params: 1,051,178\n",
            "Trainable params: 1,051,178\n",
            "Non-trainable params: 0\n",
            "_________________________________________________________________\n"
          ],
          "name": "stdout"
        }
      ]
    },
    {
      "cell_type": "code",
      "metadata": {
        "colab": {
          "base_uri": "https://localhost:8080/"
        },
        "id": "YuRUiCpyfe4p",
        "outputId": "7ee7392d-fd4d-4354-f12a-43c6dfac0cf3"
      },
      "source": [
        "pred_labels = modelFFN24.predict(test_images)\r\n",
        "zo_lossFFN24 = zero_one(pred_labels,test_labels)\r\n",
        "print(\"Zero one loss: \",zo_lossFFN24)"
      ],
      "execution_count": null,
      "outputs": [
        {
          "output_type": "stream",
          "text": [
            "Zero one loss:  0.9405831652301485\n"
          ],
          "name": "stdout"
        }
      ]
    },
    {
      "cell_type": "code",
      "metadata": {
        "colab": {
          "base_uri": "https://localhost:8080/"
        },
        "id": "b6Y0gkjWgK1P",
        "outputId": "6178519f-333e-4439-c81b-b34ef1f2d484"
      },
      "source": [
        "modelCNN1 = tf.keras.Sequential()\r\n",
        "modelCNN1.add(Conv2D(32, (3, 3), \r\n",
        "          activation='relu', input_shape=(32, 32, 3)))\r\n",
        "modelCNN1.add(MaxPooling2D((2, 2)))\r\n",
        "modelCNN1.add(Flatten()) \r\n",
        "modelCNN1.add(Dense(10 , activation='sigmoid')) \r\n",
        "  \r\n",
        "modelCNN1.compile(loss ='categorical_crossentropy', \r\n",
        "                     optimizer ='adam', \r\n",
        "                   metrics =['accuracy']) \r\n",
        "modelCNN1.summary()\r\n",
        "\r\n"
      ],
      "execution_count": null,
      "outputs": [
        {
          "output_type": "stream",
          "text": [
            "Model: \"sequential_12\"\n",
            "_________________________________________________________________\n",
            "Layer (type)                 Output Shape              Param #   \n",
            "=================================================================\n",
            "conv2d_1 (Conv2D)            (None, 30, 30, 32)        896       \n",
            "_________________________________________________________________\n",
            "max_pooling2d_1 (MaxPooling2 (None, 15, 15, 32)        0         \n",
            "_________________________________________________________________\n",
            "flatten_12 (Flatten)         (None, 7200)              0         \n",
            "_________________________________________________________________\n",
            "dense_33 (Dense)             (None, 10)                72010     \n",
            "=================================================================\n",
            "Total params: 72,906\n",
            "Trainable params: 72,906\n",
            "Non-trainable params: 0\n",
            "_________________________________________________________________\n"
          ],
          "name": "stdout"
        }
      ]
    },
    {
      "cell_type": "code",
      "metadata": {
        "colab": {
          "base_uri": "https://localhost:8080/"
        },
        "id": "RN8LHV1_geVM",
        "outputId": "f444abcc-bb55-4652-9c29-3d4e4259be6d"
      },
      "source": [
        "historyCNN1 = modelCNN1.fit(train_images, train_labels, epochs=10\r\n",
        "          ,validation_data=(test_images, test_labels) )"
      ],
      "execution_count": null,
      "outputs": [
        {
          "output_type": "stream",
          "text": [
            "Epoch 1/10\n",
            "1019/1019 [==============================] - 22s 21ms/step - loss: 0.7632 - accuracy: 0.7527 - val_loss: 0.3154 - val_accuracy: 0.8884\n",
            "Epoch 2/10\n",
            "1019/1019 [==============================] - 21s 21ms/step - loss: 0.0665 - accuracy: 0.9867 - val_loss: 0.1633 - val_accuracy: 0.9413\n",
            "Epoch 3/10\n",
            "1019/1019 [==============================] - 21s 21ms/step - loss: 0.0188 - accuracy: 0.9978 - val_loss: 0.1406 - val_accuracy: 0.9532\n",
            "Epoch 4/10\n",
            "1019/1019 [==============================] - 22s 21ms/step - loss: 0.0068 - accuracy: 0.9994 - val_loss: 0.5152 - val_accuracy: 0.8833\n",
            "Epoch 5/10\n",
            "1019/1019 [==============================] - 21s 21ms/step - loss: 0.0195 - accuracy: 0.9948 - val_loss: 0.1313 - val_accuracy: 0.9542\n",
            "Epoch 6/10\n",
            "1019/1019 [==============================] - 21s 21ms/step - loss: 0.0028 - accuracy: 0.9995 - val_loss: 0.1318 - val_accuracy: 0.9581\n",
            "Epoch 7/10\n",
            "1019/1019 [==============================] - 21s 21ms/step - loss: 0.0018 - accuracy: 0.9999 - val_loss: 0.1310 - val_accuracy: 0.9642\n",
            "Epoch 8/10\n",
            "1019/1019 [==============================] - 21s 21ms/step - loss: 7.0741e-04 - accuracy: 1.0000 - val_loss: 0.1257 - val_accuracy: 0.9655\n",
            "Epoch 9/10\n",
            "1019/1019 [==============================] - 22s 21ms/step - loss: 4.5990e-04 - accuracy: 1.0000 - val_loss: 0.1273 - val_accuracy: 0.9663\n",
            "Epoch 10/10\n",
            "1019/1019 [==============================] - 21s 21ms/step - loss: 0.0129 - accuracy: 0.9958 - val_loss: 0.1242 - val_accuracy: 0.9682\n"
          ],
          "name": "stdout"
        }
      ]
    },
    {
      "cell_type": "code",
      "metadata": {
        "colab": {
          "base_uri": "https://localhost:8080/"
        },
        "id": "usrhZNAnhY3F",
        "outputId": "b56ec007-1343-4b53-ebf0-28b3d0c68337"
      },
      "source": [
        "pred_labels = modelCNN1.predict(test_images)\r\n",
        "zo_lossCNN1 = zero_one(pred_labels,test_labels)\r\n",
        "print(\"Zero one loss: \",zo_lossCNN1)"
      ],
      "execution_count": null,
      "outputs": [
        {
          "output_type": "stream",
          "text": [
            "Zero one loss:  0.03181734824867044\n"
          ],
          "name": "stdout"
        }
      ]
    },
    {
      "cell_type": "code",
      "metadata": {
        "colab": {
          "base_uri": "https://localhost:8080/"
        },
        "id": "1rurAk00hooW",
        "outputId": "2d9e9aa6-0d83-4928-c6d8-8814861241ac"
      },
      "source": [
        "modelCNN2 = tf.keras.Sequential()\r\n",
        "modelCNN2.add(Conv2D(32, (3, 3), \r\n",
        "          activation='relu', input_shape=(32, 32, 3)))\r\n",
        "modelCNN2.add(Conv2D(32, (3, 3),activation='relu'))\r\n",
        "modelCNN2.add(MaxPooling2D((2, 2)))\r\n",
        "modelCNN2.add(Flatten()) \r\n",
        "modelCNN2.add(Dense(10 , activation='sigmoid')) \r\n",
        "  \r\n",
        "modelCNN2.compile(loss ='categorical_crossentropy', \r\n",
        "                     optimizer ='adam', \r\n",
        "                   metrics =['accuracy']) \r\n",
        "modelCNN2.summary()"
      ],
      "execution_count": null,
      "outputs": [
        {
          "output_type": "stream",
          "text": [
            "Model: \"sequential_13\"\n",
            "_________________________________________________________________\n",
            "Layer (type)                 Output Shape              Param #   \n",
            "=================================================================\n",
            "conv2d_2 (Conv2D)            (None, 30, 30, 32)        896       \n",
            "_________________________________________________________________\n",
            "conv2d_3 (Conv2D)            (None, 28, 28, 32)        9248      \n",
            "_________________________________________________________________\n",
            "max_pooling2d_2 (MaxPooling2 (None, 14, 14, 32)        0         \n",
            "_________________________________________________________________\n",
            "flatten_13 (Flatten)         (None, 6272)              0         \n",
            "_________________________________________________________________\n",
            "dense_34 (Dense)             (None, 10)                62730     \n",
            "=================================================================\n",
            "Total params: 72,874\n",
            "Trainable params: 72,874\n",
            "Non-trainable params: 0\n",
            "_________________________________________________________________\n"
          ],
          "name": "stdout"
        }
      ]
    },
    {
      "cell_type": "code",
      "metadata": {
        "colab": {
          "base_uri": "https://localhost:8080/"
        },
        "id": "jtDjGDVJiSRX",
        "outputId": "b3a36a59-f3fa-433f-f82e-b1dca100ffde"
      },
      "source": [
        "historyCNN2 = modelCNN2.fit(train_images, train_labels, epochs=10\r\n",
        "          ,validation_data=(test_images, test_labels) )"
      ],
      "execution_count": null,
      "outputs": [
        {
          "output_type": "stream",
          "text": [
            "Epoch 1/10\n",
            "1019/1019 [==============================] - 75s 74ms/step - loss: 0.6354 - accuracy: 0.7880 - val_loss: 0.1792 - val_accuracy: 0.9354\n",
            "Epoch 2/10\n",
            "1019/1019 [==============================] - 76s 74ms/step - loss: 0.0190 - accuracy: 0.9949 - val_loss: 0.1234 - val_accuracy: 0.9632\n",
            "Epoch 3/10\n",
            "1019/1019 [==============================] - 76s 75ms/step - loss: 0.0039 - accuracy: 0.9993 - val_loss: 0.0878 - val_accuracy: 0.9697\n",
            "Epoch 4/10\n",
            "1019/1019 [==============================] - 75s 74ms/step - loss: 0.0120 - accuracy: 0.9967 - val_loss: 0.0781 - val_accuracy: 0.9756\n",
            "Epoch 5/10\n",
            "1019/1019 [==============================] - 75s 74ms/step - loss: 0.0050 - accuracy: 0.9986 - val_loss: 0.0814 - val_accuracy: 0.9757\n",
            "Epoch 6/10\n",
            "1019/1019 [==============================] - 76s 75ms/step - loss: 1.2344e-04 - accuracy: 1.0000 - val_loss: 0.0729 - val_accuracy: 0.9796\n",
            "Epoch 7/10\n",
            "1019/1019 [==============================] - 75s 74ms/step - loss: 5.7844e-05 - accuracy: 1.0000 - val_loss: 0.0683 - val_accuracy: 0.9785\n",
            "Epoch 8/10\n",
            "1019/1019 [==============================] - 77s 75ms/step - loss: 3.7881e-05 - accuracy: 1.0000 - val_loss: 0.0709 - val_accuracy: 0.9797\n",
            "Epoch 9/10\n",
            "1019/1019 [==============================] - 77s 75ms/step - loss: 1.9034e-05 - accuracy: 1.0000 - val_loss: 0.0692 - val_accuracy: 0.9811\n",
            "Epoch 10/10\n",
            "1019/1019 [==============================] - 77s 75ms/step - loss: 0.0018 - accuracy: 0.9996 - val_loss: 0.1397 - val_accuracy: 0.9530\n"
          ],
          "name": "stdout"
        }
      ]
    },
    {
      "cell_type": "code",
      "metadata": {
        "colab": {
          "base_uri": "https://localhost:8080/"
        },
        "id": "Es6i0jriiK4f",
        "outputId": "fce97d34-d50f-4e3b-f421-ef52bf83809f"
      },
      "source": [
        "pred_labels = modelCNN2.predict(test_images)\r\n",
        "zo_lossCNN2 = zero_one(pred_labels,test_labels)\r\n",
        "print(\"Zero one loss: \",zo_lossCNN2)"
      ],
      "execution_count": null,
      "outputs": [
        {
          "output_type": "stream",
          "text": [
            "Zero one loss:  0.047130020172382214\n"
          ],
          "name": "stdout"
        }
      ]
    },
    {
      "cell_type": "code",
      "metadata": {
        "colab": {
          "base_uri": "https://localhost:8080/"
        },
        "id": "hrmJdS2NmZl6",
        "outputId": "9ce2210e-73b8-4a6c-8af0-fbce6c380ab0"
      },
      "source": [
        "base_model=VGG16(weights='imagenet',include_top=False) \r\n",
        "x=base_model.output\r\n",
        "x=GlobalAveragePooling2D()(x)\r\n",
        "x=Dense(1024,activation='relu')(x) #we add dense layers so that the model can learn more complex functions and classify for better results.\r\n",
        "x=Dense(1024,activation='relu')(x) #dense layer 2\r\n",
        "x=Dense(512,activation='relu')(x) #dense layer 3\r\n",
        "preds=Dense(10,activation='softmax')(x) #final layer with softmax activation\r\n",
        "\r\n",
        "modelVGG16=Model(inputs=base_model.input,outputs=preds)\r\n",
        "modelVGG16.summary()\r\n"
      ],
      "execution_count": null,
      "outputs": [
        {
          "output_type": "stream",
          "text": [
            "Model: \"model_1\"\n",
            "_________________________________________________________________\n",
            "Layer (type)                 Output Shape              Param #   \n",
            "=================================================================\n",
            "input_2 (InputLayer)         [(None, None, None, 3)]   0         \n",
            "_________________________________________________________________\n",
            "block1_conv1 (Conv2D)        (None, None, None, 64)    1792      \n",
            "_________________________________________________________________\n",
            "block1_conv2 (Conv2D)        (None, None, None, 64)    36928     \n",
            "_________________________________________________________________\n",
            "block1_pool (MaxPooling2D)   (None, None, None, 64)    0         \n",
            "_________________________________________________________________\n",
            "block2_conv1 (Conv2D)        (None, None, None, 128)   73856     \n",
            "_________________________________________________________________\n",
            "block2_conv2 (Conv2D)        (None, None, None, 128)   147584    \n",
            "_________________________________________________________________\n",
            "block2_pool (MaxPooling2D)   (None, None, None, 128)   0         \n",
            "_________________________________________________________________\n",
            "block3_conv1 (Conv2D)        (None, None, None, 256)   295168    \n",
            "_________________________________________________________________\n",
            "block3_conv2 (Conv2D)        (None, None, None, 256)   590080    \n",
            "_________________________________________________________________\n",
            "block3_conv3 (Conv2D)        (None, None, None, 256)   590080    \n",
            "_________________________________________________________________\n",
            "block3_pool (MaxPooling2D)   (None, None, None, 256)   0         \n",
            "_________________________________________________________________\n",
            "block4_conv1 (Conv2D)        (None, None, None, 512)   1180160   \n",
            "_________________________________________________________________\n",
            "block4_conv2 (Conv2D)        (None, None, None, 512)   2359808   \n",
            "_________________________________________________________________\n",
            "block4_conv3 (Conv2D)        (None, None, None, 512)   2359808   \n",
            "_________________________________________________________________\n",
            "block4_pool (MaxPooling2D)   (None, None, None, 512)   0         \n",
            "_________________________________________________________________\n",
            "block5_conv1 (Conv2D)        (None, None, None, 512)   2359808   \n",
            "_________________________________________________________________\n",
            "block5_conv2 (Conv2D)        (None, None, None, 512)   2359808   \n",
            "_________________________________________________________________\n",
            "block5_conv3 (Conv2D)        (None, None, None, 512)   2359808   \n",
            "_________________________________________________________________\n",
            "block5_pool (MaxPooling2D)   (None, None, None, 512)   0         \n",
            "_________________________________________________________________\n",
            "global_average_pooling2d_1 ( (None, 512)               0         \n",
            "_________________________________________________________________\n",
            "dense_39 (Dense)             (None, 1024)              525312    \n",
            "_________________________________________________________________\n",
            "dense_40 (Dense)             (None, 1024)              1049600   \n",
            "_________________________________________________________________\n",
            "dense_41 (Dense)             (None, 512)               524800    \n",
            "_________________________________________________________________\n",
            "dense_42 (Dense)             (None, 10)                5130      \n",
            "=================================================================\n",
            "Total params: 16,819,530\n",
            "Trainable params: 16,819,530\n",
            "Non-trainable params: 0\n",
            "_________________________________________________________________\n"
          ],
          "name": "stdout"
        }
      ]
    },
    {
      "cell_type": "code",
      "metadata": {
        "colab": {
          "base_uri": "https://localhost:8080/",
          "height": 422
        },
        "id": "tf3XR_jFnFDZ",
        "outputId": "8d4d3b3b-a76e-4bf7-eac8-3dcec90dee4e"
      },
      "source": [
        "modelVGG16.compile(loss ='categorical_crossentropy', \r\n",
        "                     optimizer ='adam', \r\n",
        "                   metrics =['accuracy']) \r\n",
        "\r\n",
        "historyVGG16= modelVGG16.fit(train_images, train_labels, epochs=10\r\n",
        "          ,validation_data=(test_images, test_labels) )"
      ],
      "execution_count": null,
      "outputs": [
        {
          "output_type": "stream",
          "text": [
            "Epoch 1/10\n",
            " 344/1019 [=========>....................] - ETA: 41:27 - loss: 2.0186 - accuracy: 0.2588"
          ],
          "name": "stdout"
        },
        {
          "output_type": "error",
          "ename": "KeyboardInterrupt",
          "evalue": "ignored",
          "traceback": [
            "\u001b[0;31m---------------------------------------------------------------------------\u001b[0m",
            "\u001b[0;31mKeyboardInterrupt\u001b[0m                         Traceback (most recent call last)",
            "\u001b[0;32m<ipython-input-57-56f9cf755b48>\u001b[0m in \u001b[0;36m<module>\u001b[0;34m()\u001b[0m\n\u001b[1;32m      4\u001b[0m \u001b[0;34m\u001b[0m\u001b[0m\n\u001b[1;32m      5\u001b[0m historyVGG16= modelVGG16.fit(train_images, train_labels, epochs=10\n\u001b[0;32m----> 6\u001b[0;31m           ,validation_data=(test_images, test_labels) )\n\u001b[0m",
            "\u001b[0;32m/usr/local/lib/python3.6/dist-packages/tensorflow/python/keras/engine/training.py\u001b[0m in \u001b[0;36mfit\u001b[0;34m(self, x, y, batch_size, epochs, verbose, callbacks, validation_split, validation_data, shuffle, class_weight, sample_weight, initial_epoch, steps_per_epoch, validation_steps, validation_batch_size, validation_freq, max_queue_size, workers, use_multiprocessing)\u001b[0m\n\u001b[1;32m   1098\u001b[0m                 _r=1):\n\u001b[1;32m   1099\u001b[0m               \u001b[0mcallbacks\u001b[0m\u001b[0;34m.\u001b[0m\u001b[0mon_train_batch_begin\u001b[0m\u001b[0;34m(\u001b[0m\u001b[0mstep\u001b[0m\u001b[0;34m)\u001b[0m\u001b[0;34m\u001b[0m\u001b[0;34m\u001b[0m\u001b[0m\n\u001b[0;32m-> 1100\u001b[0;31m               \u001b[0mtmp_logs\u001b[0m \u001b[0;34m=\u001b[0m \u001b[0mself\u001b[0m\u001b[0;34m.\u001b[0m\u001b[0mtrain_function\u001b[0m\u001b[0;34m(\u001b[0m\u001b[0miterator\u001b[0m\u001b[0;34m)\u001b[0m\u001b[0;34m\u001b[0m\u001b[0;34m\u001b[0m\u001b[0m\n\u001b[0m\u001b[1;32m   1101\u001b[0m               \u001b[0;32mif\u001b[0m \u001b[0mdata_handler\u001b[0m\u001b[0;34m.\u001b[0m\u001b[0mshould_sync\u001b[0m\u001b[0;34m:\u001b[0m\u001b[0;34m\u001b[0m\u001b[0;34m\u001b[0m\u001b[0m\n\u001b[1;32m   1102\u001b[0m                 \u001b[0mcontext\u001b[0m\u001b[0;34m.\u001b[0m\u001b[0masync_wait\u001b[0m\u001b[0;34m(\u001b[0m\u001b[0;34m)\u001b[0m\u001b[0;34m\u001b[0m\u001b[0;34m\u001b[0m\u001b[0m\n",
            "\u001b[0;32m/usr/local/lib/python3.6/dist-packages/tensorflow/python/eager/def_function.py\u001b[0m in \u001b[0;36m__call__\u001b[0;34m(self, *args, **kwds)\u001b[0m\n\u001b[1;32m    826\u001b[0m     \u001b[0mtracing_count\u001b[0m \u001b[0;34m=\u001b[0m \u001b[0mself\u001b[0m\u001b[0;34m.\u001b[0m\u001b[0mexperimental_get_tracing_count\u001b[0m\u001b[0;34m(\u001b[0m\u001b[0;34m)\u001b[0m\u001b[0;34m\u001b[0m\u001b[0;34m\u001b[0m\u001b[0m\n\u001b[1;32m    827\u001b[0m     \u001b[0;32mwith\u001b[0m \u001b[0mtrace\u001b[0m\u001b[0;34m.\u001b[0m\u001b[0mTrace\u001b[0m\u001b[0;34m(\u001b[0m\u001b[0mself\u001b[0m\u001b[0;34m.\u001b[0m\u001b[0m_name\u001b[0m\u001b[0;34m)\u001b[0m \u001b[0;32mas\u001b[0m \u001b[0mtm\u001b[0m\u001b[0;34m:\u001b[0m\u001b[0;34m\u001b[0m\u001b[0;34m\u001b[0m\u001b[0m\n\u001b[0;32m--> 828\u001b[0;31m       \u001b[0mresult\u001b[0m \u001b[0;34m=\u001b[0m \u001b[0mself\u001b[0m\u001b[0;34m.\u001b[0m\u001b[0m_call\u001b[0m\u001b[0;34m(\u001b[0m\u001b[0;34m*\u001b[0m\u001b[0margs\u001b[0m\u001b[0;34m,\u001b[0m \u001b[0;34m**\u001b[0m\u001b[0mkwds\u001b[0m\u001b[0;34m)\u001b[0m\u001b[0;34m\u001b[0m\u001b[0;34m\u001b[0m\u001b[0m\n\u001b[0m\u001b[1;32m    829\u001b[0m       \u001b[0mcompiler\u001b[0m \u001b[0;34m=\u001b[0m \u001b[0;34m\"xla\"\u001b[0m \u001b[0;32mif\u001b[0m \u001b[0mself\u001b[0m\u001b[0;34m.\u001b[0m\u001b[0m_experimental_compile\u001b[0m \u001b[0;32melse\u001b[0m \u001b[0;34m\"nonXla\"\u001b[0m\u001b[0;34m\u001b[0m\u001b[0;34m\u001b[0m\u001b[0m\n\u001b[1;32m    830\u001b[0m       \u001b[0mnew_tracing_count\u001b[0m \u001b[0;34m=\u001b[0m \u001b[0mself\u001b[0m\u001b[0;34m.\u001b[0m\u001b[0mexperimental_get_tracing_count\u001b[0m\u001b[0;34m(\u001b[0m\u001b[0;34m)\u001b[0m\u001b[0;34m\u001b[0m\u001b[0;34m\u001b[0m\u001b[0m\n",
            "\u001b[0;32m/usr/local/lib/python3.6/dist-packages/tensorflow/python/eager/def_function.py\u001b[0m in \u001b[0;36m_call\u001b[0;34m(self, *args, **kwds)\u001b[0m\n\u001b[1;32m    853\u001b[0m       \u001b[0;31m# In this case we have created variables on the first call, so we run the\u001b[0m\u001b[0;34m\u001b[0m\u001b[0;34m\u001b[0m\u001b[0;34m\u001b[0m\u001b[0m\n\u001b[1;32m    854\u001b[0m       \u001b[0;31m# defunned version which is guaranteed to never create variables.\u001b[0m\u001b[0;34m\u001b[0m\u001b[0;34m\u001b[0m\u001b[0;34m\u001b[0m\u001b[0m\n\u001b[0;32m--> 855\u001b[0;31m       \u001b[0;32mreturn\u001b[0m \u001b[0mself\u001b[0m\u001b[0;34m.\u001b[0m\u001b[0m_stateless_fn\u001b[0m\u001b[0;34m(\u001b[0m\u001b[0;34m*\u001b[0m\u001b[0margs\u001b[0m\u001b[0;34m,\u001b[0m \u001b[0;34m**\u001b[0m\u001b[0mkwds\u001b[0m\u001b[0;34m)\u001b[0m  \u001b[0;31m# pylint: disable=not-callable\u001b[0m\u001b[0;34m\u001b[0m\u001b[0;34m\u001b[0m\u001b[0m\n\u001b[0m\u001b[1;32m    856\u001b[0m     \u001b[0;32melif\u001b[0m \u001b[0mself\u001b[0m\u001b[0;34m.\u001b[0m\u001b[0m_stateful_fn\u001b[0m \u001b[0;32mis\u001b[0m \u001b[0;32mnot\u001b[0m \u001b[0;32mNone\u001b[0m\u001b[0;34m:\u001b[0m\u001b[0;34m\u001b[0m\u001b[0;34m\u001b[0m\u001b[0m\n\u001b[1;32m    857\u001b[0m       \u001b[0;31m# Release the lock early so that multiple threads can perform the call\u001b[0m\u001b[0;34m\u001b[0m\u001b[0;34m\u001b[0m\u001b[0;34m\u001b[0m\u001b[0m\n",
            "\u001b[0;32m/usr/local/lib/python3.6/dist-packages/tensorflow/python/eager/function.py\u001b[0m in \u001b[0;36m__call__\u001b[0;34m(self, *args, **kwargs)\u001b[0m\n\u001b[1;32m   2941\u001b[0m        filtered_flat_args) = self._maybe_define_function(args, kwargs)\n\u001b[1;32m   2942\u001b[0m     return graph_function._call_flat(\n\u001b[0;32m-> 2943\u001b[0;31m         filtered_flat_args, captured_inputs=graph_function.captured_inputs)  # pylint: disable=protected-access\n\u001b[0m\u001b[1;32m   2944\u001b[0m \u001b[0;34m\u001b[0m\u001b[0m\n\u001b[1;32m   2945\u001b[0m   \u001b[0;34m@\u001b[0m\u001b[0mproperty\u001b[0m\u001b[0;34m\u001b[0m\u001b[0;34m\u001b[0m\u001b[0m\n",
            "\u001b[0;32m/usr/local/lib/python3.6/dist-packages/tensorflow/python/eager/function.py\u001b[0m in \u001b[0;36m_call_flat\u001b[0;34m(self, args, captured_inputs, cancellation_manager)\u001b[0m\n\u001b[1;32m   1917\u001b[0m       \u001b[0;31m# No tape is watching; skip to running the function.\u001b[0m\u001b[0;34m\u001b[0m\u001b[0;34m\u001b[0m\u001b[0;34m\u001b[0m\u001b[0m\n\u001b[1;32m   1918\u001b[0m       return self._build_call_outputs(self._inference_function.call(\n\u001b[0;32m-> 1919\u001b[0;31m           ctx, args, cancellation_manager=cancellation_manager))\n\u001b[0m\u001b[1;32m   1920\u001b[0m     forward_backward = self._select_forward_and_backward_functions(\n\u001b[1;32m   1921\u001b[0m         \u001b[0margs\u001b[0m\u001b[0;34m,\u001b[0m\u001b[0;34m\u001b[0m\u001b[0;34m\u001b[0m\u001b[0m\n",
            "\u001b[0;32m/usr/local/lib/python3.6/dist-packages/tensorflow/python/eager/function.py\u001b[0m in \u001b[0;36mcall\u001b[0;34m(self, ctx, args, cancellation_manager)\u001b[0m\n\u001b[1;32m    558\u001b[0m               \u001b[0minputs\u001b[0m\u001b[0;34m=\u001b[0m\u001b[0margs\u001b[0m\u001b[0;34m,\u001b[0m\u001b[0;34m\u001b[0m\u001b[0;34m\u001b[0m\u001b[0m\n\u001b[1;32m    559\u001b[0m               \u001b[0mattrs\u001b[0m\u001b[0;34m=\u001b[0m\u001b[0mattrs\u001b[0m\u001b[0;34m,\u001b[0m\u001b[0;34m\u001b[0m\u001b[0;34m\u001b[0m\u001b[0m\n\u001b[0;32m--> 560\u001b[0;31m               ctx=ctx)\n\u001b[0m\u001b[1;32m    561\u001b[0m         \u001b[0;32melse\u001b[0m\u001b[0;34m:\u001b[0m\u001b[0;34m\u001b[0m\u001b[0;34m\u001b[0m\u001b[0m\n\u001b[1;32m    562\u001b[0m           outputs = execute.execute_with_cancellation(\n",
            "\u001b[0;32m/usr/local/lib/python3.6/dist-packages/tensorflow/python/eager/execute.py\u001b[0m in \u001b[0;36mquick_execute\u001b[0;34m(op_name, num_outputs, inputs, attrs, ctx, name)\u001b[0m\n\u001b[1;32m     58\u001b[0m     \u001b[0mctx\u001b[0m\u001b[0;34m.\u001b[0m\u001b[0mensure_initialized\u001b[0m\u001b[0;34m(\u001b[0m\u001b[0;34m)\u001b[0m\u001b[0;34m\u001b[0m\u001b[0;34m\u001b[0m\u001b[0m\n\u001b[1;32m     59\u001b[0m     tensors = pywrap_tfe.TFE_Py_Execute(ctx._handle, device_name, op_name,\n\u001b[0;32m---> 60\u001b[0;31m                                         inputs, attrs, num_outputs)\n\u001b[0m\u001b[1;32m     61\u001b[0m   \u001b[0;32mexcept\u001b[0m \u001b[0mcore\u001b[0m\u001b[0;34m.\u001b[0m\u001b[0m_NotOkStatusException\u001b[0m \u001b[0;32mas\u001b[0m \u001b[0me\u001b[0m\u001b[0;34m:\u001b[0m\u001b[0;34m\u001b[0m\u001b[0;34m\u001b[0m\u001b[0m\n\u001b[1;32m     62\u001b[0m     \u001b[0;32mif\u001b[0m \u001b[0mname\u001b[0m \u001b[0;32mis\u001b[0m \u001b[0;32mnot\u001b[0m \u001b[0;32mNone\u001b[0m\u001b[0;34m:\u001b[0m\u001b[0;34m\u001b[0m\u001b[0;34m\u001b[0m\u001b[0m\n",
            "\u001b[0;31mKeyboardInterrupt\u001b[0m: "
          ]
        }
      ]
    },
    {
      "cell_type": "code",
      "metadata": {
        "colab": {
          "base_uri": "https://localhost:8080/"
        },
        "id": "LUkwivx4rsf5",
        "outputId": "4a9db81a-b160-4710-e930-95781f598330"
      },
      "source": [
        "base_model=MobileNet(weights='imagenet',include_top=False) #impo\r\n",
        "x=base_model.output\r\n",
        "x=GlobalAveragePooling2D()(x)\r\n",
        "x=Dense(1024,activation='relu')(x) #we add dense layers so that the model can learn more complex functions and classify for better results.\r\n",
        "x=Dense(1024,activation='relu')(x) #dense layer 2\r\n",
        "x=Dense(512,activation='relu')(x) #dense layer 3\r\n",
        "preds=Dense(10,activation='softmax')(x) #final layer with softmax activation\r\n",
        "\r\n",
        "modelMobileNet=Model(inputs=base_model.input,outputs=preds)\r\n",
        "\r\n",
        "modelMobileNet.compile(loss ='categorical_crossentropy', \r\n",
        "                     optimizer ='adam', \r\n",
        "                   metrics =['accuracy']) \r\n",
        "modelMobileNet.summary()\r\n"
      ],
      "execution_count": null,
      "outputs": [
        {
          "output_type": "stream",
          "text": [
            "WARNING:tensorflow:`input_shape` is undefined or non-square, or `rows` is not in [128, 160, 192, 224]. Weights for input shape (224, 224) will be loaded as the default.\n",
            "Model: \"model_3\"\n",
            "_________________________________________________________________\n",
            "Layer (type)                 Output Shape              Param #   \n",
            "=================================================================\n",
            "input_4 (InputLayer)         [(None, None, None, 3)]   0         \n",
            "_________________________________________________________________\n",
            "conv1 (Conv2D)               (None, None, None, 32)    864       \n",
            "_________________________________________________________________\n",
            "conv1_bn (BatchNormalization (None, None, None, 32)    128       \n",
            "_________________________________________________________________\n",
            "conv1_relu (ReLU)            (None, None, None, 32)    0         \n",
            "_________________________________________________________________\n",
            "conv_dw_1 (DepthwiseConv2D)  (None, None, None, 32)    288       \n",
            "_________________________________________________________________\n",
            "conv_dw_1_bn (BatchNormaliza (None, None, None, 32)    128       \n",
            "_________________________________________________________________\n",
            "conv_dw_1_relu (ReLU)        (None, None, None, 32)    0         \n",
            "_________________________________________________________________\n",
            "conv_pw_1 (Conv2D)           (None, None, None, 64)    2048      \n",
            "_________________________________________________________________\n",
            "conv_pw_1_bn (BatchNormaliza (None, None, None, 64)    256       \n",
            "_________________________________________________________________\n",
            "conv_pw_1_relu (ReLU)        (None, None, None, 64)    0         \n",
            "_________________________________________________________________\n",
            "conv_pad_2 (ZeroPadding2D)   (None, None, None, 64)    0         \n",
            "_________________________________________________________________\n",
            "conv_dw_2 (DepthwiseConv2D)  (None, None, None, 64)    576       \n",
            "_________________________________________________________________\n",
            "conv_dw_2_bn (BatchNormaliza (None, None, None, 64)    256       \n",
            "_________________________________________________________________\n",
            "conv_dw_2_relu (ReLU)        (None, None, None, 64)    0         \n",
            "_________________________________________________________________\n",
            "conv_pw_2 (Conv2D)           (None, None, None, 128)   8192      \n",
            "_________________________________________________________________\n",
            "conv_pw_2_bn (BatchNormaliza (None, None, None, 128)   512       \n",
            "_________________________________________________________________\n",
            "conv_pw_2_relu (ReLU)        (None, None, None, 128)   0         \n",
            "_________________________________________________________________\n",
            "conv_dw_3 (DepthwiseConv2D)  (None, None, None, 128)   1152      \n",
            "_________________________________________________________________\n",
            "conv_dw_3_bn (BatchNormaliza (None, None, None, 128)   512       \n",
            "_________________________________________________________________\n",
            "conv_dw_3_relu (ReLU)        (None, None, None, 128)   0         \n",
            "_________________________________________________________________\n",
            "conv_pw_3 (Conv2D)           (None, None, None, 128)   16384     \n",
            "_________________________________________________________________\n",
            "conv_pw_3_bn (BatchNormaliza (None, None, None, 128)   512       \n",
            "_________________________________________________________________\n",
            "conv_pw_3_relu (ReLU)        (None, None, None, 128)   0         \n",
            "_________________________________________________________________\n",
            "conv_pad_4 (ZeroPadding2D)   (None, None, None, 128)   0         \n",
            "_________________________________________________________________\n",
            "conv_dw_4 (DepthwiseConv2D)  (None, None, None, 128)   1152      \n",
            "_________________________________________________________________\n",
            "conv_dw_4_bn (BatchNormaliza (None, None, None, 128)   512       \n",
            "_________________________________________________________________\n",
            "conv_dw_4_relu (ReLU)        (None, None, None, 128)   0         \n",
            "_________________________________________________________________\n",
            "conv_pw_4 (Conv2D)           (None, None, None, 256)   32768     \n",
            "_________________________________________________________________\n",
            "conv_pw_4_bn (BatchNormaliza (None, None, None, 256)   1024      \n",
            "_________________________________________________________________\n",
            "conv_pw_4_relu (ReLU)        (None, None, None, 256)   0         \n",
            "_________________________________________________________________\n",
            "conv_dw_5 (DepthwiseConv2D)  (None, None, None, 256)   2304      \n",
            "_________________________________________________________________\n",
            "conv_dw_5_bn (BatchNormaliza (None, None, None, 256)   1024      \n",
            "_________________________________________________________________\n",
            "conv_dw_5_relu (ReLU)        (None, None, None, 256)   0         \n",
            "_________________________________________________________________\n",
            "conv_pw_5 (Conv2D)           (None, None, None, 256)   65536     \n",
            "_________________________________________________________________\n",
            "conv_pw_5_bn (BatchNormaliza (None, None, None, 256)   1024      \n",
            "_________________________________________________________________\n",
            "conv_pw_5_relu (ReLU)        (None, None, None, 256)   0         \n",
            "_________________________________________________________________\n",
            "conv_pad_6 (ZeroPadding2D)   (None, None, None, 256)   0         \n",
            "_________________________________________________________________\n",
            "conv_dw_6 (DepthwiseConv2D)  (None, None, None, 256)   2304      \n",
            "_________________________________________________________________\n",
            "conv_dw_6_bn (BatchNormaliza (None, None, None, 256)   1024      \n",
            "_________________________________________________________________\n",
            "conv_dw_6_relu (ReLU)        (None, None, None, 256)   0         \n",
            "_________________________________________________________________\n",
            "conv_pw_6 (Conv2D)           (None, None, None, 512)   131072    \n",
            "_________________________________________________________________\n",
            "conv_pw_6_bn (BatchNormaliza (None, None, None, 512)   2048      \n",
            "_________________________________________________________________\n",
            "conv_pw_6_relu (ReLU)        (None, None, None, 512)   0         \n",
            "_________________________________________________________________\n",
            "conv_dw_7 (DepthwiseConv2D)  (None, None, None, 512)   4608      \n",
            "_________________________________________________________________\n",
            "conv_dw_7_bn (BatchNormaliza (None, None, None, 512)   2048      \n",
            "_________________________________________________________________\n",
            "conv_dw_7_relu (ReLU)        (None, None, None, 512)   0         \n",
            "_________________________________________________________________\n",
            "conv_pw_7 (Conv2D)           (None, None, None, 512)   262144    \n",
            "_________________________________________________________________\n",
            "conv_pw_7_bn (BatchNormaliza (None, None, None, 512)   2048      \n",
            "_________________________________________________________________\n",
            "conv_pw_7_relu (ReLU)        (None, None, None, 512)   0         \n",
            "_________________________________________________________________\n",
            "conv_dw_8 (DepthwiseConv2D)  (None, None, None, 512)   4608      \n",
            "_________________________________________________________________\n",
            "conv_dw_8_bn (BatchNormaliza (None, None, None, 512)   2048      \n",
            "_________________________________________________________________\n",
            "conv_dw_8_relu (ReLU)        (None, None, None, 512)   0         \n",
            "_________________________________________________________________\n",
            "conv_pw_8 (Conv2D)           (None, None, None, 512)   262144    \n",
            "_________________________________________________________________\n",
            "conv_pw_8_bn (BatchNormaliza (None, None, None, 512)   2048      \n",
            "_________________________________________________________________\n",
            "conv_pw_8_relu (ReLU)        (None, None, None, 512)   0         \n",
            "_________________________________________________________________\n",
            "conv_dw_9 (DepthwiseConv2D)  (None, None, None, 512)   4608      \n",
            "_________________________________________________________________\n",
            "conv_dw_9_bn (BatchNormaliza (None, None, None, 512)   2048      \n",
            "_________________________________________________________________\n",
            "conv_dw_9_relu (ReLU)        (None, None, None, 512)   0         \n",
            "_________________________________________________________________\n",
            "conv_pw_9 (Conv2D)           (None, None, None, 512)   262144    \n",
            "_________________________________________________________________\n",
            "conv_pw_9_bn (BatchNormaliza (None, None, None, 512)   2048      \n",
            "_________________________________________________________________\n",
            "conv_pw_9_relu (ReLU)        (None, None, None, 512)   0         \n",
            "_________________________________________________________________\n",
            "conv_dw_10 (DepthwiseConv2D) (None, None, None, 512)   4608      \n",
            "_________________________________________________________________\n",
            "conv_dw_10_bn (BatchNormaliz (None, None, None, 512)   2048      \n",
            "_________________________________________________________________\n",
            "conv_dw_10_relu (ReLU)       (None, None, None, 512)   0         \n",
            "_________________________________________________________________\n",
            "conv_pw_10 (Conv2D)          (None, None, None, 512)   262144    \n",
            "_________________________________________________________________\n",
            "conv_pw_10_bn (BatchNormaliz (None, None, None, 512)   2048      \n",
            "_________________________________________________________________\n",
            "conv_pw_10_relu (ReLU)       (None, None, None, 512)   0         \n",
            "_________________________________________________________________\n",
            "conv_dw_11 (DepthwiseConv2D) (None, None, None, 512)   4608      \n",
            "_________________________________________________________________\n",
            "conv_dw_11_bn (BatchNormaliz (None, None, None, 512)   2048      \n",
            "_________________________________________________________________\n",
            "conv_dw_11_relu (ReLU)       (None, None, None, 512)   0         \n",
            "_________________________________________________________________\n",
            "conv_pw_11 (Conv2D)          (None, None, None, 512)   262144    \n",
            "_________________________________________________________________\n",
            "conv_pw_11_bn (BatchNormaliz (None, None, None, 512)   2048      \n",
            "_________________________________________________________________\n",
            "conv_pw_11_relu (ReLU)       (None, None, None, 512)   0         \n",
            "_________________________________________________________________\n",
            "conv_pad_12 (ZeroPadding2D)  (None, None, None, 512)   0         \n",
            "_________________________________________________________________\n",
            "conv_dw_12 (DepthwiseConv2D) (None, None, None, 512)   4608      \n",
            "_________________________________________________________________\n",
            "conv_dw_12_bn (BatchNormaliz (None, None, None, 512)   2048      \n",
            "_________________________________________________________________\n",
            "conv_dw_12_relu (ReLU)       (None, None, None, 512)   0         \n",
            "_________________________________________________________________\n",
            "conv_pw_12 (Conv2D)          (None, None, None, 1024)  524288    \n",
            "_________________________________________________________________\n",
            "conv_pw_12_bn (BatchNormaliz (None, None, None, 1024)  4096      \n",
            "_________________________________________________________________\n",
            "conv_pw_12_relu (ReLU)       (None, None, None, 1024)  0         \n",
            "_________________________________________________________________\n",
            "conv_dw_13 (DepthwiseConv2D) (None, None, None, 1024)  9216      \n",
            "_________________________________________________________________\n",
            "conv_dw_13_bn (BatchNormaliz (None, None, None, 1024)  4096      \n",
            "_________________________________________________________________\n",
            "conv_dw_13_relu (ReLU)       (None, None, None, 1024)  0         \n",
            "_________________________________________________________________\n",
            "conv_pw_13 (Conv2D)          (None, None, None, 1024)  1048576   \n",
            "_________________________________________________________________\n",
            "conv_pw_13_bn (BatchNormaliz (None, None, None, 1024)  4096      \n",
            "_________________________________________________________________\n",
            "conv_pw_13_relu (ReLU)       (None, None, None, 1024)  0         \n",
            "_________________________________________________________________\n",
            "global_average_pooling2d_3 ( (None, 1024)              0         \n",
            "_________________________________________________________________\n",
            "dense_47 (Dense)             (None, 1024)              1049600   \n",
            "_________________________________________________________________\n",
            "dense_48 (Dense)             (None, 1024)              1049600   \n",
            "_________________________________________________________________\n",
            "dense_49 (Dense)             (None, 512)               524800    \n",
            "_________________________________________________________________\n",
            "dense_50 (Dense)             (None, 10)                5130      \n",
            "=================================================================\n",
            "Total params: 5,857,994\n",
            "Trainable params: 5,836,106\n",
            "Non-trainable params: 21,888\n",
            "_________________________________________________________________\n"
          ],
          "name": "stdout"
        }
      ]
    },
    {
      "cell_type": "code",
      "metadata": {
        "colab": {
          "base_uri": "https://localhost:8080/"
        },
        "id": "in0dkb3YsF4Y",
        "outputId": "44a9da79-80a5-4a9f-f9b3-5109d4741b01"
      },
      "source": [
        "historyMobileNet = modelMobileNet.fit(train_images, train_labels, epochs=10\r\n",
        "          ,validation_data=(test_images, test_labels) )"
      ],
      "execution_count": null,
      "outputs": [
        {
          "output_type": "stream",
          "text": [
            "Epoch 1/10\n",
            "1019/1019 [==============================] - 438s 428ms/step - loss: 0.6193 - accuracy: 0.8193 - val_loss: 0.4132 - val_accuracy: 0.9224\n",
            "Epoch 2/10\n",
            "1019/1019 [==============================] - 435s 427ms/step - loss: 0.1929 - accuracy: 0.9605 - val_loss: 0.1379 - val_accuracy: 0.9608\n",
            "Epoch 3/10\n",
            "1019/1019 [==============================] - 433s 425ms/step - loss: 0.1333 - accuracy: 0.9727 - val_loss: 0.6598 - val_accuracy: 0.8707\n",
            "Epoch 4/10\n",
            "1019/1019 [==============================] - 440s 432ms/step - loss: 0.0971 - accuracy: 0.9811 - val_loss: 0.1407 - val_accuracy: 0.9645\n",
            "Epoch 5/10\n",
            "1019/1019 [==============================] - 438s 430ms/step - loss: 0.0959 - accuracy: 0.9821 - val_loss: 0.0547 - val_accuracy: 0.9866\n",
            "Epoch 6/10\n",
            "1019/1019 [==============================] - 427s 419ms/step - loss: 0.0999 - accuracy: 0.9813 - val_loss: 0.6266 - val_accuracy: 0.8489\n",
            "Epoch 7/10\n",
            "1019/1019 [==============================] - 429s 421ms/step - loss: 0.1707 - accuracy: 0.9724 - val_loss: 0.1035 - val_accuracy: 0.9846\n",
            "Epoch 8/10\n",
            "1019/1019 [==============================] - 436s 428ms/step - loss: 0.0476 - accuracy: 0.9922 - val_loss: 0.1016 - val_accuracy: 0.9821\n",
            "Epoch 9/10\n",
            "1019/1019 [==============================] - 438s 430ms/step - loss: 0.0592 - accuracy: 0.9897 - val_loss: 0.2649 - val_accuracy: 0.9438\n",
            "Epoch 10/10\n",
            "1019/1019 [==============================] - 433s 425ms/step - loss: 0.0926 - accuracy: 0.9853 - val_loss: 0.2461 - val_accuracy: 0.9528\n"
          ],
          "name": "stdout"
        }
      ]
    },
    {
      "cell_type": "code",
      "metadata": {
        "colab": {
          "base_uri": "https://localhost:8080/"
        },
        "id": "7QDcXoDj6DDi",
        "outputId": "507b2384-f91e-4654-8de3-d8a6efc8dd63"
      },
      "source": [
        "pred_labels = modelMobileNet.predict(test_images)\r\n",
        "zo_lossMobileNet = zero_one(pred_labels,test_labels)\r\n",
        "print(\"Zero one loss: \",zo_lossMobileNet)"
      ],
      "execution_count": null,
      "outputs": [
        {
          "output_type": "stream",
          "text": [
            "Zero one loss:  0.04722171281863197\n"
          ],
          "name": "stdout"
        }
      ]
    },
    {
      "cell_type": "code",
      "metadata": {
        "colab": {
          "base_uri": "https://localhost:8080/"
        },
        "id": "Gpb3K3Jp9krQ",
        "outputId": "44dd026b-59fe-4cc6-ed02-0ea10176deb8"
      },
      "source": [
        "resnet_model = ResNet50(weights='imagenet', include_top=False, input_shape=(32, 32, 3))\r\n",
        "\r\n",
        "modelResNet50 = tf.keras.Sequential()\r\n",
        "modelResNet50.add(resnet_model)\r\n",
        "modelResNet50.add(GlobalAveragePooling2D())\r\n",
        "modelResNet50.add(Dense(10, activation='softmax'))\r\n",
        "  \r\n",
        "modelResNet50.compile(loss ='categorical_crossentropy', \r\n",
        "                     optimizer ='adam', \r\n",
        "                   metrics =['accuracy']) \r\n",
        "modelResNet50.summary()\r\n"
      ],
      "execution_count": null,
      "outputs": [
        {
          "output_type": "stream",
          "text": [
            "Downloading data from https://storage.googleapis.com/tensorflow/keras-applications/resnet/resnet50_weights_tf_dim_ordering_tf_kernels_notop.h5\n",
            "94773248/94765736 [==============================] - 2s 0us/step\n",
            "Model: \"sequential_14\"\n",
            "_________________________________________________________________\n",
            "Layer (type)                 Output Shape              Param #   \n",
            "=================================================================\n",
            "resnet50 (Functional)        (None, 1, 1, 2048)        23587712  \n",
            "_________________________________________________________________\n",
            "global_average_pooling2d_4 ( (None, 2048)              0         \n",
            "_________________________________________________________________\n",
            "dense_51 (Dense)             (None, 10)                20490     \n",
            "=================================================================\n",
            "Total params: 23,608,202\n",
            "Trainable params: 23,555,082\n",
            "Non-trainable params: 53,120\n",
            "_________________________________________________________________\n"
          ],
          "name": "stdout"
        }
      ]
    },
    {
      "cell_type": "code",
      "metadata": {
        "colab": {
          "base_uri": "https://localhost:8080/"
        },
        "id": "lTp6y67D9oB9",
        "outputId": "0df38227-31ef-4ec9-a4ef-891f83c09e44"
      },
      "source": [
        "\r\n",
        "historyResNet50 = modelResNet50.fit(train_images, train_labels, epochs=10\r\n",
        "          ,validation_data=(test_images, test_labels) )"
      ],
      "execution_count": null,
      "outputs": [
        {
          "output_type": "stream",
          "text": [
            "Epoch 1/10\n",
            "1019/1019 [==============================] - 2305s 2s/step - loss: 0.8542 - accuracy: 0.8064 - val_loss: 0.4772 - val_accuracy: 0.8461\n",
            "Epoch 2/10\n",
            "1019/1019 [==============================] - 2295s 2s/step - loss: 0.2567 - accuracy: 0.9510 - val_loss: 0.1925 - val_accuracy: 0.9444\n",
            "Epoch 3/10\n",
            " 349/1019 [=========>....................] - ETA: 25:03 - loss: 0.3057 - accuracy: 0.9280"
          ],
          "name": "stdout"
        }
      ]
    }
  ]
}